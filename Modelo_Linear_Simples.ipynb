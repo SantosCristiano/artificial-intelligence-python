{
  "nbformat": 4,
  "nbformat_minor": 0,
  "metadata": {
    "colab": {
      "provenance": [],
      "include_colab_link": true
    },
    "kernelspec": {
      "name": "python3",
      "display_name": "Python 3"
    }
  },
  "cells": [
    {
      "cell_type": "markdown",
      "metadata": {
        "id": "view-in-github",
        "colab_type": "text"
      },
      "source": [
        "<a href=\"https://colab.research.google.com/github/SantosCristiano/artificial-intelligence-python/blob/main/Modelo_Linear_Simples.ipynb\" target=\"_parent\"><img src=\"https://colab.research.google.com/assets/colab-badge.svg\" alt=\"Open In Colab\"/></a>"
      ]
    },
    {
      "cell_type": "markdown",
      "metadata": {
        "id": "LWpFfw10Gq1J"
      },
      "source": [
        "# Tensorflow 1"
      ]
    },
    {
      "cell_type": "markdown",
      "metadata": {
        "id": "XsX7d_y8KU5r"
      },
      "source": [
        "## Aula 12 - Tensor Flow - Redes Neurais - Modelo Linear Simples"
      ]
    },
    {
      "cell_type": "markdown",
      "metadata": {
        "id": "PeIYprAwjwdI"
      },
      "source": [
        "### Importando o tensorflow e o numpy"
      ]
    },
    {
      "cell_type": "code",
      "metadata": {
        "id": "sTkYG56CGy1T",
        "colab": {
          "base_uri": "https://localhost:8080/"
        },
        "outputId": "8cdc8aa1-f1e7-4a43-d445-4c0fea4e88bf"
      },
      "source": [
        "import tensorflow.compat.v1 as tf\n",
        "tf.disable_v2_behavior()\n",
        "import numpy as np"
      ],
      "execution_count": null,
      "outputs": [
        {
          "output_type": "stream",
          "text": [
            "WARNING:tensorflow:From /usr/local/lib/python3.7/dist-packages/tensorflow/python/compat/v2_compat.py:96: disable_resource_variables (from tensorflow.python.ops.variable_scope) is deprecated and will be removed in a future version.\n",
            "Instructions for updating:\n",
            "non-resource variables are not supported in the long term\n"
          ],
          "name": "stdout"
        }
      ]
    },
    {
      "cell_type": "markdown",
      "metadata": {
        "id": "5BCk9M_KkFKM"
      },
      "source": [
        "### Função que define a semente aleatória do gerador de números pseudo-aleatórios NumPy."
      ]
    },
    {
      "cell_type": "code",
      "metadata": {
        "id": "QlV7olPhhMw-"
      },
      "source": [
        "np.random.seed(97)"
      ],
      "execution_count": null,
      "outputs": []
    },
    {
      "cell_type": "markdown",
      "metadata": {
        "id": "fJs0ydgRkN4U"
      },
      "source": [
        "O <strong>tf.set_random_seed()</strong> define a semente no nível do gráfico, portanto, ele seleciona deterministicamente a semente para cada operação no gráfico."
      ]
    },
    {
      "cell_type": "code",
      "metadata": {
        "id": "HKwtVrQ1kOQb"
      },
      "source": [
        "tf.set_random_seed(97)"
      ],
      "execution_count": null,
      "outputs": []
    },
    {
      "cell_type": "markdown",
      "metadata": {
        "id": "HLKdIiqKk-MB"
      },
      "source": [
        "## Criando pontos aleatórios"
      ]
    },
    {
      "cell_type": "code",
      "metadata": {
        "colab": {
          "base_uri": "https://localhost:8080/"
        },
        "id": "tW0h3hfIk6hB",
        "outputId": "5652c59c-8112-418c-d63e-cba1151b6bea"
      },
      "source": [
        "rand_a = np.random.uniform(0, 100, (5, 5))\n",
        "print(rand_a)"
      ],
      "execution_count": null,
      "outputs": [
        {
          "output_type": "stream",
          "text": [
            "[[83.69441243 97.02358519 44.71537853 28.4581009  77.1216588 ]\n",
            " [29.89436322 97.63350749 92.91519751 20.46740657 34.51435172]\n",
            " [21.24000499 29.88601069 34.3650434  90.99622188 13.56417955]\n",
            " [19.48130578 16.08089137 11.21564326 41.51513221 30.13922734]\n",
            " [13.66098653 76.53951219 60.25384672 61.68587746 66.67817962]]\n"
          ],
          "name": "stdout"
        }
      ]
    },
    {
      "cell_type": "code",
      "metadata": {
        "colab": {
          "base_uri": "https://localhost:8080/"
        },
        "id": "9D-uJhH8lvSC",
        "outputId": "8b90d44a-3ae7-4d17-d6d6-b5c058bbc2f8"
      },
      "source": [
        "rand_b = np.random.uniform(0, 100, (5, 1))\n",
        "print(rand_b)"
      ],
      "execution_count": null,
      "outputs": [
        {
          "output_type": "stream",
          "text": [
            "[[74.0853362 ]\n",
            " [40.57025945]\n",
            " [17.47357112]\n",
            " [17.24896835]\n",
            " [32.96277163]]\n"
          ],
          "name": "stdout"
        }
      ]
    },
    {
      "cell_type": "markdown",
      "metadata": {
        "id": "_3ZbP3pol8YI"
      },
      "source": [
        "## Criando as variáveis <strong>a</strong> e <strong>b</strong>"
      ]
    },
    {
      "cell_type": "code",
      "metadata": {
        "id": "tCKG8noNl_uB"
      },
      "source": [
        "a = tf.placeholder(tf.float32)"
      ],
      "execution_count": null,
      "outputs": []
    },
    {
      "cell_type": "code",
      "metadata": {
        "id": "j_dETypSmR8i"
      },
      "source": [
        "b = tf.placeholder(tf.float32)"
      ],
      "execution_count": null,
      "outputs": []
    },
    {
      "cell_type": "markdown",
      "metadata": {
        "id": "gSZ_u-KAmrxx"
      },
      "source": [
        "## Operações de adição e de multiplicação"
      ]
    },
    {
      "cell_type": "code",
      "metadata": {
        "id": "5O-2Q5rxmrVl"
      },
      "source": [
        "add_op = a + b"
      ],
      "execution_count": null,
      "outputs": []
    },
    {
      "cell_type": "code",
      "metadata": {
        "id": "Jx_L-Or-m5A8"
      },
      "source": [
        "mult_op = a * b"
      ],
      "execution_count": null,
      "outputs": []
    },
    {
      "cell_type": "markdown",
      "metadata": {
        "id": "7Neo66QGnGJ2"
      },
      "source": [
        "## Criando a sessão que vai receber os dados no dicionário de feed, ou seja, de entrada"
      ]
    },
    {
      "cell_type": "code",
      "metadata": {
        "colab": {
          "base_uri": "https://localhost:8080/"
        },
        "id": "zmsYVawVnb3l",
        "outputId": "229ef739-a617-4d4b-9857-61c37c617434"
      },
      "source": [
        "with tf.Session() as sess:\n",
        "  add_result = sess.run(add_op, feed_dict = {a: 10, b: 20})\n",
        "  print(add_result)\n",
        "  mult_result = sess.run(mult_op, feed_dict = {a: 10, b: 20})\n",
        "  print(mult_result)"
      ],
      "execution_count": null,
      "outputs": [
        {
          "output_type": "stream",
          "text": [
            "30.0\n",
            "200.0\n"
          ],
          "name": "stdout"
        }
      ]
    },
    {
      "cell_type": "markdown",
      "metadata": {
        "id": "Rj093NCYoQBN"
      },
      "source": [
        "## Agora com os valores criados aleatoriamente e atribuídos a <strong>rand_a</strong> e <strong>rand_b</strong>"
      ]
    },
    {
      "cell_type": "code",
      "metadata": {
        "colab": {
          "base_uri": "https://localhost:8080/"
        },
        "id": "Gta8voJhoPKQ",
        "outputId": "1fa05f13-72da-4eb6-b8ea-1be6f7e1ed1f"
      },
      "source": [
        "with tf.Session() as sess:\n",
        "  add_result = sess.run(add_op, feed_dict = {a: rand_a, b: rand_b})\n",
        "  print(\"Adição:\")\n",
        "  print(add_result)\n",
        "  print()\n",
        "  print(\"Multiplicação:\")\n",
        "  mult_result = sess.run(mult_op, feed_dict = {a: rand_a, b: rand_b})\n",
        "  print(mult_result)"
      ],
      "execution_count": null,
      "outputs": [
        {
          "output_type": "stream",
          "text": [
            "Adição:\n",
            "[[157.77975  171.10892  118.80071  102.543434 151.207   ]\n",
            " [ 70.46462  138.20377  133.48546   61.037666  75.08461 ]\n",
            " [ 38.713577  47.35958   51.838615 108.469795  31.03775 ]\n",
            " [ 36.730274  33.329857  28.464611  58.7641    47.388195]\n",
            " [ 46.62376  109.50229   93.21661   94.64865   99.640945]]\n",
            "\n",
            "Multiplicação:\n",
            "[[6200.5283  7188.0244  3312.7537  2108.328   5713.584  ]\n",
            " [1212.822   3961.0166  3769.5938   830.36804 1400.2561 ]\n",
            " [ 371.13876  522.21533  600.48004 1590.029    237.01466]\n",
            " [ 336.03244  277.37878  193.45827  716.0932   519.87054]\n",
            " [ 450.30402 2522.9546  1986.1338  2033.3375  2197.8975 ]]\n"
          ],
          "name": "stdout"
        }
      ]
    }
  ]
}