{
  "nbformat": 4,
  "nbformat_minor": 0,
  "metadata": {
    "colab": {
      "provenance": [],
      "gpuType": "T4",
      "include_colab_link": true
    },
    "kernelspec": {
      "name": "python3",
      "display_name": "Python 3"
    },
    "language_info": {
      "name": "python"
    },
    "widgets": {
      "application/vnd.jupyter.widget-state+json": {
        "d2ff35b473874f32a280e9695a8bec33": {
          "model_module": "@jupyter-widgets/controls",
          "model_name": "HBoxModel",
          "model_module_version": "1.5.0",
          "state": {
            "_dom_classes": [],
            "_model_module": "@jupyter-widgets/controls",
            "_model_module_version": "1.5.0",
            "_model_name": "HBoxModel",
            "_view_count": null,
            "_view_module": "@jupyter-widgets/controls",
            "_view_module_version": "1.5.0",
            "_view_name": "HBoxView",
            "box_style": "",
            "children": [
              "IPY_MODEL_0552a9c364a5451bb419d8bde7474ad5",
              "IPY_MODEL_cd6b42ff063e45499ab01dc41a3f7647",
              "IPY_MODEL_c91ea5ec90fe4fd699222ca9c1804264"
            ],
            "layout": "IPY_MODEL_7a714ae9a60e4e6cab6d834d1f3ebbce"
          }
        },
        "0552a9c364a5451bb419d8bde7474ad5": {
          "model_module": "@jupyter-widgets/controls",
          "model_name": "HTMLModel",
          "model_module_version": "1.5.0",
          "state": {
            "_dom_classes": [],
            "_model_module": "@jupyter-widgets/controls",
            "_model_module_version": "1.5.0",
            "_model_name": "HTMLModel",
            "_view_count": null,
            "_view_module": "@jupyter-widgets/controls",
            "_view_module_version": "1.5.0",
            "_view_name": "HTMLView",
            "description": "",
            "description_tooltip": null,
            "layout": "IPY_MODEL_47ef5eb3b339471fa0d62806b7ac8b82",
            "placeholder": "​",
            "style": "IPY_MODEL_53d7d0429ff048e5aa82573d9aa87e48",
            "value": "100%"
          }
        },
        "cd6b42ff063e45499ab01dc41a3f7647": {
          "model_module": "@jupyter-widgets/controls",
          "model_name": "FloatProgressModel",
          "model_module_version": "1.5.0",
          "state": {
            "_dom_classes": [],
            "_model_module": "@jupyter-widgets/controls",
            "_model_module_version": "1.5.0",
            "_model_name": "FloatProgressModel",
            "_view_count": null,
            "_view_module": "@jupyter-widgets/controls",
            "_view_module_version": "1.5.0",
            "_view_name": "ProgressView",
            "bar_style": "success",
            "description": "",
            "description_tooltip": null,
            "layout": "IPY_MODEL_ad9917b3e02c462b8c95d833d0c94b2f",
            "max": 1776048343,
            "min": 0,
            "orientation": "horizontal",
            "style": "IPY_MODEL_e3ae19f5f4314c1d81873c080420225c",
            "value": 1776048343
          }
        },
        "c91ea5ec90fe4fd699222ca9c1804264": {
          "model_module": "@jupyter-widgets/controls",
          "model_name": "HTMLModel",
          "model_module_version": "1.5.0",
          "state": {
            "_dom_classes": [],
            "_model_module": "@jupyter-widgets/controls",
            "_model_module_version": "1.5.0",
            "_model_name": "HTMLModel",
            "_view_count": null,
            "_view_module": "@jupyter-widgets/controls",
            "_view_module_version": "1.5.0",
            "_view_name": "HTMLView",
            "description": "",
            "description_tooltip": null,
            "layout": "IPY_MODEL_1cbda87bc1fe4f33bb363b6b2dc24dd5",
            "placeholder": "​",
            "style": "IPY_MODEL_8f9458f32c5a422aa7db98b072cc8620",
            "value": " 1.78G/1.78G [01:31&lt;00:00, 28.7MiB/s]"
          }
        },
        "7a714ae9a60e4e6cab6d834d1f3ebbce": {
          "model_module": "@jupyter-widgets/base",
          "model_name": "LayoutModel",
          "model_module_version": "1.2.0",
          "state": {
            "_model_module": "@jupyter-widgets/base",
            "_model_module_version": "1.2.0",
            "_model_name": "LayoutModel",
            "_view_count": null,
            "_view_module": "@jupyter-widgets/base",
            "_view_module_version": "1.2.0",
            "_view_name": "LayoutView",
            "align_content": null,
            "align_items": null,
            "align_self": null,
            "border": null,
            "bottom": null,
            "display": null,
            "flex": null,
            "flex_flow": null,
            "grid_area": null,
            "grid_auto_columns": null,
            "grid_auto_flow": null,
            "grid_auto_rows": null,
            "grid_column": null,
            "grid_gap": null,
            "grid_row": null,
            "grid_template_areas": null,
            "grid_template_columns": null,
            "grid_template_rows": null,
            "height": null,
            "justify_content": null,
            "justify_items": null,
            "left": null,
            "margin": null,
            "max_height": null,
            "max_width": null,
            "min_height": null,
            "min_width": null,
            "object_fit": null,
            "object_position": null,
            "order": null,
            "overflow": null,
            "overflow_x": null,
            "overflow_y": null,
            "padding": null,
            "right": null,
            "top": null,
            "visibility": null,
            "width": null
          }
        },
        "47ef5eb3b339471fa0d62806b7ac8b82": {
          "model_module": "@jupyter-widgets/base",
          "model_name": "LayoutModel",
          "model_module_version": "1.2.0",
          "state": {
            "_model_module": "@jupyter-widgets/base",
            "_model_module_version": "1.2.0",
            "_model_name": "LayoutModel",
            "_view_count": null,
            "_view_module": "@jupyter-widgets/base",
            "_view_module_version": "1.2.0",
            "_view_name": "LayoutView",
            "align_content": null,
            "align_items": null,
            "align_self": null,
            "border": null,
            "bottom": null,
            "display": null,
            "flex": null,
            "flex_flow": null,
            "grid_area": null,
            "grid_auto_columns": null,
            "grid_auto_flow": null,
            "grid_auto_rows": null,
            "grid_column": null,
            "grid_gap": null,
            "grid_row": null,
            "grid_template_areas": null,
            "grid_template_columns": null,
            "grid_template_rows": null,
            "height": null,
            "justify_content": null,
            "justify_items": null,
            "left": null,
            "margin": null,
            "max_height": null,
            "max_width": null,
            "min_height": null,
            "min_width": null,
            "object_fit": null,
            "object_position": null,
            "order": null,
            "overflow": null,
            "overflow_x": null,
            "overflow_y": null,
            "padding": null,
            "right": null,
            "top": null,
            "visibility": null,
            "width": null
          }
        },
        "53d7d0429ff048e5aa82573d9aa87e48": {
          "model_module": "@jupyter-widgets/controls",
          "model_name": "DescriptionStyleModel",
          "model_module_version": "1.5.0",
          "state": {
            "_model_module": "@jupyter-widgets/controls",
            "_model_module_version": "1.5.0",
            "_model_name": "DescriptionStyleModel",
            "_view_count": null,
            "_view_module": "@jupyter-widgets/base",
            "_view_module_version": "1.2.0",
            "_view_name": "StyleView",
            "description_width": ""
          }
        },
        "ad9917b3e02c462b8c95d833d0c94b2f": {
          "model_module": "@jupyter-widgets/base",
          "model_name": "LayoutModel",
          "model_module_version": "1.2.0",
          "state": {
            "_model_module": "@jupyter-widgets/base",
            "_model_module_version": "1.2.0",
            "_model_name": "LayoutModel",
            "_view_count": null,
            "_view_module": "@jupyter-widgets/base",
            "_view_module_version": "1.2.0",
            "_view_name": "LayoutView",
            "align_content": null,
            "align_items": null,
            "align_self": null,
            "border": null,
            "bottom": null,
            "display": null,
            "flex": null,
            "flex_flow": null,
            "grid_area": null,
            "grid_auto_columns": null,
            "grid_auto_flow": null,
            "grid_auto_rows": null,
            "grid_column": null,
            "grid_gap": null,
            "grid_row": null,
            "grid_template_areas": null,
            "grid_template_columns": null,
            "grid_template_rows": null,
            "height": null,
            "justify_content": null,
            "justify_items": null,
            "left": null,
            "margin": null,
            "max_height": null,
            "max_width": null,
            "min_height": null,
            "min_width": null,
            "object_fit": null,
            "object_position": null,
            "order": null,
            "overflow": null,
            "overflow_x": null,
            "overflow_y": null,
            "padding": null,
            "right": null,
            "top": null,
            "visibility": null,
            "width": null
          }
        },
        "e3ae19f5f4314c1d81873c080420225c": {
          "model_module": "@jupyter-widgets/controls",
          "model_name": "ProgressStyleModel",
          "model_module_version": "1.5.0",
          "state": {
            "_model_module": "@jupyter-widgets/controls",
            "_model_module_version": "1.5.0",
            "_model_name": "ProgressStyleModel",
            "_view_count": null,
            "_view_module": "@jupyter-widgets/base",
            "_view_module_version": "1.2.0",
            "_view_name": "StyleView",
            "bar_color": null,
            "description_width": ""
          }
        },
        "1cbda87bc1fe4f33bb363b6b2dc24dd5": {
          "model_module": "@jupyter-widgets/base",
          "model_name": "LayoutModel",
          "model_module_version": "1.2.0",
          "state": {
            "_model_module": "@jupyter-widgets/base",
            "_model_module_version": "1.2.0",
            "_model_name": "LayoutModel",
            "_view_count": null,
            "_view_module": "@jupyter-widgets/base",
            "_view_module_version": "1.2.0",
            "_view_name": "LayoutView",
            "align_content": null,
            "align_items": null,
            "align_self": null,
            "border": null,
            "bottom": null,
            "display": null,
            "flex": null,
            "flex_flow": null,
            "grid_area": null,
            "grid_auto_columns": null,
            "grid_auto_flow": null,
            "grid_auto_rows": null,
            "grid_column": null,
            "grid_gap": null,
            "grid_row": null,
            "grid_template_areas": null,
            "grid_template_columns": null,
            "grid_template_rows": null,
            "height": null,
            "justify_content": null,
            "justify_items": null,
            "left": null,
            "margin": null,
            "max_height": null,
            "max_width": null,
            "min_height": null,
            "min_width": null,
            "object_fit": null,
            "object_position": null,
            "order": null,
            "overflow": null,
            "overflow_x": null,
            "overflow_y": null,
            "padding": null,
            "right": null,
            "top": null,
            "visibility": null,
            "width": null
          }
        },
        "8f9458f32c5a422aa7db98b072cc8620": {
          "model_module": "@jupyter-widgets/controls",
          "model_name": "DescriptionStyleModel",
          "model_module_version": "1.5.0",
          "state": {
            "_model_module": "@jupyter-widgets/controls",
            "_model_module_version": "1.5.0",
            "_model_name": "DescriptionStyleModel",
            "_view_count": null,
            "_view_module": "@jupyter-widgets/base",
            "_view_module_version": "1.2.0",
            "_view_name": "StyleView",
            "description_width": ""
          }
        },
        "1c8ed02c701a4d70bfa7d4454c6a44f9": {
          "model_module": "@jupyter-widgets/controls",
          "model_name": "HBoxModel",
          "model_module_version": "1.5.0",
          "state": {
            "_dom_classes": [],
            "_model_module": "@jupyter-widgets/controls",
            "_model_module_version": "1.5.0",
            "_model_name": "HBoxModel",
            "_view_count": null,
            "_view_module": "@jupyter-widgets/controls",
            "_view_module_version": "1.5.0",
            "_view_name": "HBoxView",
            "box_style": "",
            "children": [
              "IPY_MODEL_afee2856a12640fc83a9a8984f2c07a6",
              "IPY_MODEL_1fd4dd49760842139c6977bbe16da2fd",
              "IPY_MODEL_56ee4f0e40c44ce6863a3d4f9f83e032"
            ],
            "layout": "IPY_MODEL_e00323d3783e488a8af10aed47e14e66"
          }
        },
        "afee2856a12640fc83a9a8984f2c07a6": {
          "model_module": "@jupyter-widgets/controls",
          "model_name": "HTMLModel",
          "model_module_version": "1.5.0",
          "state": {
            "_dom_classes": [],
            "_model_module": "@jupyter-widgets/controls",
            "_model_module_version": "1.5.0",
            "_model_name": "HTMLModel",
            "_view_count": null,
            "_view_module": "@jupyter-widgets/controls",
            "_view_module_version": "1.5.0",
            "_view_name": "HTMLView",
            "description": "",
            "description_tooltip": null,
            "layout": "IPY_MODEL_74a5857ac2b440199bed536e0f196383",
            "placeholder": "​",
            "style": "IPY_MODEL_60f830097c1b4622ae116fc94f31cbaa",
            "value": "100%"
          }
        },
        "1fd4dd49760842139c6977bbe16da2fd": {
          "model_module": "@jupyter-widgets/controls",
          "model_name": "FloatProgressModel",
          "model_module_version": "1.5.0",
          "state": {
            "_dom_classes": [],
            "_model_module": "@jupyter-widgets/controls",
            "_model_module_version": "1.5.0",
            "_model_name": "FloatProgressModel",
            "_view_count": null,
            "_view_module": "@jupyter-widgets/controls",
            "_view_module_version": "1.5.0",
            "_view_name": "ProgressView",
            "bar_style": "success",
            "description": "",
            "description_tooltip": null,
            "layout": "IPY_MODEL_2ce986e834eb4674b45a6f78153e4cb4",
            "max": 1262868003,
            "min": 0,
            "orientation": "horizontal",
            "style": "IPY_MODEL_33358b1c9d5a4046aeb265794ccbaaf2",
            "value": 1262868003
          }
        },
        "56ee4f0e40c44ce6863a3d4f9f83e032": {
          "model_module": "@jupyter-widgets/controls",
          "model_name": "HTMLModel",
          "model_module_version": "1.5.0",
          "state": {
            "_dom_classes": [],
            "_model_module": "@jupyter-widgets/controls",
            "_model_module_version": "1.5.0",
            "_model_name": "HTMLModel",
            "_view_count": null,
            "_view_module": "@jupyter-widgets/controls",
            "_view_module_version": "1.5.0",
            "_view_name": "HTMLView",
            "description": "",
            "description_tooltip": null,
            "layout": "IPY_MODEL_c3336e69af9c453c9a7d4d356f2a2ea0",
            "placeholder": "​",
            "style": "IPY_MODEL_a9e61e0137cb4c2491ef718008c6a555",
            "value": " 1.26G/1.26G [01:12&lt;00:00, 17.4MiB/s]"
          }
        },
        "e00323d3783e488a8af10aed47e14e66": {
          "model_module": "@jupyter-widgets/base",
          "model_name": "LayoutModel",
          "model_module_version": "1.2.0",
          "state": {
            "_model_module": "@jupyter-widgets/base",
            "_model_module_version": "1.2.0",
            "_model_name": "LayoutModel",
            "_view_count": null,
            "_view_module": "@jupyter-widgets/base",
            "_view_module_version": "1.2.0",
            "_view_name": "LayoutView",
            "align_content": null,
            "align_items": null,
            "align_self": null,
            "border": null,
            "bottom": null,
            "display": null,
            "flex": null,
            "flex_flow": null,
            "grid_area": null,
            "grid_auto_columns": null,
            "grid_auto_flow": null,
            "grid_auto_rows": null,
            "grid_column": null,
            "grid_gap": null,
            "grid_row": null,
            "grid_template_areas": null,
            "grid_template_columns": null,
            "grid_template_rows": null,
            "height": null,
            "justify_content": null,
            "justify_items": null,
            "left": null,
            "margin": null,
            "max_height": null,
            "max_width": null,
            "min_height": null,
            "min_width": null,
            "object_fit": null,
            "object_position": null,
            "order": null,
            "overflow": null,
            "overflow_x": null,
            "overflow_y": null,
            "padding": null,
            "right": null,
            "top": null,
            "visibility": null,
            "width": null
          }
        },
        "74a5857ac2b440199bed536e0f196383": {
          "model_module": "@jupyter-widgets/base",
          "model_name": "LayoutModel",
          "model_module_version": "1.2.0",
          "state": {
            "_model_module": "@jupyter-widgets/base",
            "_model_module_version": "1.2.0",
            "_model_name": "LayoutModel",
            "_view_count": null,
            "_view_module": "@jupyter-widgets/base",
            "_view_module_version": "1.2.0",
            "_view_name": "LayoutView",
            "align_content": null,
            "align_items": null,
            "align_self": null,
            "border": null,
            "bottom": null,
            "display": null,
            "flex": null,
            "flex_flow": null,
            "grid_area": null,
            "grid_auto_columns": null,
            "grid_auto_flow": null,
            "grid_auto_rows": null,
            "grid_column": null,
            "grid_gap": null,
            "grid_row": null,
            "grid_template_areas": null,
            "grid_template_columns": null,
            "grid_template_rows": null,
            "height": null,
            "justify_content": null,
            "justify_items": null,
            "left": null,
            "margin": null,
            "max_height": null,
            "max_width": null,
            "min_height": null,
            "min_width": null,
            "object_fit": null,
            "object_position": null,
            "order": null,
            "overflow": null,
            "overflow_x": null,
            "overflow_y": null,
            "padding": null,
            "right": null,
            "top": null,
            "visibility": null,
            "width": null
          }
        },
        "60f830097c1b4622ae116fc94f31cbaa": {
          "model_module": "@jupyter-widgets/controls",
          "model_name": "DescriptionStyleModel",
          "model_module_version": "1.5.0",
          "state": {
            "_model_module": "@jupyter-widgets/controls",
            "_model_module_version": "1.5.0",
            "_model_name": "DescriptionStyleModel",
            "_view_count": null,
            "_view_module": "@jupyter-widgets/base",
            "_view_module_version": "1.2.0",
            "_view_name": "StyleView",
            "description_width": ""
          }
        },
        "2ce986e834eb4674b45a6f78153e4cb4": {
          "model_module": "@jupyter-widgets/base",
          "model_name": "LayoutModel",
          "model_module_version": "1.2.0",
          "state": {
            "_model_module": "@jupyter-widgets/base",
            "_model_module_version": "1.2.0",
            "_model_name": "LayoutModel",
            "_view_count": null,
            "_view_module": "@jupyter-widgets/base",
            "_view_module_version": "1.2.0",
            "_view_name": "LayoutView",
            "align_content": null,
            "align_items": null,
            "align_self": null,
            "border": null,
            "bottom": null,
            "display": null,
            "flex": null,
            "flex_flow": null,
            "grid_area": null,
            "grid_auto_columns": null,
            "grid_auto_flow": null,
            "grid_auto_rows": null,
            "grid_column": null,
            "grid_gap": null,
            "grid_row": null,
            "grid_template_areas": null,
            "grid_template_columns": null,
            "grid_template_rows": null,
            "height": null,
            "justify_content": null,
            "justify_items": null,
            "left": null,
            "margin": null,
            "max_height": null,
            "max_width": null,
            "min_height": null,
            "min_width": null,
            "object_fit": null,
            "object_position": null,
            "order": null,
            "overflow": null,
            "overflow_x": null,
            "overflow_y": null,
            "padding": null,
            "right": null,
            "top": null,
            "visibility": null,
            "width": null
          }
        },
        "33358b1c9d5a4046aeb265794ccbaaf2": {
          "model_module": "@jupyter-widgets/controls",
          "model_name": "ProgressStyleModel",
          "model_module_version": "1.5.0",
          "state": {
            "_model_module": "@jupyter-widgets/controls",
            "_model_module_version": "1.5.0",
            "_model_name": "ProgressStyleModel",
            "_view_count": null,
            "_view_module": "@jupyter-widgets/base",
            "_view_module_version": "1.2.0",
            "_view_name": "StyleView",
            "bar_color": null,
            "description_width": ""
          }
        },
        "c3336e69af9c453c9a7d4d356f2a2ea0": {
          "model_module": "@jupyter-widgets/base",
          "model_name": "LayoutModel",
          "model_module_version": "1.2.0",
          "state": {
            "_model_module": "@jupyter-widgets/base",
            "_model_module_version": "1.2.0",
            "_model_name": "LayoutModel",
            "_view_count": null,
            "_view_module": "@jupyter-widgets/base",
            "_view_module_version": "1.2.0",
            "_view_name": "LayoutView",
            "align_content": null,
            "align_items": null,
            "align_self": null,
            "border": null,
            "bottom": null,
            "display": null,
            "flex": null,
            "flex_flow": null,
            "grid_area": null,
            "grid_auto_columns": null,
            "grid_auto_flow": null,
            "grid_auto_rows": null,
            "grid_column": null,
            "grid_gap": null,
            "grid_row": null,
            "grid_template_areas": null,
            "grid_template_columns": null,
            "grid_template_rows": null,
            "height": null,
            "justify_content": null,
            "justify_items": null,
            "left": null,
            "margin": null,
            "max_height": null,
            "max_width": null,
            "min_height": null,
            "min_width": null,
            "object_fit": null,
            "object_position": null,
            "order": null,
            "overflow": null,
            "overflow_x": null,
            "overflow_y": null,
            "padding": null,
            "right": null,
            "top": null,
            "visibility": null,
            "width": null
          }
        },
        "a9e61e0137cb4c2491ef718008c6a555": {
          "model_module": "@jupyter-widgets/controls",
          "model_name": "DescriptionStyleModel",
          "model_module_version": "1.5.0",
          "state": {
            "_model_module": "@jupyter-widgets/controls",
            "_model_module_version": "1.5.0",
            "_model_name": "DescriptionStyleModel",
            "_view_count": null,
            "_view_module": "@jupyter-widgets/base",
            "_view_module_version": "1.2.0",
            "_view_name": "StyleView",
            "description_width": ""
          }
        },
        "705500d36f094eeea4ad6419f90980a0": {
          "model_module": "@jupyter-widgets/controls",
          "model_name": "HBoxModel",
          "model_module_version": "1.5.0",
          "state": {
            "_dom_classes": [],
            "_model_module": "@jupyter-widgets/controls",
            "_model_module_version": "1.5.0",
            "_model_name": "HBoxModel",
            "_view_count": null,
            "_view_module": "@jupyter-widgets/controls",
            "_view_module_version": "1.5.0",
            "_view_name": "HBoxView",
            "box_style": "",
            "children": [
              "IPY_MODEL_fe0cb6e6b0304e15bf16c0a6c1ebacb7",
              "IPY_MODEL_18ebd5c1b2f2427da0120a7128edc4e2",
              "IPY_MODEL_1c8b054232d745d7bfacc1c3cb85a0a6"
            ],
            "layout": "IPY_MODEL_5ade331d7b3a4e7c95b5476030fef32f"
          }
        },
        "fe0cb6e6b0304e15bf16c0a6c1ebacb7": {
          "model_module": "@jupyter-widgets/controls",
          "model_name": "HTMLModel",
          "model_module_version": "1.5.0",
          "state": {
            "_dom_classes": [],
            "_model_module": "@jupyter-widgets/controls",
            "_model_module_version": "1.5.0",
            "_model_name": "HTMLModel",
            "_view_count": null,
            "_view_module": "@jupyter-widgets/controls",
            "_view_module_version": "1.5.0",
            "_view_name": "HTMLView",
            "description": "",
            "description_tooltip": null,
            "layout": "IPY_MODEL_e7e17ea26bf44aefbcabe394a3ea938d",
            "placeholder": "​",
            "style": "IPY_MODEL_0e3678c8225640f6a985fb2208ad230a",
            "value": "100%"
          }
        },
        "18ebd5c1b2f2427da0120a7128edc4e2": {
          "model_module": "@jupyter-widgets/controls",
          "model_name": "FloatProgressModel",
          "model_module_version": "1.5.0",
          "state": {
            "_dom_classes": [],
            "_model_module": "@jupyter-widgets/controls",
            "_model_module_version": "1.5.0",
            "_model_name": "FloatProgressModel",
            "_view_count": null,
            "_view_module": "@jupyter-widgets/controls",
            "_view_module_version": "1.5.0",
            "_view_name": "ProgressView",
            "bar_style": "success",
            "description": "",
            "description_tooltip": null,
            "layout": "IPY_MODEL_bd9692bc5bcb4fa986b8789a9df14bf0",
            "max": 64,
            "min": 0,
            "orientation": "horizontal",
            "style": "IPY_MODEL_97fb5941889a4c578a1344b02c40c4c2",
            "value": 64
          }
        },
        "1c8b054232d745d7bfacc1c3cb85a0a6": {
          "model_module": "@jupyter-widgets/controls",
          "model_name": "HTMLModel",
          "model_module_version": "1.5.0",
          "state": {
            "_dom_classes": [],
            "_model_module": "@jupyter-widgets/controls",
            "_model_module_version": "1.5.0",
            "_model_name": "HTMLModel",
            "_view_count": null,
            "_view_module": "@jupyter-widgets/controls",
            "_view_module_version": "1.5.0",
            "_view_name": "HTMLView",
            "description": "",
            "description_tooltip": null,
            "layout": "IPY_MODEL_d10900a4606842acb06afb33f1c5bc24",
            "placeholder": "​",
            "style": "IPY_MODEL_39295a8958b4417b9c7457ae9ddb946f",
            "value": " 64/64 [00:23&lt;00:00,  3.11it/s]"
          }
        },
        "5ade331d7b3a4e7c95b5476030fef32f": {
          "model_module": "@jupyter-widgets/base",
          "model_name": "LayoutModel",
          "model_module_version": "1.2.0",
          "state": {
            "_model_module": "@jupyter-widgets/base",
            "_model_module_version": "1.2.0",
            "_model_name": "LayoutModel",
            "_view_count": null,
            "_view_module": "@jupyter-widgets/base",
            "_view_module_version": "1.2.0",
            "_view_name": "LayoutView",
            "align_content": null,
            "align_items": null,
            "align_self": null,
            "border": null,
            "bottom": null,
            "display": null,
            "flex": null,
            "flex_flow": null,
            "grid_area": null,
            "grid_auto_columns": null,
            "grid_auto_flow": null,
            "grid_auto_rows": null,
            "grid_column": null,
            "grid_gap": null,
            "grid_row": null,
            "grid_template_areas": null,
            "grid_template_columns": null,
            "grid_template_rows": null,
            "height": null,
            "justify_content": null,
            "justify_items": null,
            "left": null,
            "margin": null,
            "max_height": null,
            "max_width": null,
            "min_height": null,
            "min_width": null,
            "object_fit": null,
            "object_position": null,
            "order": null,
            "overflow": null,
            "overflow_x": null,
            "overflow_y": null,
            "padding": null,
            "right": null,
            "top": null,
            "visibility": null,
            "width": null
          }
        },
        "e7e17ea26bf44aefbcabe394a3ea938d": {
          "model_module": "@jupyter-widgets/base",
          "model_name": "LayoutModel",
          "model_module_version": "1.2.0",
          "state": {
            "_model_module": "@jupyter-widgets/base",
            "_model_module_version": "1.2.0",
            "_model_name": "LayoutModel",
            "_view_count": null,
            "_view_module": "@jupyter-widgets/base",
            "_view_module_version": "1.2.0",
            "_view_name": "LayoutView",
            "align_content": null,
            "align_items": null,
            "align_self": null,
            "border": null,
            "bottom": null,
            "display": null,
            "flex": null,
            "flex_flow": null,
            "grid_area": null,
            "grid_auto_columns": null,
            "grid_auto_flow": null,
            "grid_auto_rows": null,
            "grid_column": null,
            "grid_gap": null,
            "grid_row": null,
            "grid_template_areas": null,
            "grid_template_columns": null,
            "grid_template_rows": null,
            "height": null,
            "justify_content": null,
            "justify_items": null,
            "left": null,
            "margin": null,
            "max_height": null,
            "max_width": null,
            "min_height": null,
            "min_width": null,
            "object_fit": null,
            "object_position": null,
            "order": null,
            "overflow": null,
            "overflow_x": null,
            "overflow_y": null,
            "padding": null,
            "right": null,
            "top": null,
            "visibility": null,
            "width": null
          }
        },
        "0e3678c8225640f6a985fb2208ad230a": {
          "model_module": "@jupyter-widgets/controls",
          "model_name": "DescriptionStyleModel",
          "model_module_version": "1.5.0",
          "state": {
            "_model_module": "@jupyter-widgets/controls",
            "_model_module_version": "1.5.0",
            "_model_name": "DescriptionStyleModel",
            "_view_count": null,
            "_view_module": "@jupyter-widgets/base",
            "_view_module_version": "1.2.0",
            "_view_name": "StyleView",
            "description_width": ""
          }
        },
        "bd9692bc5bcb4fa986b8789a9df14bf0": {
          "model_module": "@jupyter-widgets/base",
          "model_name": "LayoutModel",
          "model_module_version": "1.2.0",
          "state": {
            "_model_module": "@jupyter-widgets/base",
            "_model_module_version": "1.2.0",
            "_model_name": "LayoutModel",
            "_view_count": null,
            "_view_module": "@jupyter-widgets/base",
            "_view_module_version": "1.2.0",
            "_view_name": "LayoutView",
            "align_content": null,
            "align_items": null,
            "align_self": null,
            "border": null,
            "bottom": null,
            "display": null,
            "flex": null,
            "flex_flow": null,
            "grid_area": null,
            "grid_auto_columns": null,
            "grid_auto_flow": null,
            "grid_auto_rows": null,
            "grid_column": null,
            "grid_gap": null,
            "grid_row": null,
            "grid_template_areas": null,
            "grid_template_columns": null,
            "grid_template_rows": null,
            "height": null,
            "justify_content": null,
            "justify_items": null,
            "left": null,
            "margin": null,
            "max_height": null,
            "max_width": null,
            "min_height": null,
            "min_width": null,
            "object_fit": null,
            "object_position": null,
            "order": null,
            "overflow": null,
            "overflow_x": null,
            "overflow_y": null,
            "padding": null,
            "right": null,
            "top": null,
            "visibility": null,
            "width": null
          }
        },
        "97fb5941889a4c578a1344b02c40c4c2": {
          "model_module": "@jupyter-widgets/controls",
          "model_name": "ProgressStyleModel",
          "model_module_version": "1.5.0",
          "state": {
            "_model_module": "@jupyter-widgets/controls",
            "_model_module_version": "1.5.0",
            "_model_name": "ProgressStyleModel",
            "_view_count": null,
            "_view_module": "@jupyter-widgets/base",
            "_view_module_version": "1.2.0",
            "_view_name": "StyleView",
            "bar_color": null,
            "description_width": ""
          }
        },
        "d10900a4606842acb06afb33f1c5bc24": {
          "model_module": "@jupyter-widgets/base",
          "model_name": "LayoutModel",
          "model_module_version": "1.2.0",
          "state": {
            "_model_module": "@jupyter-widgets/base",
            "_model_module_version": "1.2.0",
            "_model_name": "LayoutModel",
            "_view_count": null,
            "_view_module": "@jupyter-widgets/base",
            "_view_module_version": "1.2.0",
            "_view_name": "LayoutView",
            "align_content": null,
            "align_items": null,
            "align_self": null,
            "border": null,
            "bottom": null,
            "display": null,
            "flex": null,
            "flex_flow": null,
            "grid_area": null,
            "grid_auto_columns": null,
            "grid_auto_flow": null,
            "grid_auto_rows": null,
            "grid_column": null,
            "grid_gap": null,
            "grid_row": null,
            "grid_template_areas": null,
            "grid_template_columns": null,
            "grid_template_rows": null,
            "height": null,
            "justify_content": null,
            "justify_items": null,
            "left": null,
            "margin": null,
            "max_height": null,
            "max_width": null,
            "min_height": null,
            "min_width": null,
            "object_fit": null,
            "object_position": null,
            "order": null,
            "overflow": null,
            "overflow_x": null,
            "overflow_y": null,
            "padding": null,
            "right": null,
            "top": null,
            "visibility": null,
            "width": null
          }
        },
        "39295a8958b4417b9c7457ae9ddb946f": {
          "model_module": "@jupyter-widgets/controls",
          "model_name": "DescriptionStyleModel",
          "model_module_version": "1.5.0",
          "state": {
            "_model_module": "@jupyter-widgets/controls",
            "_model_module_version": "1.5.0",
            "_model_name": "DescriptionStyleModel",
            "_view_count": null,
            "_view_module": "@jupyter-widgets/base",
            "_view_module_version": "1.2.0",
            "_view_name": "StyleView",
            "description_width": ""
          }
        },
        "03ddf5734dfe4363b63974abaee62901": {
          "model_module": "@jupyter-widgets/controls",
          "model_name": "HTMLModel",
          "model_module_version": "1.5.0",
          "state": {
            "_dom_classes": [],
            "_model_module": "@jupyter-widgets/controls",
            "_model_module_version": "1.5.0",
            "_model_name": "HTMLModel",
            "_view_count": null,
            "_view_module": "@jupyter-widgets/controls",
            "_view_module_version": "1.5.0",
            "_view_name": "HTMLView",
            "description": "",
            "description_tooltip": null,
            "layout": "IPY_MODEL_b3d4ece0fd0446178f8a7568105317e9",
            "placeholder": "​",
            "style": "IPY_MODEL_d3dff3e3f0c54c339224d850c6d6faec",
            "value": "<img src=\"data:image/gif;base64,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\" />"
          }
        },
        "b3d4ece0fd0446178f8a7568105317e9": {
          "model_module": "@jupyter-widgets/base",
          "model_name": "LayoutModel",
          "model_module_version": "1.2.0",
          "state": {
            "_model_module": "@jupyter-widgets/base",
            "_model_module_version": "1.2.0",
            "_model_name": "LayoutModel",
            "_view_count": null,
            "_view_module": "@jupyter-widgets/base",
            "_view_module_version": "1.2.0",
            "_view_name": "LayoutView",
            "align_content": null,
            "align_items": null,
            "align_self": null,
            "border": null,
            "bottom": null,
            "display": null,
            "flex": null,
            "flex_flow": null,
            "grid_area": null,
            "grid_auto_columns": null,
            "grid_auto_flow": null,
            "grid_auto_rows": null,
            "grid_column": null,
            "grid_gap": null,
            "grid_row": null,
            "grid_template_areas": null,
            "grid_template_columns": null,
            "grid_template_rows": null,
            "height": null,
            "justify_content": null,
            "justify_items": null,
            "left": null,
            "margin": null,
            "max_height": null,
            "max_width": null,
            "min_height": null,
            "min_width": null,
            "object_fit": null,
            "object_position": null,
            "order": null,
            "overflow": null,
            "overflow_x": null,
            "overflow_y": null,
            "padding": null,
            "right": null,
            "top": null,
            "visibility": null,
            "width": null
          }
        },
        "d3dff3e3f0c54c339224d850c6d6faec": {
          "model_module": "@jupyter-widgets/controls",
          "model_name": "DescriptionStyleModel",
          "model_module_version": "1.5.0",
          "state": {
            "_model_module": "@jupyter-widgets/controls",
            "_model_module_version": "1.5.0",
            "_model_name": "DescriptionStyleModel",
            "_view_count": null,
            "_view_module": "@jupyter-widgets/base",
            "_view_module_version": "1.2.0",
            "_view_name": "StyleView",
            "description_width": ""
          }
        }
      }
    },
    "accelerator": "GPU"
  },
  "cells": [
    {
      "cell_type": "markdown",
      "metadata": {
        "id": "view-in-github",
        "colab_type": "text"
      },
      "source": [
        "<a href=\"https://colab.research.google.com/github/SantosCristiano/artificial-intelligence-python/blob/main/Tutorial_Shap_E.ipynb\" target=\"_parent\"><img src=\"https://colab.research.google.com/assets/colab-badge.svg\" alt=\"Open In Colab\"/></a>"
      ]
    },
    {
      "cell_type": "markdown",
      "source": [
        "# Shape-e / OpenAI"
      ],
      "metadata": {
        "id": "jvS3NAU4lSjB"
      }
    },
    {
      "cell_type": "markdown",
      "source": [
        "## Clone the repository"
      ],
      "metadata": {
        "id": "sHFDUhvGlBVA"
      }
    },
    {
      "cell_type": "code",
      "execution_count": null,
      "metadata": {
        "colab": {
          "base_uri": "https://localhost:8080/"
        },
        "id": "SCgxPfk8vsEj",
        "outputId": "f299db25-a95f-4f21-eed2-43521bf91a32"
      },
      "outputs": [
        {
          "output_type": "stream",
          "name": "stdout",
          "text": [
            "Cloning into 'shap-e'...\n",
            "remote: Enumerating objects: 336, done.\u001b[K\n",
            "remote: Counting objects: 100% (260/260), done.\u001b[K\n",
            "remote: Compressing objects: 100% (241/241), done.\u001b[K\n",
            "remote: Total 336 (delta 41), reused 218 (delta 18), pack-reused 76\u001b[K\n",
            "Receiving objects: 100% (336/336), 11.72 MiB | 17.63 MiB/s, done.\n",
            "Resolving deltas: 100% (44/44), done.\n"
          ]
        }
      ],
      "source": [
        "!git clone https://github.com/openai/shap-e"
      ]
    },
    {
      "cell_type": "markdown",
      "source": [
        "## Enter the directory and install the requirements."
      ],
      "metadata": {
        "id": "IQ-zp0dilqOa"
      }
    },
    {
      "cell_type": "code",
      "source": [
        "%cd shap-e\n",
        "!pip install -e ."
      ],
      "metadata": {
        "colab": {
          "base_uri": "https://localhost:8080/"
        },
        "id": "zuBv9QJ-vyvy",
        "outputId": "00760e37-0b5a-439a-8780-170388c5f79b"
      },
      "execution_count": null,
      "outputs": [
        {
          "output_type": "stream",
          "name": "stdout",
          "text": [
            "/content/shap-e\n",
            "Obtaining file:///content/shap-e\n",
            "  Preparing metadata (setup.py) ... \u001b[?25l\u001b[?25hdone\n",
            "Collecting clip@ git+https://github.com/openai/CLIP.git (from shap-e==0.0.0)\n",
            "  Cloning https://github.com/openai/CLIP.git to /tmp/pip-install-y1fraupt/clip_3ba7e148ce374f8795980a991e5921a4\n",
            "  Running command git clone --filter=blob:none --quiet https://github.com/openai/CLIP.git /tmp/pip-install-y1fraupt/clip_3ba7e148ce374f8795980a991e5921a4\n",
            "  Resolved https://github.com/openai/CLIP.git to commit a1d071733d7111c9c014f024669f959182114e33\n",
            "  Preparing metadata (setup.py) ... \u001b[?25l\u001b[?25hdone\n",
            "Requirement already satisfied: filelock in /usr/local/lib/python3.10/dist-packages (from shap-e==0.0.0) (3.13.3)\n",
            "Requirement already satisfied: Pillow in /usr/local/lib/python3.10/dist-packages (from shap-e==0.0.0) (9.4.0)\n",
            "Requirement already satisfied: torch in /usr/local/lib/python3.10/dist-packages (from shap-e==0.0.0) (2.2.1+cu121)\n",
            "Collecting fire (from shap-e==0.0.0)\n",
            "  Downloading fire-0.6.0.tar.gz (88 kB)\n",
            "\u001b[2K     \u001b[90m━━━━━━━━━━━━━━━━━━━━━━━━━━━━━━━━━━━━━━━━\u001b[0m \u001b[32m88.4/88.4 kB\u001b[0m \u001b[31m3.2 MB/s\u001b[0m eta \u001b[36m0:00:00\u001b[0m\n",
            "\u001b[?25h  Preparing metadata (setup.py) ... \u001b[?25l\u001b[?25hdone\n",
            "Requirement already satisfied: humanize in /usr/local/lib/python3.10/dist-packages (from shap-e==0.0.0) (4.7.0)\n",
            "Requirement already satisfied: requests in /usr/local/lib/python3.10/dist-packages (from shap-e==0.0.0) (2.31.0)\n",
            "Requirement already satisfied: tqdm in /usr/local/lib/python3.10/dist-packages (from shap-e==0.0.0) (4.66.2)\n",
            "Requirement already satisfied: matplotlib in /usr/local/lib/python3.10/dist-packages (from shap-e==0.0.0) (3.7.1)\n",
            "Requirement already satisfied: scikit-image in /usr/local/lib/python3.10/dist-packages (from shap-e==0.0.0) (0.19.3)\n",
            "Requirement already satisfied: scipy in /usr/local/lib/python3.10/dist-packages (from shap-e==0.0.0) (1.11.4)\n",
            "Requirement already satisfied: numpy in /usr/local/lib/python3.10/dist-packages (from shap-e==0.0.0) (1.25.2)\n",
            "Collecting blobfile (from shap-e==0.0.0)\n",
            "  Downloading blobfile-2.1.1-py3-none-any.whl (73 kB)\n",
            "\u001b[2K     \u001b[90m━━━━━━━━━━━━━━━━━━━━━━━━━━━━━━━━━━━━━━━━\u001b[0m \u001b[32m73.7/73.7 kB\u001b[0m \u001b[31m10.9 MB/s\u001b[0m eta \u001b[36m0:00:00\u001b[0m\n",
            "\u001b[?25hCollecting pycryptodomex~=3.8 (from blobfile->shap-e==0.0.0)\n",
            "  Downloading pycryptodomex-3.20.0-cp35-abi3-manylinux_2_17_x86_64.manylinux2014_x86_64.whl (2.1 MB)\n",
            "\u001b[2K     \u001b[90m━━━━━━━━━━━━━━━━━━━━━━━━━━━━━━━━━━━━━━━━\u001b[0m \u001b[32m2.1/2.1 MB\u001b[0m \u001b[31m16.4 MB/s\u001b[0m eta \u001b[36m0:00:00\u001b[0m\n",
            "\u001b[?25hRequirement already satisfied: urllib3<3,>=1.25.3 in /usr/local/lib/python3.10/dist-packages (from blobfile->shap-e==0.0.0) (2.0.7)\n",
            "Requirement already satisfied: lxml~=4.9 in /usr/local/lib/python3.10/dist-packages (from blobfile->shap-e==0.0.0) (4.9.4)\n",
            "Collecting ftfy (from clip@ git+https://github.com/openai/CLIP.git->shap-e==0.0.0)\n",
            "  Downloading ftfy-6.2.0-py3-none-any.whl (54 kB)\n",
            "\u001b[2K     \u001b[90m━━━━━━━━━━━━━━━━━━━━━━━━━━━━━━━━━━━━━━━━\u001b[0m \u001b[32m54.4/54.4 kB\u001b[0m \u001b[31m8.6 MB/s\u001b[0m eta \u001b[36m0:00:00\u001b[0m\n",
            "\u001b[?25hRequirement already satisfied: regex in /usr/local/lib/python3.10/dist-packages (from clip@ git+https://github.com/openai/CLIP.git->shap-e==0.0.0) (2023.12.25)\n",
            "Requirement already satisfied: torchvision in /usr/local/lib/python3.10/dist-packages (from clip@ git+https://github.com/openai/CLIP.git->shap-e==0.0.0) (0.17.1+cu121)\n",
            "Requirement already satisfied: six in /usr/local/lib/python3.10/dist-packages (from fire->shap-e==0.0.0) (1.16.0)\n",
            "Requirement already satisfied: termcolor in /usr/local/lib/python3.10/dist-packages (from fire->shap-e==0.0.0) (2.4.0)\n",
            "Requirement already satisfied: contourpy>=1.0.1 in /usr/local/lib/python3.10/dist-packages (from matplotlib->shap-e==0.0.0) (1.2.0)\n",
            "Requirement already satisfied: cycler>=0.10 in /usr/local/lib/python3.10/dist-packages (from matplotlib->shap-e==0.0.0) (0.12.1)\n",
            "Requirement already satisfied: fonttools>=4.22.0 in /usr/local/lib/python3.10/dist-packages (from matplotlib->shap-e==0.0.0) (4.50.0)\n",
            "Requirement already satisfied: kiwisolver>=1.0.1 in /usr/local/lib/python3.10/dist-packages (from matplotlib->shap-e==0.0.0) (1.4.5)\n",
            "Requirement already satisfied: packaging>=20.0 in /usr/local/lib/python3.10/dist-packages (from matplotlib->shap-e==0.0.0) (24.0)\n",
            "Requirement already satisfied: pyparsing>=2.3.1 in /usr/local/lib/python3.10/dist-packages (from matplotlib->shap-e==0.0.0) (3.1.2)\n",
            "Requirement already satisfied: python-dateutil>=2.7 in /usr/local/lib/python3.10/dist-packages (from matplotlib->shap-e==0.0.0) (2.8.2)\n",
            "Requirement already satisfied: charset-normalizer<4,>=2 in /usr/local/lib/python3.10/dist-packages (from requests->shap-e==0.0.0) (3.3.2)\n",
            "Requirement already satisfied: idna<4,>=2.5 in /usr/local/lib/python3.10/dist-packages (from requests->shap-e==0.0.0) (3.6)\n",
            "Requirement already satisfied: certifi>=2017.4.17 in /usr/local/lib/python3.10/dist-packages (from requests->shap-e==0.0.0) (2024.2.2)\n",
            "Requirement already satisfied: networkx>=2.2 in /usr/local/lib/python3.10/dist-packages (from scikit-image->shap-e==0.0.0) (3.2.1)\n",
            "Requirement already satisfied: imageio>=2.4.1 in /usr/local/lib/python3.10/dist-packages (from scikit-image->shap-e==0.0.0) (2.31.6)\n",
            "Requirement already satisfied: tifffile>=2019.7.26 in /usr/local/lib/python3.10/dist-packages (from scikit-image->shap-e==0.0.0) (2024.2.12)\n",
            "Requirement already satisfied: PyWavelets>=1.1.1 in /usr/local/lib/python3.10/dist-packages (from scikit-image->shap-e==0.0.0) (1.6.0)\n",
            "Requirement already satisfied: typing-extensions>=4.8.0 in /usr/local/lib/python3.10/dist-packages (from torch->shap-e==0.0.0) (4.10.0)\n",
            "Requirement already satisfied: sympy in /usr/local/lib/python3.10/dist-packages (from torch->shap-e==0.0.0) (1.12)\n",
            "Requirement already satisfied: jinja2 in /usr/local/lib/python3.10/dist-packages (from torch->shap-e==0.0.0) (3.1.3)\n",
            "Requirement already satisfied: fsspec in /usr/local/lib/python3.10/dist-packages (from torch->shap-e==0.0.0) (2023.6.0)\n",
            "Collecting nvidia-cuda-nvrtc-cu12==12.1.105 (from torch->shap-e==0.0.0)\n",
            "  Downloading nvidia_cuda_nvrtc_cu12-12.1.105-py3-none-manylinux1_x86_64.whl (23.7 MB)\n",
            "\u001b[2K     \u001b[90m━━━━━━━━━━━━━━━━━━━━━━━━━━━━━━━━━━━━━━━━\u001b[0m \u001b[32m23.7/23.7 MB\u001b[0m \u001b[31m47.9 MB/s\u001b[0m eta \u001b[36m0:00:00\u001b[0m\n",
            "\u001b[?25hCollecting nvidia-cuda-runtime-cu12==12.1.105 (from torch->shap-e==0.0.0)\n",
            "  Downloading nvidia_cuda_runtime_cu12-12.1.105-py3-none-manylinux1_x86_64.whl (823 kB)\n",
            "\u001b[2K     \u001b[90m━━━━━━━━━━━━━━━━━━━━━━━━━━━━━━━━━━━━━━━━\u001b[0m \u001b[32m823.6/823.6 kB\u001b[0m \u001b[31m75.0 MB/s\u001b[0m eta \u001b[36m0:00:00\u001b[0m\n",
            "\u001b[?25hCollecting nvidia-cuda-cupti-cu12==12.1.105 (from torch->shap-e==0.0.0)\n",
            "  Downloading nvidia_cuda_cupti_cu12-12.1.105-py3-none-manylinux1_x86_64.whl (14.1 MB)\n",
            "\u001b[2K     \u001b[90m━━━━━━━━━━━━━━━━━━━━━━━━━━━━━━━━━━━━━━━━\u001b[0m \u001b[32m14.1/14.1 MB\u001b[0m \u001b[31m81.7 MB/s\u001b[0m eta \u001b[36m0:00:00\u001b[0m\n",
            "\u001b[?25hCollecting nvidia-cudnn-cu12==8.9.2.26 (from torch->shap-e==0.0.0)\n",
            "  Downloading nvidia_cudnn_cu12-8.9.2.26-py3-none-manylinux1_x86_64.whl (731.7 MB)\n",
            "\u001b[2K     \u001b[90m━━━━━━━━━━━━━━━━━━━━━━━━━━━━━━━━━━━━━━━━\u001b[0m \u001b[32m731.7/731.7 MB\u001b[0m \u001b[31m2.2 MB/s\u001b[0m eta \u001b[36m0:00:00\u001b[0m\n",
            "\u001b[?25hCollecting nvidia-cublas-cu12==12.1.3.1 (from torch->shap-e==0.0.0)\n",
            "  Downloading nvidia_cublas_cu12-12.1.3.1-py3-none-manylinux1_x86_64.whl (410.6 MB)\n",
            "\u001b[2K     \u001b[90m━━━━━━━━━━━━━━━━━━━━━━━━━━━━━━━━━━━━━━━━\u001b[0m \u001b[32m410.6/410.6 MB\u001b[0m \u001b[31m2.8 MB/s\u001b[0m eta \u001b[36m0:00:00\u001b[0m\n",
            "\u001b[?25hCollecting nvidia-cufft-cu12==11.0.2.54 (from torch->shap-e==0.0.0)\n",
            "  Downloading nvidia_cufft_cu12-11.0.2.54-py3-none-manylinux1_x86_64.whl (121.6 MB)\n",
            "\u001b[2K     \u001b[90m━━━━━━━━━━━━━━━━━━━━━━━━━━━━━━━━━━━━━━━━\u001b[0m \u001b[32m121.6/121.6 MB\u001b[0m \u001b[31m8.3 MB/s\u001b[0m eta \u001b[36m0:00:00\u001b[0m\n",
            "\u001b[?25hCollecting nvidia-curand-cu12==10.3.2.106 (from torch->shap-e==0.0.0)\n",
            "  Downloading nvidia_curand_cu12-10.3.2.106-py3-none-manylinux1_x86_64.whl (56.5 MB)\n",
            "\u001b[2K     \u001b[90m━━━━━━━━━━━━━━━━━━━━━━━━━━━━━━━━━━━━━━━━\u001b[0m \u001b[32m56.5/56.5 MB\u001b[0m \u001b[31m10.7 MB/s\u001b[0m eta \u001b[36m0:00:00\u001b[0m\n",
            "\u001b[?25hCollecting nvidia-cusolver-cu12==11.4.5.107 (from torch->shap-e==0.0.0)\n",
            "  Downloading nvidia_cusolver_cu12-11.4.5.107-py3-none-manylinux1_x86_64.whl (124.2 MB)\n",
            "\u001b[2K     \u001b[90m━━━━━━━━━━━━━━━━━━━━━━━━━━━━━━━━━━━━━━━━\u001b[0m \u001b[32m124.2/124.2 MB\u001b[0m \u001b[31m7.6 MB/s\u001b[0m eta \u001b[36m0:00:00\u001b[0m\n",
            "\u001b[?25hCollecting nvidia-cusparse-cu12==12.1.0.106 (from torch->shap-e==0.0.0)\n",
            "  Downloading nvidia_cusparse_cu12-12.1.0.106-py3-none-manylinux1_x86_64.whl (196.0 MB)\n",
            "\u001b[2K     \u001b[90m━━━━━━━━━━━━━━━━━━━━━━━━━━━━━━━━━━━━━━━━\u001b[0m \u001b[32m196.0/196.0 MB\u001b[0m \u001b[31m5.5 MB/s\u001b[0m eta \u001b[36m0:00:00\u001b[0m\n",
            "\u001b[?25hCollecting nvidia-nccl-cu12==2.19.3 (from torch->shap-e==0.0.0)\n",
            "  Downloading nvidia_nccl_cu12-2.19.3-py3-none-manylinux1_x86_64.whl (166.0 MB)\n",
            "\u001b[2K     \u001b[90m━━━━━━━━━━━━━━━━━━━━━━━━━━━━━━━━━━━━━━━━\u001b[0m \u001b[32m166.0/166.0 MB\u001b[0m \u001b[31m7.2 MB/s\u001b[0m eta \u001b[36m0:00:00\u001b[0m\n",
            "\u001b[?25hCollecting nvidia-nvtx-cu12==12.1.105 (from torch->shap-e==0.0.0)\n",
            "  Downloading nvidia_nvtx_cu12-12.1.105-py3-none-manylinux1_x86_64.whl (99 kB)\n",
            "\u001b[2K     \u001b[90m━━━━━━━━━━━━━━━━━━━━━━━━━━━━━━━━━━━━━━━━\u001b[0m \u001b[32m99.1/99.1 kB\u001b[0m \u001b[31m17.3 MB/s\u001b[0m eta \u001b[36m0:00:00\u001b[0m\n",
            "\u001b[?25hRequirement already satisfied: triton==2.2.0 in /usr/local/lib/python3.10/dist-packages (from torch->shap-e==0.0.0) (2.2.0)\n",
            "Collecting nvidia-nvjitlink-cu12 (from nvidia-cusolver-cu12==11.4.5.107->torch->shap-e==0.0.0)\n",
            "  Downloading nvidia_nvjitlink_cu12-12.4.127-py3-none-manylinux2014_x86_64.whl (21.1 MB)\n",
            "\u001b[2K     \u001b[90m━━━━━━━━━━━━━━━━━━━━━━━━━━━━━━━━━━━━━━━━\u001b[0m \u001b[32m21.1/21.1 MB\u001b[0m \u001b[31m78.0 MB/s\u001b[0m eta \u001b[36m0:00:00\u001b[0m\n",
            "\u001b[?25hRequirement already satisfied: wcwidth<0.3.0,>=0.2.12 in /usr/local/lib/python3.10/dist-packages (from ftfy->clip@ git+https://github.com/openai/CLIP.git->shap-e==0.0.0) (0.2.13)\n",
            "Requirement already satisfied: MarkupSafe>=2.0 in /usr/local/lib/python3.10/dist-packages (from jinja2->torch->shap-e==0.0.0) (2.1.5)\n",
            "Requirement already satisfied: mpmath>=0.19 in /usr/local/lib/python3.10/dist-packages (from sympy->torch->shap-e==0.0.0) (1.3.0)\n",
            "Building wheels for collected packages: clip, fire\n",
            "  Building wheel for clip (setup.py) ... \u001b[?25l\u001b[?25hdone\n",
            "  Created wheel for clip: filename=clip-1.0-py3-none-any.whl size=1369499 sha256=b83a930352527d31d9efe497ec5254f57f616f68e8c0b84380bed43398782bd0\n",
            "  Stored in directory: /tmp/pip-ephem-wheel-cache-cwh5vk9b/wheels/da/2b/4c/d6691fa9597aac8bb85d2ac13b112deb897d5b50f5ad9a37e4\n",
            "  Building wheel for fire (setup.py) ... \u001b[?25l\u001b[?25hdone\n",
            "  Created wheel for fire: filename=fire-0.6.0-py2.py3-none-any.whl size=117029 sha256=8283f8c3e85b62d9bb2aba7ed3b26d181e26334c88c7c7b99eb30a8bdc57ee59\n",
            "  Stored in directory: /root/.cache/pip/wheels/d6/6d/5d/5b73fa0f46d01a793713f8859201361e9e581ced8c75e5c6a3\n",
            "Successfully built clip fire\n",
            "Installing collected packages: pycryptodomex, nvidia-nvtx-cu12, nvidia-nvjitlink-cu12, nvidia-nccl-cu12, nvidia-curand-cu12, nvidia-cufft-cu12, nvidia-cuda-runtime-cu12, nvidia-cuda-nvrtc-cu12, nvidia-cuda-cupti-cu12, nvidia-cublas-cu12, ftfy, fire, nvidia-cusparse-cu12, nvidia-cudnn-cu12, blobfile, nvidia-cusolver-cu12, clip, shap-e\n",
            "  Running setup.py develop for shap-e\n",
            "Successfully installed blobfile-2.1.1 clip-1.0 fire-0.6.0 ftfy-6.2.0 nvidia-cublas-cu12-12.1.3.1 nvidia-cuda-cupti-cu12-12.1.105 nvidia-cuda-nvrtc-cu12-12.1.105 nvidia-cuda-runtime-cu12-12.1.105 nvidia-cudnn-cu12-8.9.2.26 nvidia-cufft-cu12-11.0.2.54 nvidia-curand-cu12-10.3.2.106 nvidia-cusolver-cu12-11.4.5.107 nvidia-cusparse-cu12-12.1.0.106 nvidia-nccl-cu12-2.19.3 nvidia-nvjitlink-cu12-12.4.127 nvidia-nvtx-cu12-12.1.105 pycryptodomex-3.20.0 shap-e-0.0.0\n"
          ]
        }
      ]
    },
    {
      "cell_type": "markdown",
      "source": [
        "## Implementation and Cooking the 3D models."
      ],
      "metadata": {
        "id": "v4k-OntTl1EJ"
      }
    },
    {
      "cell_type": "markdown",
      "source": [
        "Here we will import all the necessary libraries."
      ],
      "metadata": {
        "id": "lfhg_1QLmUxn"
      }
    },
    {
      "cell_type": "code",
      "source": [
        "import torch\n",
        "\n",
        "from shap_e.diffusion.sample import sample_latents\n",
        "from shap_e.diffusion.gaussian_diffusion import diffusion_from_config\n",
        "from shap_e.models.download import load_model, load_config\n",
        "from shap_e.util.notebooks import create_pan_cameras, decode_latent_images, gif_widget"
      ],
      "metadata": {
        "id": "_9_SLzmdv2fg"
      },
      "execution_count": null,
      "outputs": []
    },
    {
      "cell_type": "markdown",
      "source": [
        "Here we will set the device to cuda if available, otherwise to cpu."
      ],
      "metadata": {
        "id": "gCXrY7aWma4Q"
      }
    },
    {
      "cell_type": "code",
      "source": [
        "device = torch.device('cuda' if torch.cuda.is_available() else 'cpu')"
      ],
      "metadata": {
        "id": "iTcE8ppjv8GD"
      },
      "execution_count": null,
      "outputs": []
    },
    {
      "cell_type": "markdown",
      "source": [
        "Here we will load the models and weights."
      ],
      "metadata": {
        "id": "KYPPQyt1mhfV"
      }
    },
    {
      "cell_type": "code",
      "source": [
        "xm = load_model('transmitter', device=device)\n",
        "model = load_model('text300M', device=device)\n",
        "diffusion = diffusion_from_config(load_config('diffusion'))"
      ],
      "metadata": {
        "id": "T9yy6Pr7wADr",
        "colab": {
          "base_uri": "https://localhost:8080/",
          "height": 98,
          "referenced_widgets": [
            "d2ff35b473874f32a280e9695a8bec33",
            "0552a9c364a5451bb419d8bde7474ad5",
            "cd6b42ff063e45499ab01dc41a3f7647",
            "c91ea5ec90fe4fd699222ca9c1804264",
            "7a714ae9a60e4e6cab6d834d1f3ebbce",
            "47ef5eb3b339471fa0d62806b7ac8b82",
            "53d7d0429ff048e5aa82573d9aa87e48",
            "ad9917b3e02c462b8c95d833d0c94b2f",
            "e3ae19f5f4314c1d81873c080420225c",
            "1cbda87bc1fe4f33bb363b6b2dc24dd5",
            "8f9458f32c5a422aa7db98b072cc8620",
            "1c8ed02c701a4d70bfa7d4454c6a44f9",
            "afee2856a12640fc83a9a8984f2c07a6",
            "1fd4dd49760842139c6977bbe16da2fd",
            "56ee4f0e40c44ce6863a3d4f9f83e032",
            "e00323d3783e488a8af10aed47e14e66",
            "74a5857ac2b440199bed536e0f196383",
            "60f830097c1b4622ae116fc94f31cbaa",
            "2ce986e834eb4674b45a6f78153e4cb4",
            "33358b1c9d5a4046aeb265794ccbaaf2",
            "c3336e69af9c453c9a7d4d356f2a2ea0",
            "a9e61e0137cb4c2491ef718008c6a555"
          ]
        },
        "outputId": "ae4a481b-5e63-4ecf-90b8-c8b3c2c71c87"
      },
      "execution_count": null,
      "outputs": [
        {
          "output_type": "display_data",
          "data": {
            "text/plain": [
              "  0%|          | 0.00/1.78G [00:00<?, ?iB/s]"
            ],
            "application/vnd.jupyter.widget-view+json": {
              "version_major": 2,
              "version_minor": 0,
              "model_id": "d2ff35b473874f32a280e9695a8bec33"
            }
          },
          "metadata": {}
        },
        {
          "output_type": "stream",
          "name": "stderr",
          "text": [
            "100%|████████████████████████████████████████| 890M/890M [00:07<00:00, 130MiB/s]\n"
          ]
        },
        {
          "output_type": "display_data",
          "data": {
            "text/plain": [
              "  0%|          | 0.00/1.26G [00:00<?, ?iB/s]"
            ],
            "application/vnd.jupyter.widget-view+json": {
              "version_major": 2,
              "version_minor": 0,
              "model_id": "1c8ed02c701a4d70bfa7d4454c6a44f9"
            }
          },
          "metadata": {}
        }
      ]
    },
    {
      "cell_type": "markdown",
      "source": [
        "Here we will generate the 3D models."
      ],
      "metadata": {
        "id": "WzP_tkhGwprV"
      }
    },
    {
      "cell_type": "code",
      "source": [
        "batch_size = 1 # this is the size of the models, higher values take longer to generate.\n",
        "guidance_scale = 15.0 # this is the scale of the guidance, higher values make the model look more like the prompt.\n",
        "prompt = \"a donut with pink icing\" # this is the prompt, you can change this to anything you want.\n",
        "\n",
        "latents = sample_latents(\n",
        "    batch_size=batch_size,\n",
        "    model=model,\n",
        "    diffusion=diffusion,\n",
        "    guidance_scale=guidance_scale,\n",
        "    model_kwargs=dict(texts=[prompt] * batch_size),\n",
        "    progress=True,\n",
        "    clip_denoised=True,\n",
        "    use_fp16=True,\n",
        "    use_karras=True,\n",
        "    karras_steps=64,\n",
        "    sigma_min=1E-3,\n",
        "    sigma_max=160,\n",
        "    s_churn=0,\n",
        ")"
      ],
      "metadata": {
        "colab": {
          "base_uri": "https://localhost:8080/",
          "height": 49,
          "referenced_widgets": [
            "705500d36f094eeea4ad6419f90980a0",
            "fe0cb6e6b0304e15bf16c0a6c1ebacb7",
            "18ebd5c1b2f2427da0120a7128edc4e2",
            "1c8b054232d745d7bfacc1c3cb85a0a6",
            "5ade331d7b3a4e7c95b5476030fef32f",
            "e7e17ea26bf44aefbcabe394a3ea938d",
            "0e3678c8225640f6a985fb2208ad230a",
            "bd9692bc5bcb4fa986b8789a9df14bf0",
            "97fb5941889a4c578a1344b02c40c4c2",
            "d10900a4606842acb06afb33f1c5bc24",
            "39295a8958b4417b9c7457ae9ddb946f"
          ]
        },
        "id": "erRTfjpWwJ9Y",
        "outputId": "67cd9a0a-f4df-4f49-bfcc-10070db684cb"
      },
      "execution_count": null,
      "outputs": [
        {
          "output_type": "display_data",
          "data": {
            "text/plain": [
              "  0%|          | 0/64 [00:00<?, ?it/s]"
            ],
            "application/vnd.jupyter.widget-view+json": {
              "version_major": 2,
              "version_minor": 0,
              "model_id": "705500d36f094eeea4ad6419f90980a0"
            }
          },
          "metadata": {}
        }
      ]
    },
    {
      "cell_type": "markdown",
      "source": [
        "Here we will render the 3D models, using render_mode = 'nerf' Neural Radiance Fields (NeRF) to render the 3D models. You can change this to render_mode = 'stf' to render the 3D models with Style Transfer Function (STF) rendering mode."
      ],
      "metadata": {
        "id": "Upa2N1mqm04K"
      }
    },
    {
      "cell_type": "code",
      "source": [
        "render_mode = 'nerf' # you can change this to 'stf'\n",
        "size = 64 # this is the size of the renders, higher values take longer to render.\n",
        "\n",
        "cameras = create_pan_cameras(size, device)\n",
        "for i, latent in enumerate(latents):\n",
        "    images = decode_latent_images(xm, latent, cameras, rendering_mode=render_mode)\n",
        "    display(gif_widget(images))"
      ],
      "metadata": {
        "id": "x1_Y6LPM0Cz9",
        "colab": {
          "base_uri": "https://localhost:8080/",
          "height": 95,
          "referenced_widgets": [
            "03ddf5734dfe4363b63974abaee62901",
            "b3d4ece0fd0446178f8a7568105317e9",
            "d3dff3e3f0c54c339224d850c6d6faec"
          ]
        },
        "outputId": "38dd72e9-0041-4c97-e690-5da2cc257a31"
      },
      "execution_count": null,
      "outputs": [
        {
          "output_type": "display_data",
          "data": {
            "text/plain": [
              "HTML(value='<img src=\"data:image/gif;base64,R0lGODlhQABAAIcAAPbYxvTUw+/VyfPRve7RwO/Ou+3OvO3LvufUz+TQzebOweHLwe…"
            ],
            "application/vnd.jupyter.widget-view+json": {
              "version_major": 2,
              "version_minor": 0,
              "model_id": "03ddf5734dfe4363b63974abaee62901"
            }
          },
          "metadata": {}
        }
      ]
    },
    {
      "cell_type": "markdown",
      "source": [
        "Here we will save the 3D models as .ply and .obj files.\n",
        "\n",
        "Note: .obj, this can be used to customize in Blender Studio later for example."
      ],
      "metadata": {
        "id": "IUSP-vLnm9AU"
      }
    },
    {
      "cell_type": "code",
      "source": [
        "# Example of saving the latents as meshes.\n",
        "from shap_e.util.notebooks import decode_latent_mesh\n",
        "\n",
        "for i, latent in enumerate(latents):\n",
        "    t = decode_latent_mesh(xm, latent).tri_mesh()\n",
        "    with open(f'example_mesh_{i}.ply', 'wb') as f: # this is three-dimensional geometric data of model.\n",
        "        t.write_ply(f)\n",
        "    with open(f'example_mesh_{i}.obj', 'w') as f: # we will use this file to customize in Blender Studio later.\n",
        "        t.write_obj(f)"
      ],
      "metadata": {
        "id": "k7Gx-c2C0G4T"
      },
      "execution_count": null,
      "outputs": []
    }
  ]
}