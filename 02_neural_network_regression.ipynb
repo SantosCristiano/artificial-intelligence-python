{
  "nbformat": 4,
  "nbformat_minor": 0,
  "metadata": {
    "colab": {
      "provenance": [],
      "include_colab_link": true
    },
    "kernelspec": {
      "name": "python3",
      "display_name": "Python 3"
    }
  },
  "cells": [
    {
      "cell_type": "markdown",
      "metadata": {
        "id": "view-in-github",
        "colab_type": "text"
      },
      "source": [
        "<a href=\"https://colab.research.google.com/github/SantosCristiano/artificial-intelligence-python/blob/main/02_neural_network_regression.ipynb\" target=\"_parent\"><img src=\"https://colab.research.google.com/assets/colab-badge.svg\" alt=\"Open In Colab\"/></a>"
      ]
    },
    {
      "cell_type": "markdown",
      "metadata": {
        "id": "LWpFfw10Gq1J"
      },
      "source": [
        "# Tensorflow 1"
      ]
    },
    {
      "cell_type": "markdown",
      "metadata": {
        "id": "VkJ5kYRgT5Im"
      },
      "source": [
        "## Aula 13 - Tensor Flow - Redes Neurais - Regressão Exemplo 02"
      ]
    },
    {
      "cell_type": "markdown",
      "metadata": {
        "id": "PeIYprAwjwdI"
      },
      "source": [
        "### Importando o tensorflow e o numpy"
      ]
    },
    {
      "cell_type": "code",
      "metadata": {
        "id": "sTkYG56CGy1T",
        "colab": {
          "base_uri": "https://localhost:8080/"
        },
        "outputId": "96814d20-cfb0-4963-d05a-16d51d6d7e9b"
      },
      "source": [
        "import tensorflow.compat.v1 as tf\n",
        "tf.disable_v2_behavior()"
      ],
      "execution_count": 1,
      "outputs": [
        {
          "output_type": "stream",
          "name": "stderr",
          "text": [
            "WARNING:tensorflow:From /usr/local/lib/python3.10/dist-packages/tensorflow/python/compat/v2_compat.py:108: disable_resource_variables (from tensorflow.python.ops.variable_scope) is deprecated and will be removed in a future version.\n",
            "Instructions for updating:\n",
            "non-resource variables are not supported in the long term\n"
          ]
        }
      ]
    },
    {
      "cell_type": "code",
      "metadata": {
        "id": "SHZN0ws1yFew"
      },
      "source": [
        "import numpy as np\n",
        "import pandas as pd\n",
        "import matplotlib.pyplot as plt\n",
        "%matplotlib inline"
      ],
      "execution_count": 2,
      "outputs": []
    },
    {
      "cell_type": "markdown",
      "metadata": {
        "id": "Y04egOCCcqek"
      },
      "source": [
        "A célula abaixo é só para a gente reforçar o que faz cada parâmetro do linspace"
      ]
    },
    {
      "cell_type": "code",
      "metadata": {
        "colab": {
          "base_uri": "https://localhost:8080/",
          "height": 447
        },
        "id": "ntLYwnYRcPcp",
        "outputId": "f784f05d-3519-43a0-e901-2bc205a3be07"
      },
      "source": [
        "import numpy as np\n",
        "import pylab as p\n",
        "\n",
        "# inicio = 0\n",
        "# fim = 2\n",
        "# número de amostras geradas = 10\n",
        "x1 = np.linspace(0, 2, 10, endpoint = False)\n",
        "y1 = np.ones(10)\n",
        "\n",
        "p.plot(x1, y1, '*')\n",
        "p.xlim(-0.2, 2.0)"
      ],
      "execution_count": 3,
      "outputs": [
        {
          "output_type": "execute_result",
          "data": {
            "text/plain": [
              "(-0.2, 2.0)"
            ]
          },
          "metadata": {},
          "execution_count": 3
        },
        {
          "output_type": "display_data",
          "data": {
            "text/plain": [
              "<Figure size 640x480 with 1 Axes>"
            ],
            "image/png": "[encoded data removed]"
          },
          "metadata": {}
        }
      ]
    },
    {
      "cell_type": "code",
      "metadata": {
        "id": "etl1MIRia1Db"
      },
      "source": [
        "x_data = np.linspace(0.0, 10.0, 1000000)"
      ],
      "execution_count": 4,
      "outputs": []
    },
    {
      "cell_type": "code",
      "metadata": {
        "id": "vZdkJ4kNCSfE"
      },
      "source": [
        "noise = np.random.randn(len(x_data))"
      ],
      "execution_count": 5,
      "outputs": []
    },
    {
      "cell_type": "code",
      "metadata": {
        "colab": {
          "base_uri": "https://localhost:8080/"
        },
        "id": "6TSc7aTyChBP",
        "outputId": "b65fa106-b4c9-4b63-e453-1fed16a5bf2f"
      },
      "source": [
        "print(x_data)"
      ],
      "execution_count": 6,
      "outputs": [
        {
          "output_type": "stream",
          "name": "stdout",
          "text": [
            "[0.000000e+00 1.000001e-05 2.000002e-05 ... 9.999980e+00 9.999990e+00\n",
            " 1.000000e+01]\n"
          ]
        }
      ]
    },
    {
      "cell_type": "code",
      "metadata": {
        "colab": {
          "base_uri": "https://localhost:8080/"
        },
        "id": "4kUeYUMICmlM",
        "outputId": "bb16c8ea-67d4-4460-cd8c-fcb616700f31"
      },
      "source": [
        "print(noise)"
      ],
      "execution_count": 7,
      "outputs": [
        {
          "output_type": "stream",
          "name": "stdout",
          "text": [
            "[ 1.88268593  0.16674586  0.78888583 ...  0.13706664  2.31823353\n",
            " -2.0881492 ]\n"
          ]
        }
      ]
    },
    {
      "cell_type": "code",
      "metadata": {
        "colab": {
          "base_uri": "https://localhost:8080/"
        },
        "id": "rlQmzuffC0Do",
        "outputId": "8a68062d-4284-487b-c185-ca3621f3eea7"
      },
      "source": [
        "print(len(noise))"
      ],
      "execution_count": 8,
      "outputs": [
        {
          "output_type": "stream",
          "name": "stdout",
          "text": [
            "1000000\n"
          ]
        }
      ]
    },
    {
      "cell_type": "markdown",
      "metadata": {
        "id": "B8GhHpQ-C92l"
      },
      "source": [
        "<strong>y = mx + b</strong>\n",
        "<br />\n",
        "<strong>m = 0.5</strong><br />\n",
        "<strong>b = 5</strong>"
      ]
    },
    {
      "cell_type": "markdown",
      "metadata": {
        "id": "smk3-WMgEIAr"
      },
      "source": [
        "O valor de <strong>interceptação</strong> é <strong>5</strong> e adicionamos algum ruído a ele, portanto, os dados não estão em uma linha perfeitamente reta."
      ]
    },
    {
      "cell_type": "code",
      "metadata": {
        "id": "AlsSgShnDc6m"
      },
      "source": [
        "y_true = (0.5 * x_data) + 5 + noise"
      ],
      "execution_count": 9,
      "outputs": []
    },
    {
      "cell_type": "markdown",
      "metadata": {
        "id": "kmnsMrjeFIlT"
      },
      "source": [
        "<h2>Criando os dados</h2>"
      ]
    },
    {
      "cell_type": "markdown",
      "metadata": {
        "id": "ACfXwDXdE0-O"
      },
      "source": [
        "Para isso vamos usar o Pandas para juntar algumas coisas e também para facilitar a plotagem dos dados"
      ]
    },
    {
      "cell_type": "code",
      "metadata": {
        "id": "SbVXyVq2F7MW"
      },
      "source": [
        "x_df = pd.DataFrame(data = x_data, columns = ['X Data'])"
      ],
      "execution_count": 10,
      "outputs": []
    },
    {
      "cell_type": "code",
      "metadata": {
        "id": "-YWOB5stGOLY"
      },
      "source": [
        "y_df = pd.DataFrame(data = y_true, columns = ['Y'])"
      ],
      "execution_count": 11,
      "outputs": []
    },
    {
      "cell_type": "code",
      "metadata": {
        "colab": {
          "base_uri": "https://localhost:8080/",
          "height": 206
        },
        "id": "tLpNtb5zGbtu",
        "outputId": "798e7e2a-e65f-433e-a8d5-3b3447d10421"
      },
      "source": [
        "x_df.head()"
      ],
      "execution_count": 12,
      "outputs": [
        {
          "output_type": "execute_result",
          "data": {
            "text/plain": [
              "    X Data\n",
              "0  0.00000\n",
              "1  0.00001\n",
              "2  0.00002\n",
              "3  0.00003\n",
              "4  0.00004"
            ],
            "text/html": [
              "\n",
              "  <div id=\"df-6d47ae21-366b-4f70-b20f-d865bab0c0f0\" class=\"colab-df-container\">\n",
              "    <div>\n",
              "<style scoped>\n",
              "    .dataframe tbody tr th:only-of-type {\n",
              "        vertical-align: middle;\n",
              "    }\n",
              "\n",
              "    .dataframe tbody tr th {\n",
              "        vertical-align: top;\n",
              "    }\n",
              "\n",
              "    .dataframe thead th {\n",
              "        text-align: right;\n",
              "    }\n",
              "</style>\n",
              "<table border=\"1\" class=\"dataframe\">\n",
              "  <thead>\n",
              "    <tr style=\"text-align: right;\">\n",
              "      <th></th>\n",
              "      <th>X Data</th>\n",
              "    </tr>\n",
              "  </thead>\n",
              "  <tbody>\n",
              "    <tr>\n",
              "      <th>0</th>\n",
              "      <td>0.00000</td>\n",
              "    </tr>\n",
              "    <tr>\n",
              "      <th>1</th>\n",
              "      <td>0.00001</td>\n",
              "    </tr>\n",
              "    <tr>\n",
              "      <th>2</th>\n",
              "      <td>0.00002</td>\n",
              "    </tr>\n",
              "    <tr>\n",
              "      <th>3</th>\n",
              "      <td>0.00003</td>\n",
              "    </tr>\n",
              "    <tr>\n",
              "      <th>4</th>\n",
              "      <td>0.00004</td>\n",
              "    </tr>\n",
              "  </tbody>\n",
              "</table>\n",
              "</div>\n",
              "    <div class=\"colab-df-buttons\">\n",
              "\n",
              "  <div class=\"colab-df-container\">\n",
              "    <button class=\"colab-df-convert\" onclick=\"convertToInteractive('df-6d47ae21-366b-4f70-b20f-d865bab0c0f0')\"\n",
              "            title=\"Convert this dataframe to an interactive table.\"\n",
              "            style=\"display:none;\">\n",
              "\n",
              "  <svg xmlns=\"http://www.w3.org/2000/svg\" height=\"24px\" viewBox=\"0 -960 960 960\">\n",
              "    <path d=\"M120-120v-720h720v720H120Zm60-500h600v-160H180v160Zm220 220h160v-160H400v160Zm0 220h160v-160H400v160ZM180-400h160v-160H180v160Zm440 0h160v-160H620v160ZM180-180h160v-160H180v160Zm440 0h160v-160H620v160Z\"/>\n",
              "  </svg>\n",
              "    </button>\n",
              "\n",
              "  <style>\n",
              "    .colab-df-container {\n",
              "      display:flex;\n",
              "      gap: 12px;\n",
              "    }\n",
              "\n",
              "    .colab-df-convert {\n",
              "      background-color: #E8F0FE;\n",
              "      border: none;\n",
              "      border-radius: 50%;\n",
              "      cursor: pointer;\n",
              "      display: none;\n",
              "      fill: #1967D2;\n",
              "      height: 32px;\n",
              "      padding: 0 0 0 0;\n",
              "      width: 32px;\n",
              "    }\n",
              "\n",
              "    .colab-df-convert:hover {\n",
              "      background-color: #E2EBFA;\n",
              "      box-shadow: 0px 1px 2px rgba(60, 64, 67, 0.3), 0px 1px 3px 1px rgba(60, 64, 67, 0.15);\n",
              "      fill: #174EA6;\n",
              "    }\n",
              "\n",
              "    .colab-df-buttons div {\n",
              "      margin-bottom: 4px;\n",
              "    }\n",
              "\n",
              "    [theme=dark] .colab-df-convert {\n",
              "      background-color: #3B4455;\n",
              "      fill: #D2E3FC;\n",
              "    }\n",
              "\n",
              "    [theme=dark] .colab-df-convert:hover {\n",
              "      background-color: #434B5C;\n",
              "      box-shadow: 0px 1px 3px 1px rgba(0, 0, 0, 0.15);\n",
              "      filter: drop-shadow(0px 1px 2px rgba(0, 0, 0, 0.3));\n",
              "      fill: #FFFFFF;\n",
              "    }\n",
              "  </style>\n",
              "\n",
              "    <script>\n",
              "      const buttonEl =\n",
              "        document.querySelector('#df-6d47ae21-366b-4f70-b20f-d865bab0c0f0 button.colab-df-convert');\n",
              "      buttonEl.style.display =\n",
              "        google.colab.kernel.accessAllowed ? 'block' : 'none';\n",
              "\n",
              "      async function convertToInteractive(key) {\n",
              "        const element = document.querySelector('#df-6d47ae21-366b-4f70-b20f-d865bab0c0f0');\n",
              "        const dataTable =\n",
              "          await google.colab.kernel.invokeFunction('convertToInteractive',\n",
              "                                                    [key], {});\n",
              "        if (!dataTable) return;\n",
              "\n",
              "        const docLinkHtml = 'Like what you see? Visit the ' +\n",
              "          '<a target=\"_blank\" href=https://colab.research.google.com/notebooks/data_table.ipynb>data table notebook</a>'\n",
              "          + ' to learn more about interactive tables.';\n",
              "        element.innerHTML = '';\n",
              "        dataTable['output_type'] = 'display_data';\n",
              "        await google.colab.output.renderOutput(dataTable, element);\n",
              "        const docLink = document.createElement('div');\n",
              "        docLink.innerHTML = docLinkHtml;\n",
              "        element.appendChild(docLink);\n",
              "      }\n",
              "    </script>\n",
              "  </div>\n",
              "\n",
              "\n",
              "<div id=\"df-d95c6ba5-43c3-4ff1-a005-dc3bac0be828\">\n",
              "  <button class=\"colab-df-quickchart\" onclick=\"quickchart('df-d95c6ba5-43c3-4ff1-a005-dc3bac0be828')\"\n",
              "            title=\"Suggest charts\"\n",
              "            style=\"display:none;\">\n",
              "\n",
              "<svg xmlns=\"http://www.w3.org/2000/svg\" height=\"24px\"viewBox=\"0 0 24 24\"\n",
              "     width=\"24px\">\n",
              "    <g>\n",
              "        <path d=\"M19 3H5c-1.1 0-2 .9-2 2v14c0 1.1.9 2 2 2h14c1.1 0 2-.9 2-2V5c0-1.1-.9-2-2-2zM9 17H7v-7h2v7zm4 0h-2V7h2v10zm4 0h-2v-4h2v4z\"/>\n",
              "    </g>\n",
              "</svg>\n",
              "  </button>\n",
              "\n",
              "<style>\n",
              "  .colab-df-quickchart {\n",
              "      --bg-color: #E8F0FE;\n",
              "      --fill-color: #1967D2;\n",
              "      --hover-bg-color: #E2EBFA;\n",
              "      --hover-fill-color: #174EA6;\n",
              "      --disabled-fill-color: #AAA;\n",
              "      --disabled-bg-color: #DDD;\n",
              "  }\n",
              "\n",
              "  [theme=dark] .colab-df-quickchart {\n",
              "      --bg-color: #3B4455;\n",
              "      --fill-color: #D2E3FC;\n",
              "      --hover-bg-color: #434B5C;\n",
              "      --hover-fill-color: #FFFFFF;\n",
              "      --disabled-bg-color: #3B4455;\n",
              "      --disabled-fill-color: #666;\n",
              "  }\n",
              "\n",
              "  .colab-df-quickchart {\n",
              "    background-color: var(--bg-color);\n",
              "    border: none;\n",
              "    border-radius: 50%;\n",
              "    cursor: pointer;\n",
              "    display: none;\n",
              "    fill: var(--fill-color);\n",
              "    height: 32px;\n",
              "    padding: 0;\n",
              "    width: 32px;\n",
              "  }\n",
              "\n",
              "  .colab-df-quickchart:hover {\n",
              "    background-color: var(--hover-bg-color);\n",
              "    box-shadow: 0 1px 2px rgba(60, 64, 67, 0.3), 0 1px 3px 1px rgba(60, 64, 67, 0.15);\n",
              "    fill: var(--button-hover-fill-color);\n",
              "  }\n",
              "\n",
              "  .colab-df-quickchart-complete:disabled,\n",
              "  .colab-df-quickchart-complete:disabled:hover {\n",
              "    background-color: var(--disabled-bg-color);\n",
              "    fill: var(--disabled-fill-color);\n",
              "    box-shadow: none;\n",
              "  }\n",
              "\n",
              "  .colab-df-spinner {\n",
              "    border: 2px solid var(--fill-color);\n",
              "    border-color: transparent;\n",
              "    border-bottom-color: var(--fill-color);\n",
              "    animation:\n",
              "      spin 1s steps(1) infinite;\n",
              "  }\n",
              "\n",
              "  @keyframes spin {\n",
              "    0% {\n",
              "      border-color: transparent;\n",
              "      border-bottom-color: var(--fill-color);\n",
              "      border-left-color: var(--fill-color);\n",
              "    }\n",
              "    20% {\n",
              "      border-color: transparent;\n",
              "      border-left-color: var(--fill-color);\n",
              "      border-top-color: var(--fill-color);\n",
              "    }\n",
              "    30% {\n",
              "      border-color: transparent;\n",
              "      border-left-color: var(--fill-color);\n",
              "      border-top-color: var(--fill-color);\n",
              "      border-right-color: var(--fill-color);\n",
              "    }\n",
              "    40% {\n",
              "      border-color: transparent;\n",
              "      border-right-color: var(--fill-color);\n",
              "      border-top-color: var(--fill-color);\n",
              "    }\n",
              "    60% {\n",
              "      border-color: transparent;\n",
              "      border-right-color: var(--fill-color);\n",
              "    }\n",
              "    80% {\n",
              "      border-color: transparent;\n",
              "      border-right-color: var(--fill-color);\n",
              "      border-bottom-color: var(--fill-color);\n",
              "    }\n",
              "    90% {\n",
              "      border-color: transparent;\n",
              "      border-bottom-color: var(--fill-color);\n",
              "    }\n",
              "  }\n",
              "</style>\n",
              "\n",
              "  <script>\n",
              "    async function quickchart(key) {\n",
              "      const quickchartButtonEl =\n",
              "        document.querySelector('#' + key + ' button');\n",
              "      quickchartButtonEl.disabled = true;  // To prevent multiple clicks.\n",
              "      quickchartButtonEl.classList.add('colab-df-spinner');\n",
              "      try {\n",
              "        const charts = await google.colab.kernel.invokeFunction(\n",
              "            'suggestCharts', [key], {});\n",
              "      } catch (error) {\n",
              "        console.error('Error during call to suggestCharts:', error);\n",
              "      }\n",
              "      quickchartButtonEl.classList.remove('colab-df-spinner');\n",
              "      quickchartButtonEl.classList.add('colab-df-quickchart-complete');\n",
              "    }\n",
              "    (() => {\n",
              "      let quickchartButtonEl =\n",
              "        document.querySelector('#df-d95c6ba5-43c3-4ff1-a005-dc3bac0be828 button');\n",
              "      quickchartButtonEl.style.display =\n",
              "        google.colab.kernel.accessAllowed ? 'block' : 'none';\n",
              "    })();\n",
              "  </script>\n",
              "</div>\n",
              "\n",
              "    </div>\n",
              "  </div>\n"
            ],
            "application/vnd.google.colaboratory.intrinsic+json": {
              "type": "dataframe",
              "variable_name": "x_df"
            }
          },
          "metadata": {},
          "execution_count": 12
        }
      ]
    },
    {
      "cell_type": "code",
      "metadata": {
        "id": "bUiMD1gWFiba"
      },
      "source": [
        "my_data = pd.concat([x_df, y_df], axis = 1)"
      ],
      "execution_count": 13,
      "outputs": []
    },
    {
      "cell_type": "code",
      "metadata": {
        "colab": {
          "base_uri": "https://localhost:8080/"
        },
        "id": "DZuai4IxG-4K",
        "outputId": "22581a0d-bf86-4b26-d428-b908b2c21d32"
      },
      "source": [
        "print(my_data.head())"
      ],
      "execution_count": 14,
      "outputs": [
        {
          "output_type": "stream",
          "name": "stdout",
          "text": [
            "    X Data         Y\n",
            "0  0.00000  6.882686\n",
            "1  0.00001  5.166751\n",
            "2  0.00002  5.788896\n",
            "3  0.00003  5.290435\n",
            "4  0.00004  6.054773\n"
          ]
        }
      ]
    },
    {
      "cell_type": "code",
      "metadata": {
        "colab": {
          "base_uri": "https://localhost:8080/",
          "height": 206
        },
        "id": "cbJsIy9wHxPQ",
        "outputId": "7bdba9da-acca-441a-a20b-6e1ff717209b"
      },
      "source": [
        "my_data.sample(n = 5)"
      ],
      "execution_count": 15,
      "outputs": [
        {
          "output_type": "execute_result",
          "data": {
            "text/plain": [
              "          X Data         Y\n",
              "951457  9.514580  8.603456\n",
              "755974  7.559748  8.055785\n",
              "331612  3.316123  5.589269\n",
              "617001  6.170016  8.879508\n",
              "651307  6.513077  7.302505"
            ],
            "text/html": [
              "\n",
              "  <div id=\"df-3bda0e1f-235b-43f2-b84d-25a57a8a68b0\" class=\"colab-df-container\">\n",
              "    <div>\n",
              "<style scoped>\n",
              "    .dataframe tbody tr th:only-of-type {\n",
              "        vertical-align: middle;\n",
              "    }\n",
              "\n",
              "    .dataframe tbody tr th {\n",
              "        vertical-align: top;\n",
              "    }\n",
              "\n",
              "    .dataframe thead th {\n",
              "        text-align: right;\n",
              "    }\n",
              "</style>\n",
              "<table border=\"1\" class=\"dataframe\">\n",
              "  <thead>\n",
              "    <tr style=\"text-align: right;\">\n",
              "      <th></th>\n",
              "      <th>X Data</th>\n",
              "      <th>Y</th>\n",
              "    </tr>\n",
              "  </thead>\n",
              "  <tbody>\n",
              "    <tr>\n",
              "      <th>951457</th>\n",
              "      <td>9.514580</td>\n",
              "      <td>8.603456</td>\n",
              "    </tr>\n",
              "    <tr>\n",
              "      <th>755974</th>\n",
              "      <td>7.559748</td>\n",
              "      <td>8.055785</td>\n",
              "    </tr>\n",
              "    <tr>\n",
              "      <th>331612</th>\n",
              "      <td>3.316123</td>\n",
              "      <td>5.589269</td>\n",
              "    </tr>\n",
              "    <tr>\n",
              "      <th>617001</th>\n",
              "      <td>6.170016</td>\n",
              "      <td>8.879508</td>\n",
              "    </tr>\n",
              "    <tr>\n",
              "      <th>651307</th>\n",
              "      <td>6.513077</td>\n",
              "      <td>7.302505</td>\n",
              "    </tr>\n",
              "  </tbody>\n",
              "</table>\n",
              "</div>\n",
              "    <div class=\"colab-df-buttons\">\n",
              "\n",
              "  <div class=\"colab-df-container\">\n",
              "    <button class=\"colab-df-convert\" onclick=\"convertToInteractive('df-3bda0e1f-235b-43f2-b84d-25a57a8a68b0')\"\n",
              "            title=\"Convert this dataframe to an interactive table.\"\n",
              "            style=\"display:none;\">\n",
              "\n",
              "  <svg xmlns=\"http://www.w3.org/2000/svg\" height=\"24px\" viewBox=\"0 -960 960 960\">\n",
              "    <path d=\"M120-120v-720h720v720H120Zm60-500h600v-160H180v160Zm220 220h160v-160H400v160Zm0 220h160v-160H400v160ZM180-400h160v-160H180v160Zm440 0h160v-160H620v160ZM180-180h160v-160H180v160Zm440 0h160v-160H620v160Z\"/>\n",
              "  </svg>\n",
              "    </button>\n",
              "\n",
              "  <style>\n",
              "    .colab-df-container {\n",
              "      display:flex;\n",
              "      gap: 12px;\n",
              "    }\n",
              "\n",
              "    .colab-df-convert {\n",
              "      background-color: #E8F0FE;\n",
              "      border: none;\n",
              "      border-radius: 50%;\n",
              "      cursor: pointer;\n",
              "      display: none;\n",
              "      fill: #1967D2;\n",
              "      height: 32px;\n",
              "      padding: 0 0 0 0;\n",
              "      width: 32px;\n",
              "    }\n",
              "\n",
              "    .colab-df-convert:hover {\n",
              "      background-color: #E2EBFA;\n",
              "      box-shadow: 0px 1px 2px rgba(60, 64, 67, 0.3), 0px 1px 3px 1px rgba(60, 64, 67, 0.15);\n",
              "      fill: #174EA6;\n",
              "    }\n",
              "\n",
              "    .colab-df-buttons div {\n",
              "      margin-bottom: 4px;\n",
              "    }\n",
              "\n",
              "    [theme=dark] .colab-df-convert {\n",
              "      background-color: #3B4455;\n",
              "      fill: #D2E3FC;\n",
              "    }\n",
              "\n",
              "    [theme=dark] .colab-df-convert:hover {\n",
              "      background-color: #434B5C;\n",
              "      box-shadow: 0px 1px 3px 1px rgba(0, 0, 0, 0.15);\n",
              "      filter: drop-shadow(0px 1px 2px rgba(0, 0, 0, 0.3));\n",
              "      fill: #FFFFFF;\n",
              "    }\n",
              "  </style>\n",
              "\n",
              "    <script>\n",
              "      const buttonEl =\n",
              "        document.querySelector('#df-3bda0e1f-235b-43f2-b84d-25a57a8a68b0 button.colab-df-convert');\n",
              "      buttonEl.style.display =\n",
              "        google.colab.kernel.accessAllowed ? 'block' : 'none';\n",
              "\n",
              "      async function convertToInteractive(key) {\n",
              "        const element = document.querySelector('#df-3bda0e1f-235b-43f2-b84d-25a57a8a68b0');\n",
              "        const dataTable =\n",
              "          await google.colab.kernel.invokeFunction('convertToInteractive',\n",
              "                                                    [key], {});\n",
              "        if (!dataTable) return;\n",
              "\n",
              "        const docLinkHtml = 'Like what you see? Visit the ' +\n",
              "          '<a target=\"_blank\" href=https://colab.research.google.com/notebooks/data_table.ipynb>data table notebook</a>'\n",
              "          + ' to learn more about interactive tables.';\n",
              "        element.innerHTML = '';\n",
              "        dataTable['output_type'] = 'display_data';\n",
              "        await google.colab.output.renderOutput(dataTable, element);\n",
              "        const docLink = document.createElement('div');\n",
              "        docLink.innerHTML = docLinkHtml;\n",
              "        element.appendChild(docLink);\n",
              "      }\n",
              "    </script>\n",
              "  </div>\n",
              "\n",
              "\n",
              "<div id=\"df-c67c8ffb-1ef0-4ea5-8b0e-85c69ffc2c09\">\n",
              "  <button class=\"colab-df-quickchart\" onclick=\"quickchart('df-c67c8ffb-1ef0-4ea5-8b0e-85c69ffc2c09')\"\n",
              "            title=\"Suggest charts\"\n",
              "            style=\"display:none;\">\n",
              "\n",
              "<svg xmlns=\"http://www.w3.org/2000/svg\" height=\"24px\"viewBox=\"0 0 24 24\"\n",
              "     width=\"24px\">\n",
              "    <g>\n",
              "        <path d=\"M19 3H5c-1.1 0-2 .9-2 2v14c0 1.1.9 2 2 2h14c1.1 0 2-.9 2-2V5c0-1.1-.9-2-2-2zM9 17H7v-7h2v7zm4 0h-2V7h2v10zm4 0h-2v-4h2v4z\"/>\n",
              "    </g>\n",
              "</svg>\n",
              "  </button>\n",
              "\n",
              "<style>\n",
              "  .colab-df-quickchart {\n",
              "      --bg-color: #E8F0FE;\n",
              "      --fill-color: #1967D2;\n",
              "      --hover-bg-color: #E2EBFA;\n",
              "      --hover-fill-color: #174EA6;\n",
              "      --disabled-fill-color: #AAA;\n",
              "      --disabled-bg-color: #DDD;\n",
              "  }\n",
              "\n",
              "  [theme=dark] .colab-df-quickchart {\n",
              "      --bg-color: #3B4455;\n",
              "      --fill-color: #D2E3FC;\n",
              "      --hover-bg-color: #434B5C;\n",
              "      --hover-fill-color: #FFFFFF;\n",
              "      --disabled-bg-color: #3B4455;\n",
              "      --disabled-fill-color: #666;\n",
              "  }\n",
              "\n",
              "  .colab-df-quickchart {\n",
              "    background-color: var(--bg-color);\n",
              "    border: none;\n",
              "    border-radius: 50%;\n",
              "    cursor: pointer;\n",
              "    display: none;\n",
              "    fill: var(--fill-color);\n",
              "    height: 32px;\n",
              "    padding: 0;\n",
              "    width: 32px;\n",
              "  }\n",
              "\n",
              "  .colab-df-quickchart:hover {\n",
              "    background-color: var(--hover-bg-color);\n",
              "    box-shadow: 0 1px 2px rgba(60, 64, 67, 0.3), 0 1px 3px 1px rgba(60, 64, 67, 0.15);\n",
              "    fill: var(--button-hover-fill-color);\n",
              "  }\n",
              "\n",
              "  .colab-df-quickchart-complete:disabled,\n",
              "  .colab-df-quickchart-complete:disabled:hover {\n",
              "    background-color: var(--disabled-bg-color);\n",
              "    fill: var(--disabled-fill-color);\n",
              "    box-shadow: none;\n",
              "  }\n",
              "\n",
              "  .colab-df-spinner {\n",
              "    border: 2px solid var(--fill-color);\n",
              "    border-color: transparent;\n",
              "    border-bottom-color: var(--fill-color);\n",
              "    animation:\n",
              "      spin 1s steps(1) infinite;\n",
              "  }\n",
              "\n",
              "  @keyframes spin {\n",
              "    0% {\n",
              "      border-color: transparent;\n",
              "      border-bottom-color: var(--fill-color);\n",
              "      border-left-color: var(--fill-color);\n",
              "    }\n",
              "    20% {\n",
              "      border-color: transparent;\n",
              "      border-left-color: var(--fill-color);\n",
              "      border-top-color: var(--fill-color);\n",
              "    }\n",
              "    30% {\n",
              "      border-color: transparent;\n",
              "      border-left-color: var(--fill-color);\n",
              "      border-top-color: var(--fill-color);\n",
              "      border-right-color: var(--fill-color);\n",
              "    }\n",
              "    40% {\n",
              "      border-color: transparent;\n",
              "      border-right-color: var(--fill-color);\n",
              "      border-top-color: var(--fill-color);\n",
              "    }\n",
              "    60% {\n",
              "      border-color: transparent;\n",
              "      border-right-color: var(--fill-color);\n",
              "    }\n",
              "    80% {\n",
              "      border-color: transparent;\n",
              "      border-right-color: var(--fill-color);\n",
              "      border-bottom-color: var(--fill-color);\n",
              "    }\n",
              "    90% {\n",
              "      border-color: transparent;\n",
              "      border-bottom-color: var(--fill-color);\n",
              "    }\n",
              "  }\n",
              "</style>\n",
              "\n",
              "  <script>\n",
              "    async function quickchart(key) {\n",
              "      const quickchartButtonEl =\n",
              "        document.querySelector('#' + key + ' button');\n",
              "      quickchartButtonEl.disabled = true;  // To prevent multiple clicks.\n",
              "      quickchartButtonEl.classList.add('colab-df-spinner');\n",
              "      try {\n",
              "        const charts = await google.colab.kernel.invokeFunction(\n",
              "            'suggestCharts', [key], {});\n",
              "      } catch (error) {\n",
              "        console.error('Error during call to suggestCharts:', error);\n",
              "      }\n",
              "      quickchartButtonEl.classList.remove('colab-df-spinner');\n",
              "      quickchartButtonEl.classList.add('colab-df-quickchart-complete');\n",
              "    }\n",
              "    (() => {\n",
              "      let quickchartButtonEl =\n",
              "        document.querySelector('#df-c67c8ffb-1ef0-4ea5-8b0e-85c69ffc2c09 button');\n",
              "      quickchartButtonEl.style.display =\n",
              "        google.colab.kernel.accessAllowed ? 'block' : 'none';\n",
              "    })();\n",
              "  </script>\n",
              "</div>\n",
              "\n",
              "    </div>\n",
              "  </div>\n"
            ],
            "application/vnd.google.colaboratory.intrinsic+json": {
              "type": "dataframe",
              "summary": "{\n  \"name\": \"my_data\",\n  \"rows\": 5,\n  \"fields\": [\n    {\n      \"column\": \"X Data\",\n      \"properties\": {\n        \"dtype\": \"number\",\n        \"std\": 2.257825019241424,\n        \"min\": 3.316123316123316,\n        \"max\": 9.514579514579514,\n        \"num_unique_values\": 5,\n        \"samples\": [\n          7.55974755974756,\n          6.513076513076513,\n          3.316123316123316\n        ],\n        \"semantic_type\": \"\",\n        \"description\": \"\"\n      }\n    },\n    {\n      \"column\": \"Y\",\n      \"properties\": {\n        \"dtype\": \"number\",\n        \"std\": 1.317789637878719,\n        \"min\": 5.589268776230572,\n        \"max\": 8.879508137961428,\n        \"num_unique_values\": 5,\n        \"samples\": [\n          8.055784634256224,\n          7.302504749597507,\n          5.589268776230572\n        ],\n        \"semantic_type\": \"\",\n        \"description\": \"\"\n      }\n    }\n  ]\n}"
            }
          },
          "metadata": {},
          "execution_count": 15
        }
      ]
    },
    {
      "cell_type": "markdown",
      "metadata": {
        "id": "EoYQeidlIruD"
      },
      "source": [
        "# <h2>A distribuição mostra visualmente a tendência linear</h2>"
      ]
    },
    {
      "cell_type": "code",
      "metadata": {
        "colab": {
          "base_uri": "https://localhost:8080/",
          "height": 466
        },
        "id": "ryh9DRotH88b",
        "outputId": "0c4d9bfc-d786-4bfd-a8db-b5f7f4c6edd2"
      },
      "source": [
        "my_data.sample(n = 250).plot(kind = 'scatter', x = 'X Data', y = \"Y\")"
      ],
      "execution_count": 16,
      "outputs": [
        {
          "output_type": "execute_result",
          "data": {
            "text/plain": [
              "<Axes: xlabel='X Data', ylabel='Y'>"
            ]
          },
          "metadata": {},
          "execution_count": 16
        },
        {
          "output_type": "display_data",
          "data": {
            "text/plain": [
              "<Figure size 640x480 with 1 Axes>"
            ],
            "image/png": "[encoded data removed]"
          },
          "metadata": {}
        }
      ]
    },
    {
      "cell_type": "markdown",
      "metadata": {
        "id": "5nOQzYLeLtpl"
      },
      "source": [
        "Para alimentar a rede neural com dados massivos, temos que separar em lotes e enviar aos poucos para o processamento no treinamento da rede."
      ]
    },
    {
      "cell_type": "code",
      "metadata": {
        "id": "wDi1KtLOLrXn"
      },
      "source": [
        "batch_size = 8"
      ],
      "execution_count": 17,
      "outputs": []
    },
    {
      "cell_type": "markdown",
      "metadata": {
        "id": "H1_EvA1xZxhY"
      },
      "source": [
        "<h2>Variáveis</h2>"
      ]
    },
    {
      "cell_type": "markdown",
      "metadata": {
        "id": "XvRnLLa5Ykoa"
      },
      "source": [
        "O comando abaixo é só pra gerar dois números aleatórios, poderíamos escolher da nossa cabeça mesmo"
      ]
    },
    {
      "cell_type": "code",
      "metadata": {
        "colab": {
          "base_uri": "https://localhost:8080/"
        },
        "id": "BqVCRmOYYkH9",
        "outputId": "b67ca66e-d87f-4c97-ab22-7194cbca6b8b"
      },
      "source": [
        "np.random.randn(2)"
      ],
      "execution_count": 18,
      "outputs": [
        {
          "output_type": "execute_result",
          "data": {
            "text/plain": [
              "array([ 1.00009093, -0.69092259])"
            ]
          },
          "metadata": {},
          "execution_count": 18
        }
      ]
    },
    {
      "cell_type": "markdown",
      "metadata": {
        "id": "T1FR1KyfZZol"
      },
      "source": [
        "O <strong>m</strong> é a inclinação da reta e o <strong>b</strong> é a interceptação"
      ]
    },
    {
      "cell_type": "code",
      "metadata": {
        "id": "htqzq8lbY-T2"
      },
      "source": [
        "m = tf.Variable(0.38)"
      ],
      "execution_count": 19,
      "outputs": []
    },
    {
      "cell_type": "code",
      "metadata": {
        "id": "-cfxirKtZEUL"
      },
      "source": [
        "b = tf.Variable(0.46)"
      ],
      "execution_count": 20,
      "outputs": []
    },
    {
      "cell_type": "markdown",
      "metadata": {
        "id": "Xci0-4LTFYwO"
      },
      "source": [
        "Novamente, o que queremos é que a rede descubra qual o <strong>m</strong> e o <strong>b</strong> que na equação linear <strong>y = mx + b</strong> melhor explique a distribuição que criamos artificialmente."
      ]
    },
    {
      "cell_type": "markdown",
      "metadata": {
        "id": "xRPBrMaDZ3jd"
      },
      "source": [
        "<h2>Placeholder</h2>"
      ]
    },
    {
      "cell_type": "code",
      "metadata": {
        "id": "H7DX-sDtZ6M_"
      },
      "source": [
        "xph = tf.placeholder(tf.float32, [batch_size])"
      ],
      "execution_count": 21,
      "outputs": []
    },
    {
      "cell_type": "code",
      "metadata": {
        "id": "StAH_rcZaLrh"
      },
      "source": [
        "yph = tf.placeholder(tf.float32, [batch_size])"
      ],
      "execution_count": 22,
      "outputs": []
    },
    {
      "cell_type": "markdown",
      "metadata": {
        "id": "4XBIsSTHaUP9"
      },
      "source": [
        "<h2>Grafo - Define as operações<h2>"
      ]
    },
    {
      "cell_type": "code",
      "metadata": {
        "id": "v5ZbL_9ZaXGn"
      },
      "source": [
        "y_model = m * xph + b"
      ],
      "execution_count": 23,
      "outputs": []
    },
    {
      "cell_type": "markdown",
      "metadata": {
        "id": "w9-cmXwmao4N"
      },
      "source": [
        "<h2>Função de perda</h2>"
      ]
    },
    {
      "cell_type": "code",
      "metadata": {
        "id": "_xqow_bwasXw"
      },
      "source": [
        "error = tf.reduce_sum(tf.square(yph - y_model)) #y_model tem os valores previstos"
      ],
      "execution_count": 24,
      "outputs": []
    },
    {
      "cell_type": "markdown",
      "metadata": {
        "id": "os0eBjaDc-TI"
      },
      "source": [
        "<h2>Otimização</h2>"
      ]
    },
    {
      "cell_type": "code",
      "metadata": {
        "id": "xGy48st-dBNb"
      },
      "source": [
        "optimizer = tf.train.GradientDescentOptimizer(learning_rate = 0.001)"
      ],
      "execution_count": 27,
      "outputs": []
    },
    {
      "cell_type": "code",
      "metadata": {
        "id": "5iZABHTKdgLk"
      },
      "source": [
        "train = optimizer.minimize(error)"
      ],
      "execution_count": 28,
      "outputs": []
    },
    {
      "cell_type": "markdown",
      "metadata": {
        "id": "vmLgAt6Bd8M8"
      },
      "source": [
        "<h2>Inicializando as variáveis</h2>"
      ]
    },
    {
      "cell_type": "code",
      "metadata": {
        "id": "R3XsjX1AeGi0"
      },
      "source": [
        "init = tf.global_variables_initializer()"
      ],
      "execution_count": 29,
      "outputs": []
    },
    {
      "cell_type": "markdown",
      "metadata": {
        "id": "qfgeGLtqeP_l"
      },
      "source": [
        "<h2>Sessão</h2>"
      ]
    },
    {
      "cell_type": "markdown",
      "metadata": {
        "id": "C6svaKVWgysF"
      },
      "source": [
        "A rede será alimentada com 1000 lotes de dados de 8 em 8, onde em cada lote temos pontos de dados correspondentes, <strong>x</strong> pontos de dados e o rótulo <strong>y</strong>, já que é um aprendizado supervisionado."
      ]
    },
    {
      "cell_type": "markdown",
      "metadata": {
        "id": "nMUDO3CvEEm9"
      },
      "source": [
        "A rede será treinada com 8 mil pontos de dados: <strong>batches * batch_size = 8000</strong>"
      ]
    },
    {
      "cell_type": "code",
      "metadata": {
        "id": "9Rab1UgxeNEr"
      },
      "source": [
        "with tf.Session() as sess:\n",
        "  sess.run(init)\n",
        "  batches = 100000\n",
        "  for i in range(batches):\n",
        "    rand_ind = np.random.randint(len(x_data), size = batch_size)\n",
        "\n",
        "    feed = {xph: x_data[rand_ind], yph: y_true[rand_ind] }\n",
        "\n",
        "    sess.run(train, feed_dict = feed)\n",
        "\n",
        "  model_m, model_b = sess.run([m, b])"
      ],
      "execution_count": 44,
      "outputs": []
    },
    {
      "cell_type": "code",
      "metadata": {
        "id": "_3bD3NHSiRNu"
      },
      "source": [
        "rand_ind = np.random.randint(len(x_data), size = batch_size)"
      ],
      "execution_count": 45,
      "outputs": []
    },
    {
      "cell_type": "code",
      "metadata": {
        "colab": {
          "base_uri": "https://localhost:8080/"
        },
        "id": "_WHIXLyViSCp",
        "outputId": "8761d2ef-8bbc-4beb-b8aa-2644325d8d14"
      },
      "source": [
        "rand_ind"
      ],
      "execution_count": 46,
      "outputs": [
        {
          "output_type": "execute_result",
          "data": {
            "text/plain": [
              "array([120982, 503799, 422169, 319190, 753297, 120098, 624349, 708864])"
            ]
          },
          "metadata": {},
          "execution_count": 46
        }
      ]
    },
    {
      "cell_type": "markdown",
      "metadata": {
        "id": "Ej7miS6MEny7"
      },
      "source": [
        "O <strong>model_m</strong> deve ser próximo de <strong>0.5</strong> e o <strong>model_b</strong> perto de <strong>5.0</strong>.<br />\n",
        "Porque lá no começo do código definimos:\n",
        "<strong>y_true = (0.5 * x_data) + 5 + noise</strong>"
      ]
    },
    {
      "cell_type": "code",
      "metadata": {
        "colab": {
          "base_uri": "https://localhost:8080/"
        },
        "id": "ISLUkpPjkG7S",
        "outputId": "b62ecde7-2fa7-432e-c030-d677283ad75c"
      },
      "source": [
        "print(model_m)"
      ],
      "execution_count": 47,
      "outputs": [
        {
          "output_type": "stream",
          "name": "stdout",
          "text": [
            "0.49492997\n"
          ]
        }
      ]
    },
    {
      "cell_type": "code",
      "metadata": {
        "colab": {
          "base_uri": "https://localhost:8080/"
        },
        "id": "3U3T5CZwkW1f",
        "outputId": "41d2db69-c84a-4eed-fe64-3754ca9dfc1b"
      },
      "source": [
        "print(model_b)"
      ],
      "execution_count": 48,
      "outputs": [
        {
          "output_type": "stream",
          "name": "stdout",
          "text": [
            "4.9666595\n"
          ]
        }
      ]
    },
    {
      "cell_type": "markdown",
      "metadata": {
        "id": "AvaidB2XH0s4"
      },
      "source": [
        "O <strong>y_hat</strong> são os pontos previsto pelo modelo, que será plotado logo abaixo em uma reta vermelha"
      ]
    },
    {
      "cell_type": "code",
      "metadata": {
        "id": "l2l7G8aMkasw"
      },
      "source": [
        "y_hat = x_data * model_m + model_b"
      ],
      "execution_count": 49,
      "outputs": []
    },
    {
      "cell_type": "code",
      "metadata": {
        "colab": {
          "base_uri": "https://localhost:8080/",
          "height": 466
        },
        "id": "4HNttTCalbMY",
        "outputId": "b178f411-e3d3-4a72-fe72-3d13a84c8588"
      },
      "source": [
        "my_data.sample(250).plot(kind = 'scatter', x = 'X Data', y = 'Y')\n",
        "plt.plot(x_data, y_hat, 'r')"
      ],
      "execution_count": 50,
      "outputs": [
        {
          "output_type": "execute_result",
          "data": {
            "text/plain": [
              "[<matplotlib.lines.Line2D at 0x7acfa302f9d0>]"
            ]
          },
          "metadata": {},
          "execution_count": 50
        },
        {
          "output_type": "display_data",
          "data": {
            "text/plain": [
              "<Figure size 640x480 with 1 Axes>"
            ],
            "image/png": "[encoded data removed]"
          },
          "metadata": {}
        }
      ]
    },
    {
      "cell_type": "markdown",
      "metadata": {
        "id": "uNL1T8qGIHrp"
      },
      "source": [
        "<h2>Fim do exemplo 02 de Regressão Linear com redes neurais</h2>"
      ]
    }
  ]
}