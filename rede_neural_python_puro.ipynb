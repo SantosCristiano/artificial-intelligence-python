{
  "nbformat": 4,
  "nbformat_minor": 0,
  "metadata": {
    "colab": {
      "provenance": [],
      "include_colab_link": true
    },
    "kernelspec": {
      "name": "python3",
      "display_name": "Python 3"
    }
  },
  "cells": [
    {
      "cell_type": "markdown",
      "metadata": {
        "id": "view-in-github",
        "colab_type": "text"
      },
      "source": [
        "<a href=\"https://colab.research.google.com/github/SantosCristiano/artificial-intelligence-python/blob/main/rede_neural_python_puro.ipynb\" target=\"_parent\"><img src=\"https://colab.research.google.com/assets/colab-badge.svg\" alt=\"Open In Colab\"/></a>"
      ]
    },
    {
      "cell_type": "markdown",
      "metadata": {
        "id": "RsSWbvnFb9rJ"
      },
      "source": [
        "# Rede neural usando python puro"
      ]
    },
    {
      "cell_type": "markdown",
      "metadata": {
        "id": "OA_UWkkfKG8W"
      },
      "source": [
        "### importa o numpy"
      ]
    },
    {
      "cell_type": "code",
      "metadata": {
        "id": "ngyc3fD2J07A"
      },
      "source": [
        "import numpy as np"
      ],
      "execution_count": 1,
      "outputs": []
    },
    {
      "cell_type": "markdown",
      "metadata": {
        "id": "fNu_K0D6KOss"
      },
      "source": [
        "## Grafo"
      ]
    },
    {
      "cell_type": "code",
      "metadata": {
        "id": "BXnPo0HDKTUF"
      },
      "source": [
        "class Graph():\n",
        "  def __init__(self):\n",
        "    self.operations = []\n",
        "    self.placeholders = []\n",
        "    self.variables = []\n",
        "\n",
        "  def set_as_default(self):\n",
        "    global _default_graph\n",
        "    _default_graph = self"
      ],
      "execution_count": 2,
      "outputs": []
    },
    {
      "cell_type": "markdown",
      "metadata": {
        "id": "bxj6mabKcVvj"
      },
      "source": [
        "## Operações\n",
        "\n",
        "\n"
      ]
    },
    {
      "cell_type": "code",
      "metadata": {
        "id": "Tzk98ivIx6ts"
      },
      "source": [
        "class Operation():\n",
        "  #construtor\n",
        "  def __init__(self, input_nodes = []):\n",
        "    self.input_nodes = input_nodes\n",
        "    # a lista vazia vai ser substituída\n",
        "    # pela classe que irá extender Operation\n",
        "    # ou seja as operações\n",
        "    self.output_nodes = []\n",
        "\n",
        "    # para cada nó no input_nodes\n",
        "    # ponha essa operação na lista\n",
        "    # output_nodes daquele nó\n",
        "    for node in input_nodes:\n",
        "      node.output_nodes.append(self)\n",
        "    # As operações se inserem(self) na lista\n",
        "    # de operações do grafo global da rede\n",
        "    _default_graph.operations.append(self)\n",
        "  # O pass é porque o compute é apenas um método de espaço\n",
        "  # reservado e será substituído pelo método específico (soma, multiplica...)\n",
        "  def compute(self):\n",
        "    pass # deixa a implementação real para as subclasses"
      ],
      "execution_count": 4,
      "outputs": []
    },
    {
      "cell_type": "markdown",
      "metadata": {
        "id": "A-KWmKNsFrOF"
      },
      "source": [
        "### Variável"
      ]
    },
    {
      "cell_type": "code",
      "metadata": {
        "id": "AHjABH9yLXTp"
      },
      "source": [
        "class Variable():\n",
        "  def __init__(self, initial_value= None):\n",
        "    self.value = initial_value\n",
        "    self.output_nodes = []\n",
        "\n",
        "    _default_graph.variables.append(self)"
      ],
      "execution_count": 5,
      "outputs": []
    },
    {
      "cell_type": "markdown",
      "metadata": {
        "id": "bQwxMTe709jr"
      },
      "source": [
        "## Criando operações que extendem <strong>Operation</strong>"
      ]
    },
    {
      "cell_type": "markdown",
      "metadata": {
        "id": "KFZSU0dFLTQg"
      },
      "source": [
        "## Operações"
      ]
    },
    {
      "cell_type": "markdown",
      "metadata": {
        "id": "idJv7-vn21Bx"
      },
      "source": [
        "## obs. as classes <strong>add</strong>, <strong>multiply</strong> e <strong>matmul</strong> estão começando em letra <strong>minúscula</strong>, para seguir a convenção de nomenclatura do tensorflow."
      ]
    },
    {
      "cell_type": "code",
      "metadata": {
        "id": "Ifo--Z-w1JwT"
      },
      "source": [
        "class add(Operation):\n",
        "  def __init__(self, x, y):\n",
        "    # Construimos a parte da classe pai\n",
        "    # o Operation e passamos a lista de\n",
        "    # entrada [x, y]\n",
        "    super().__init__([x, y])\n",
        "\n",
        "  # Esse método compute sobrescreve o compute da classe Operation\n",
        "  def compute(self, x_var, y_var):\n",
        "    self.inputs = [x_var, y_var]\n",
        "    return x_var + y_var"
      ],
      "execution_count": 6,
      "outputs": []
    },
    {
      "cell_type": "code",
      "metadata": {
        "id": "N4Pqp4uM2sqO"
      },
      "source": [
        "class multiply(Operation):\n",
        "  def __init__(self, x, y):\n",
        "    # Construimos a parte da classe pai\n",
        "    # o Operation e passamos a lista de\n",
        "    # entrada [x, y]\n",
        "    super().__init__([x, y])\n",
        "\n",
        "  # Esse método compute sobrescreve o compute da classe Operation\n",
        "  def compute(self, x_var, y_var):\n",
        "    self.inputs = [x_var, y_var]\n",
        "    return x_var * y_var"
      ],
      "execution_count": 7,
      "outputs": []
    },
    {
      "cell_type": "code",
      "metadata": {
        "id": "YxLz6WIxK5OF"
      },
      "source": [
        "# Imagine que x_var e y_var sejam matrizes numpy\n",
        "class matmul(Operation):\n",
        "  def __init__(self, x, y):\n",
        "    # Construimos a parte da classe pai\n",
        "    # o Operation e passamos a lista de\n",
        "    # entrada [x, y]\n",
        "    super().__init__([x, y])\n",
        "  # Esse método compute sobrescreve o compute da classe Operation\n",
        "  def compute(self, x_var, y_var):\n",
        "    self.inputs = [x_var, y_var]\n",
        "    return x_var * y_var"
      ],
      "execution_count": 9,
      "outputs": []
    },
    {
      "cell_type": "markdown",
      "metadata": {
        "id": "z49poDDpDLNN"
      },
      "source": [
        "## Placeholder, variáveis e o Grafo da rede"
      ]
    },
    {
      "cell_type": "markdown",
      "metadata": {
        "id": "bjxS2CPtDZY_"
      },
      "source": [
        "### Placeholder"
      ]
    },
    {
      "cell_type": "code",
      "metadata": {
        "id": "8VDPl7U5C9jy"
      },
      "source": [
        "class Placeholder():\n",
        "  def __init__(self):\n",
        "    self.output_nodes = []\n",
        "    _default_graph.placeholders.append(self)"
      ],
      "execution_count": 10,
      "outputs": []
    },
    {
      "cell_type": "markdown",
      "metadata": {
        "id": "qFy1F_SBGSuN"
      },
      "source": [
        "## Instanciando e inicializando um grafo global"
      ]
    },
    {
      "cell_type": "markdown",
      "metadata": {
        "id": "QGueW2hnGJS4"
      },
      "source": [
        "### Exemplo de uso\n",
        "z = Ax + b\n",
        "\n",
        "A = 10\n",
        "\n",
        "b = 1\n",
        "\n",
        "z = 10x + 1"
      ]
    },
    {
      "cell_type": "markdown",
      "metadata": {
        "id": "kHVozdTL_mpU"
      },
      "source": [
        "## Garantindo a ordem de execução correta das computações"
      ]
    },
    {
      "cell_type": "markdown",
      "metadata": {
        "id": "3r3Sp3abnDkP"
      },
      "source": [
        "## Algoritmo Postorder(tree)\n",
        "\n",
        "1.  Atravessa a subárvore esquerda, ou seja, chama a Postorder(left-subtree)\n",
        "2.   Atravessa a subárvore direita, ou seja, chama a Postorder(right-subtree)\n",
        "2.   Visita o nó\n",
        "\n"
      ]
    },
    {
      "cell_type": "code",
      "metadata": {
        "id": "8KNeahFgIFUK"
      },
      "source": [
        "def traverse_postorder(operation):\n",
        "  \"\"\"\n",
        "     https://en.wikipedia.org/wiki/Tree_traversal#Post-order_(LRN)\n",
        "     Percorre os nós na ordem correta, executando portanto a\n",
        "     computação na ordem correta, primeiro Ax depois Ax + b.\n",
        "  \"\"\"\n",
        "\n",
        "  nodes_postorder = []\n",
        "  def recurse(node): # cada node = (node + op)\n",
        "    # verifica se o nó é uma instância de Operation\n",
        "    if isinstance(node, Operation):\n",
        "      # se entrou, é porque no nó é uma operação\n",
        "      # percorre a lista input_nodes do nó da classe Operation\n",
        "      for input_node in node.input_nodes:\n",
        "        # Chama recursivamente a recurse() passando cada elemento\n",
        "        # da lista input_nodes do nó da classe Operation\n",
        "        recurse(input_node)\n",
        "    # quando sai do if faz o append na lista nodes_postorder,\n",
        "    # de um dicionário onde o nome do nó é a chave\n",
        "    # e o valor é o próprio nó\n",
        "    nodes_postorder.append(node)\n",
        "  # chamada da função recurse() passando a operação\n",
        "  recurse(operation)\n",
        "  return nodes_postorder"
      ],
      "execution_count": 11,
      "outputs": []
    },
    {
      "cell_type": "markdown",
      "metadata": {
        "id": "ttdbAsY2_r_z"
      },
      "source": [
        "## Executa o grafo"
      ]
    },
    {
      "cell_type": "code",
      "metadata": {
        "id": "UfQ7As7thmbI"
      },
      "source": [
        "#Executa o gráfico com a classe Session\n",
        "class Session():\n",
        "  # O termo feed_dict é pra manter a mesma terminologia do tensorflow\n",
        "  def run(self, operation, feed_dict={}):\n",
        "    # Recebe a ordem da execução\n",
        "    nodes_postorder = traverse_postorder(operation)\n",
        "    for node in nodes_postorder:\n",
        "      # Se o nó for um Placeholder\n",
        "      if type(node) == Placeholder:\n",
        "        node.output = feed_dict[node]\n",
        "      # Se o nó for um Variable\n",
        "      elif type(node) == Variable:\n",
        "        # Insere na lista output do nó da variável o value do nó da vez\n",
        "        node.output = node.value\n",
        "      else:\n",
        "        node.inputs = [input_node.output for input_node in node.input_nodes]\n",
        "        # * infere que o número de parâmetros é determinado\n",
        "        # pelo tamanho da lista\n",
        "        node.output = node.compute(*node.inputs)\n",
        "      # Converte a lista para um numpy array\n",
        "      if type(node.output) == list:\n",
        "        # Para matmul funcionar\n",
        "        node.output = np.array(node.output)\n",
        "    return operation.output"
      ],
      "execution_count": null,
      "outputs": []
    },
    {
      "cell_type": "markdown",
      "metadata": {
        "id": "5NOONTXoPaxR"
      },
      "source": [
        "## Instancia o Grafo e define como global"
      ]
    },
    {
      "cell_type": "code",
      "metadata": {
        "id": "UKns5OZ2GKjo"
      },
      "source": [
        "g = Graph()\n",
        "g.set_as_default()"
      ],
      "execution_count": null,
      "outputs": []
    },
    {
      "cell_type": "markdown",
      "metadata": {
        "id": "OD7Il6knIWVq"
      },
      "source": [
        "Criando as duas variáveis"
      ]
    },
    {
      "cell_type": "code",
      "metadata": {
        "id": "IZ6zh1A2GQvr"
      },
      "source": [
        "A = Variable(10)\n",
        "b = Variable(1)"
      ],
      "execution_count": null,
      "outputs": []
    },
    {
      "cell_type": "markdown",
      "metadata": {
        "id": "MJT5wO4uIf0q"
      },
      "source": [
        "### Criando um Placeholder e atribuindo a x"
      ]
    },
    {
      "cell_type": "code",
      "metadata": {
        "id": "hwxCSf2OImDp"
      },
      "source": [
        "x = Placeholder()"
      ],
      "execution_count": null,
      "outputs": []
    },
    {
      "cell_type": "markdown",
      "metadata": {
        "id": "oxdKWw7cIuk5"
      },
      "source": [
        "### Multiplicação da A por x atribuindo a y"
      ]
    },
    {
      "cell_type": "code",
      "metadata": {
        "id": "mLMqtooNI-R0"
      },
      "source": [
        "y = multiply(A, x)"
      ],
      "execution_count": null,
      "outputs": []
    },
    {
      "cell_type": "markdown",
      "metadata": {
        "id": "nXV5A6vwJFos"
      },
      "source": [
        "### Adição de y e b"
      ]
    },
    {
      "cell_type": "code",
      "metadata": {
        "id": "ke2sOMGbPP9M"
      },
      "source": [
        "z = add(y, b)"
      ],
      "execution_count": null,
      "outputs": []
    },
    {
      "cell_type": "markdown",
      "metadata": {
        "id": "cBwNNOXz_0SX"
      },
      "source": [
        "### Criando uma Session"
      ]
    },
    {
      "cell_type": "code",
      "metadata": {
        "id": "Xo5i7GP8_5xT"
      },
      "source": [
        "sess = Session()"
      ],
      "execution_count": null,
      "outputs": []
    },
    {
      "cell_type": "markdown",
      "metadata": {
        "id": "ueYk8IcEPRYj"
      },
      "source": [
        "## Usa a sessão para efetivamente fazer a computação"
      ]
    },
    {
      "cell_type": "markdown",
      "metadata": {
        "id": "WUDG4CABQWn4"
      },
      "source": [
        "### z = 10x + 1, se definimos <strong>x</strong> como <strong>10</strong> então:\n",
        "### z = 10 * 10 + 1 = 101"
      ]
    },
    {
      "cell_type": "code",
      "metadata": {
        "colab": {
          "base_uri": "https://localhost:8080/"
        },
        "id": "NULegQfAPSXd",
        "outputId": "81ca2a42-57a0-4d86-8b65-d77dee250a44"
      },
      "source": [
        "result = sess.run(operation = z, feed_dict={x: 10})\n",
        "print(result)"
      ],
      "execution_count": null,
      "outputs": [
        {
          "output_type": "stream",
          "text": [
            "101\n"
          ],
          "name": "stdout"
        }
      ]
    },
    {
      "cell_type": "markdown",
      "metadata": {
        "id": "i6wXFuKm_8nc"
      },
      "source": [
        "### Multiplicação de matriz"
      ]
    },
    {
      "cell_type": "code",
      "metadata": {
        "id": "G7rcaHvz_-92"
      },
      "source": [
        "g = Graph()\n",
        "g.set_as_default()\n",
        "A = Variable([[10, 20],[30, 40]])\n",
        "b = Variable([1, 1])"
      ],
      "execution_count": null,
      "outputs": []
    },
    {
      "cell_type": "code",
      "metadata": {
        "colab": {
          "base_uri": "https://localhost:8080/"
        },
        "id": "o7SB3VGBmHAK",
        "outputId": "a0b2b7d9-5140-423f-b512-aad01bfac44b"
      },
      "source": [
        "x = Placeholder()\n",
        "y = matmul(A, x)\n",
        "z = add(y, b)\n",
        "result = sess.run(operation = z, feed_dict={x: 10})\n",
        "print(result)"
      ],
      "execution_count": null,
      "outputs": [
        {
          "output_type": "stream",
          "text": [
            "[[101 201]\n",
            " [301 401]]\n"
          ],
          "name": "stdout"
        }
      ]
    },
    {
      "cell_type": "markdown",
      "metadata": {
        "id": "-FKMcNC34-eX"
      },
      "source": [
        "# Classificação\n",
        "\n",
        "## Função de ativação"
      ]
    },
    {
      "cell_type": "code",
      "metadata": {
        "id": "NlLT7LiTAatd"
      },
      "source": [
        "import matplotlib.pyplot as plt\n",
        "%matplotlib inline"
      ],
      "execution_count": null,
      "outputs": []
    },
    {
      "cell_type": "code",
      "metadata": {
        "id": "eTOV8-9TB5-1"
      },
      "source": [
        "def sigmoid(z):\n",
        "  return 1 / (1 + np.exp(-z))"
      ],
      "execution_count": null,
      "outputs": []
    },
    {
      "cell_type": "code",
      "metadata": {
        "id": "a6Fi7qOqCFuo"
      },
      "source": [
        "sample_z = np.linspace(-10, 10, 100)\n",
        "sample_a = sigmoid(sample_z)"
      ],
      "execution_count": null,
      "outputs": []
    },
    {
      "cell_type": "code",
      "metadata": {
        "colab": {
          "base_uri": "https://localhost:8080/",
          "height": 282
        },
        "id": "MwXtoQuDCV8A",
        "outputId": "476d93fd-a0fe-4f69-aaef-ad9f4da648b7"
      },
      "source": [
        "plt.plot(sample_z, sample_a)"
      ],
      "execution_count": null,
      "outputs": [
        {
          "output_type": "execute_result",
          "data": {
            "text/plain": [
              "[<matplotlib.lines.Line2D at 0x7f690406bbe0>]"
            ]
          },
          "metadata": {
            "tags": []
          },
          "execution_count": 653
        },
        {
          "output_type": "display_data",
          "data": {
            "image/png": "[encoded data removed]",
            "text/plain": [
              "<Figure size 432x288 with 1 Axes>"
            ]
          },
          "metadata": {
            "tags": [],
            "needs_background": "light"
          }
        }
      ]
    },
    {
      "cell_type": "markdown",
      "metadata": {
        "id": "5WjK3Q5FHk7c"
      },
      "source": [
        "# Classe Sigmoid\n"
      ]
    },
    {
      "cell_type": "markdown",
      "metadata": {
        "id": "Uj0UowUjHz8a"
      },
      "source": [
        "Vamos fazer isso em uma operação, porque tecnicamente uma ativação é uma operação."
      ]
    },
    {
      "cell_type": "code",
      "metadata": {
        "id": "E1RJ2gbVHjXA"
      },
      "source": [
        "class Sigmoid(Operation):\n",
        "\n",
        "  def __init__(self, z):\n",
        "    super().__init__([z])\n",
        "\n",
        "  def compute(self, z_value):\n",
        "    return 1 / (1 + np.exp(-z_value))"
      ],
      "execution_count": null,
      "outputs": []
    },
    {
      "cell_type": "markdown",
      "metadata": {
        "id": "nbCecYOmJb78"
      },
      "source": [
        "## Gerando os dados para a classificação com <strong>sklearn</strong>"
      ]
    },
    {
      "cell_type": "code",
      "metadata": {
        "id": "0tPHSjhpJbYO"
      },
      "source": [
        "from sklearn.datasets import make_blobs"
      ],
      "execution_count": null,
      "outputs": []
    },
    {
      "cell_type": "code",
      "metadata": {
        "id": "7sMM9SJvKFtr"
      },
      "source": [
        "data = make_blobs(n_samples = 50, n_features = 2, centers = 2, random_state = 75, shuffle = False)"
      ],
      "execution_count": null,
      "outputs": []
    },
    {
      "cell_type": "code",
      "metadata": {
        "colab": {
          "base_uri": "https://localhost:8080/"
        },
        "id": "rwgcQNejPR6O",
        "outputId": "7c5b7198-3192-4929-d437-14b85a31da37"
      },
      "source": [
        "data"
      ],
      "execution_count": null,
      "outputs": [
        {
          "output_type": "execute_result",
          "data": {
            "text/plain": [
              "(array([[  1.85582689,  -6.74473432],\n",
              "        [  1.82921897,  -9.86956281],\n",
              "        [  1.99243535,  -8.85885722],\n",
              "        [  2.72532584,  -7.51956557],\n",
              "        [  1.57961049,  -8.17089971],\n",
              "        [  0.61463602,  -9.51908883],\n",
              "        [  1.96322881,  -9.50169117],\n",
              "        [  0.65582768,  -9.5920878 ],\n",
              "        [  2.09335725,  -7.66278316],\n",
              "        [  2.00890845,  -9.78471782],\n",
              "        [  1.92000795,  -7.50953708],\n",
              "        [  1.06965742,  -8.1648251 ],\n",
              "        [  1.23053506,  -7.98873571],\n",
              "        [  0.06441546,  -9.04982817],\n",
              "        [  1.3970852 ,  -7.25918415],\n",
              "        [  2.88603902,  -8.85261704],\n",
              "        [  0.79580385,  -9.00301023],\n",
              "        [  3.04605603,  -7.50486114],\n",
              "        [  3.13114921,  -8.6849493 ],\n",
              "        [  1.41804346,  -8.10517372],\n",
              "        [  1.31977821,  -7.2710667 ],\n",
              "        [  1.90073973,  -7.24386675],\n",
              "        [ -0.07326715, -11.69999644],\n",
              "        [ -1.20046211,  -9.55928542],\n",
              "        [  1.05865542,  -8.43841416],\n",
              "        [  7.38443759,   7.72520389],\n",
              "        [  8.15467319,   7.87489634],\n",
              "        [  6.11644251,   9.26709393],\n",
              "        [  9.13332743,   8.74906102],\n",
              "        [  6.94948313,   8.75248232],\n",
              "        [  6.42356167,   8.33356412],\n",
              "        [  9.65371965,   9.35409538],\n",
              "        [  6.43807502,   7.85483418],\n",
              "        [  7.70630321,  10.78862346],\n",
              "        [  8.20949206,  11.90419283],\n",
              "        [  6.37298915,   9.77705761],\n",
              "        [  7.76974352,   9.50899462],\n",
              "        [  7.2075117 ,   7.04533624],\n",
              "        [  7.7605855 ,   7.05124418],\n",
              "        [  7.24898455,   8.85834104],\n",
              "        [  7.3402781 ,   9.36149154],\n",
              "        [  9.81270381,   9.46968531],\n",
              "        [  7.85036314,   7.986659  ],\n",
              "        [  8.79588546,   7.28046702],\n",
              "        [  7.27808709,   7.15201886],\n",
              "        [  6.90561582,   9.23493842],\n",
              "        [  9.10704928,   9.0272212 ],\n",
              "        [  7.97613887,   8.80878209],\n",
              "        [  8.3186688 ,  10.1026025 ],\n",
              "        [  7.68945113,   9.01706723]]),\n",
              " array([0, 0, 0, 0, 0, 0, 0, 0, 0, 0, 0, 0, 0, 0, 0, 0, 0, 0, 0, 0, 0, 0,\n",
              "        0, 0, 0, 1, 1, 1, 1, 1, 1, 1, 1, 1, 1, 1, 1, 1, 1, 1, 1, 1, 1, 1,\n",
              "        1, 1, 1, 1, 1, 1]))"
            ]
          },
          "metadata": {
            "tags": []
          },
          "execution_count": 657
        }
      ]
    },
    {
      "cell_type": "code",
      "metadata": {
        "colab": {
          "base_uri": "https://localhost:8080/"
        },
        "id": "o74CfiIQRNu0",
        "outputId": "27c17412-164e-495e-82e8-dd2860045d36"
      },
      "source": [
        "type(data)"
      ],
      "execution_count": null,
      "outputs": [
        {
          "output_type": "execute_result",
          "data": {
            "text/plain": [
              "tuple"
            ]
          },
          "metadata": {
            "tags": []
          },
          "execution_count": 658
        }
      ]
    },
    {
      "cell_type": "code",
      "metadata": {
        "colab": {
          "base_uri": "https://localhost:8080/"
        },
        "id": "XCdGaYAzRRPS",
        "outputId": "1435aa06-35d2-4220-aae7-a2b63d03bf18"
      },
      "source": [
        "data[0]"
      ],
      "execution_count": null,
      "outputs": [
        {
          "output_type": "execute_result",
          "data": {
            "text/plain": [
              "array([[  1.85582689,  -6.74473432],\n",
              "       [  1.82921897,  -9.86956281],\n",
              "       [  1.99243535,  -8.85885722],\n",
              "       [  2.72532584,  -7.51956557],\n",
              "       [  1.57961049,  -8.17089971],\n",
              "       [  0.61463602,  -9.51908883],\n",
              "       [  1.96322881,  -9.50169117],\n",
              "       [  0.65582768,  -9.5920878 ],\n",
              "       [  2.09335725,  -7.66278316],\n",
              "       [  2.00890845,  -9.78471782],\n",
              "       [  1.92000795,  -7.50953708],\n",
              "       [  1.06965742,  -8.1648251 ],\n",
              "       [  1.23053506,  -7.98873571],\n",
              "       [  0.06441546,  -9.04982817],\n",
              "       [  1.3970852 ,  -7.25918415],\n",
              "       [  2.88603902,  -8.85261704],\n",
              "       [  0.79580385,  -9.00301023],\n",
              "       [  3.04605603,  -7.50486114],\n",
              "       [  3.13114921,  -8.6849493 ],\n",
              "       [  1.41804346,  -8.10517372],\n",
              "       [  1.31977821,  -7.2710667 ],\n",
              "       [  1.90073973,  -7.24386675],\n",
              "       [ -0.07326715, -11.69999644],\n",
              "       [ -1.20046211,  -9.55928542],\n",
              "       [  1.05865542,  -8.43841416],\n",
              "       [  7.38443759,   7.72520389],\n",
              "       [  8.15467319,   7.87489634],\n",
              "       [  6.11644251,   9.26709393],\n",
              "       [  9.13332743,   8.74906102],\n",
              "       [  6.94948313,   8.75248232],\n",
              "       [  6.42356167,   8.33356412],\n",
              "       [  9.65371965,   9.35409538],\n",
              "       [  6.43807502,   7.85483418],\n",
              "       [  7.70630321,  10.78862346],\n",
              "       [  8.20949206,  11.90419283],\n",
              "       [  6.37298915,   9.77705761],\n",
              "       [  7.76974352,   9.50899462],\n",
              "       [  7.2075117 ,   7.04533624],\n",
              "       [  7.7605855 ,   7.05124418],\n",
              "       [  7.24898455,   8.85834104],\n",
              "       [  7.3402781 ,   9.36149154],\n",
              "       [  9.81270381,   9.46968531],\n",
              "       [  7.85036314,   7.986659  ],\n",
              "       [  8.79588546,   7.28046702],\n",
              "       [  7.27808709,   7.15201886],\n",
              "       [  6.90561582,   9.23493842],\n",
              "       [  9.10704928,   9.0272212 ],\n",
              "       [  7.97613887,   8.80878209],\n",
              "       [  8.3186688 ,  10.1026025 ],\n",
              "       [  7.68945113,   9.01706723]])"
            ]
          },
          "metadata": {
            "tags": []
          },
          "execution_count": 659
        }
      ]
    },
    {
      "cell_type": "code",
      "metadata": {
        "colab": {
          "base_uri": "https://localhost:8080/"
        },
        "id": "HLuckzBSRTdz",
        "outputId": "d90bf2f9-bff0-48fd-8946-6eb9bad80b01"
      },
      "source": [
        "data[1]"
      ],
      "execution_count": null,
      "outputs": [
        {
          "output_type": "execute_result",
          "data": {
            "text/plain": [
              "array([0, 0, 0, 0, 0, 0, 0, 0, 0, 0, 0, 0, 0, 0, 0, 0, 0, 0, 0, 0, 0, 0,\n",
              "       0, 0, 0, 1, 1, 1, 1, 1, 1, 1, 1, 1, 1, 1, 1, 1, 1, 1, 1, 1, 1, 1,\n",
              "       1, 1, 1, 1, 1, 1])"
            ]
          },
          "metadata": {
            "tags": []
          },
          "execution_count": 660
        }
      ]
    },
    {
      "cell_type": "markdown",
      "metadata": {
        "id": "eOgPDcJ9kk3b"
      },
      "source": [
        "## Separando features e labels"
      ]
    },
    {
      "cell_type": "code",
      "metadata": {
        "id": "3r842i27TDmP"
      },
      "source": [
        "features = data[0]\n",
        "labels = data[1]"
      ],
      "execution_count": null,
      "outputs": []
    },
    {
      "cell_type": "markdown",
      "metadata": {
        "id": "lsTZH4i9SYBr"
      },
      "source": [
        "## Plotando"
      ]
    },
    {
      "cell_type": "markdown",
      "metadata": {
        "id": "HVeIDAL2SqV6"
      },
      "source": [
        "Estamos pegando todas as linhas só quem é da coluna 0 (zero) com features[:, 0] e todas as linhas só quem é da coluna 1 com features[:,1]"
      ]
    },
    {
      "cell_type": "code",
      "metadata": {
        "colab": {
          "base_uri": "https://localhost:8080/",
          "height": 282
        },
        "id": "oNfKTAshRUXZ",
        "outputId": "50515521-0bb0-4721-a180-cdee738c2f94"
      },
      "source": [
        "plt.scatter(features[:, 0], features[:,1])"
      ],
      "execution_count": null,
      "outputs": [
        {
          "output_type": "execute_result",
          "data": {
            "text/plain": [
              "<matplotlib.collections.PathCollection at 0x7f6904051978>"
            ]
          },
          "metadata": {
            "tags": []
          },
          "execution_count": 662
        },
        {
          "output_type": "display_data",
          "data": {
            "image/png": "[encoded data removed]",
            "text/plain": [
              "<Figure size 432x288 with 1 Axes>"
            ]
          },
          "metadata": {
            "tags": [],
            "needs_background": "light"
          }
        }
      ]
    },
    {
      "cell_type": "markdown",
      "metadata": {
        "id": "C3t9MRjDfpno"
      },
      "source": [
        "Vamos colocar uma cor para diferenciar"
      ]
    },
    {
      "cell_type": "code",
      "metadata": {
        "colab": {
          "base_uri": "https://localhost:8080/",
          "height": 282
        },
        "id": "IkuGa6Gtfom8",
        "outputId": "5834451e-3d7e-43fd-f170-00dae51d18ce"
      },
      "source": [
        "plt.scatter(features[:, 0], features[:,1], c = labels)"
      ],
      "execution_count": null,
      "outputs": [
        {
          "output_type": "execute_result",
          "data": {
            "text/plain": [
              "<matplotlib.collections.PathCollection at 0x7f6903fa2f60>"
            ]
          },
          "metadata": {
            "tags": []
          },
          "execution_count": 663
        },
        {
          "output_type": "display_data",
          "data": {
            "image/png": "[encoded data removed]",
            "text/plain": [
              "<Figure size 432x288 with 1 Axes>"
            ]
          },
          "metadata": {
            "tags": [],
            "needs_background": "light"
          }
        }
      ]
    },
    {
      "cell_type": "code",
      "metadata": {
        "colab": {
          "base_uri": "https://localhost:8080/",
          "height": 282
        },
        "id": "-dQ0akYRgfaF",
        "outputId": "eeed0787-1eaa-4f8d-fe4b-960d632a55e7"
      },
      "source": [
        "plt.scatter(features[:, 0], features[:,1], c = labels, cmap = 'coolwarm')"
      ],
      "execution_count": null,
      "outputs": [
        {
          "output_type": "execute_result",
          "data": {
            "text/plain": [
              "<matplotlib.collections.PathCollection at 0x7f6903f826d8>"
            ]
          },
          "metadata": {
            "tags": []
          },
          "execution_count": 664
        },
        {
          "output_type": "display_data",
          "data": {
            "image/png": "[encoded data removed]",
            "text/plain": [
              "<Figure size 432x288 with 1 Axes>"
            ]
          },
          "metadata": {
            "tags": [],
            "needs_background": "light"
          }
        }
      ]
    },
    {
      "cell_type": "code",
      "metadata": {
        "colab": {
          "base_uri": "https://localhost:8080/",
          "height": 282
        },
        "id": "aCEPs3O9ktbY",
        "outputId": "5c880f31-bef5-418a-8977-91e4b2ebf8fc"
      },
      "source": [
        "x = np.linspace(-5, 10, 10)\n",
        "y = - x + 3\n",
        "plt.scatter(features[:, 0], features[:,1], c = labels, cmap = 'coolwarm')\n",
        "plt.plot(x, y)"
      ],
      "execution_count": null,
      "outputs": [
        {
          "output_type": "execute_result",
          "data": {
            "text/plain": [
              "[<matplotlib.lines.Line2D at 0x7f6903f3e198>]"
            ]
          },
          "metadata": {
            "tags": []
          },
          "execution_count": 665
        },
        {
          "output_type": "display_data",
          "data": {
            "image/png": "[encoded data removed]",
            "text/plain": [
              "<Figure size 432x288 with 1 Axes>"
            ]
          },
          "metadata": {
            "tags": [],
            "needs_background": "light"
          }
        }
      ]
    },
    {
      "cell_type": "markdown",
      "metadata": {
        "id": "S1jp4kXRxeYP"
      },
      "source": [
        "Valores abaixo de zero represeta a parte do espaço relativo a cor azul e valores acima de zero a cor vermelha."
      ]
    },
    {
      "cell_type": "markdown",
      "metadata": {
        "id": "vWjBfmAQwwYM"
      },
      "source": [
        "## Equação da linha separadora: (1, 1) * f - 3 = 0\n",
        "\n",
        "Equação do classificador\n",
        "\n",
        "y = -x + 3\n",
        "\n",
        "f1 = -f0 + 3\n",
        "\n",
        "f1 + f0 - 3 = 0\n",
        "\n",
        "(1,1) * F - 3 = 0\n",
        "\n",
        "(1,1) é o Peso e 3 é um viés\n",
        "\n",
        "Por exemplo, considere o ponto (8.0, 8.0)\n",
        "\n"
      ]
    },
    {
      "cell_type": "code",
      "metadata": {
        "colab": {
          "base_uri": "https://localhost:8080/"
        },
        "id": "Yi8R85pu8zxx",
        "outputId": "8b3daef8-172d-4170-9693-d01cec023811"
      },
      "source": [
        "res = np.array([1,1]).dot(np.array([[8.0],[8.0]])) - 3\n",
        "print(res)\n",
        "print(sigmoid(res))"
      ],
      "execution_count": null,
      "outputs": [
        {
          "output_type": "stream",
          "text": [
            "[13.]\n",
            "[0.99999774]\n"
          ],
          "name": "stdout"
        }
      ]
    },
    {
      "cell_type": "markdown",
      "metadata": {
        "id": "f-_v4Ja-8_c7"
      },
      "source": [
        "13 > 0, o que implica que ele pertence a classe vermelha"
      ]
    },
    {
      "cell_type": "code",
      "metadata": {
        "colab": {
          "base_uri": "https://localhost:8080/"
        },
        "id": "RUyYWHQ_ytqy",
        "outputId": "adb702dc-0f1b-455b-ab42-1c458ae3ae1e"
      },
      "source": [
        "res2 = np.array([1, 1]).dot(np.array([[1], [-11.0]])) - 3\n",
        "print(res2)\n",
        "print(sigmoid(res2))"
      ],
      "execution_count": null,
      "outputs": [
        {
          "output_type": "stream",
          "text": [
            "[-13.]\n",
            "[2.2603243e-06]\n"
          ],
          "name": "stdout"
        }
      ]
    },
    {
      "cell_type": "markdown",
      "metadata": {
        "id": "Z_noVV3J9NMO"
      },
      "source": [
        "13 < 0, o que implica que ele pertence a classe azul"
      ]
    },
    {
      "cell_type": "markdown",
      "metadata": {
        "id": "zOla0ytQ9Qho"
      },
      "source": [
        "# Grafo"
      ]
    },
    {
      "cell_type": "code",
      "metadata": {
        "id": "MINejPHW0Tpt"
      },
      "source": [
        "g = Graph()"
      ],
      "execution_count": null,
      "outputs": []
    },
    {
      "cell_type": "code",
      "metadata": {
        "id": "N62Un-740Zvl"
      },
      "source": [
        "g.set_as_default()"
      ],
      "execution_count": null,
      "outputs": []
    },
    {
      "cell_type": "code",
      "metadata": {
        "id": "eP-5dR9-0Vfg"
      },
      "source": [
        "x = Placeholder()"
      ],
      "execution_count": null,
      "outputs": []
    },
    {
      "cell_type": "code",
      "metadata": {
        "id": "LIe4uHuc0ajJ"
      },
      "source": [
        "w = Variable([1, 1])"
      ],
      "execution_count": null,
      "outputs": []
    },
    {
      "cell_type": "code",
      "metadata": {
        "id": "COmNJKhQ0gqX"
      },
      "source": [
        "b = Variable(-3)"
      ],
      "execution_count": null,
      "outputs": []
    },
    {
      "cell_type": "code",
      "metadata": {
        "id": "PqGer5AU0w1t"
      },
      "source": [
        "z = add(matmul(w, x), b)"
      ],
      "execution_count": null,
      "outputs": []
    },
    {
      "cell_type": "code",
      "metadata": {
        "id": "TyQkdMwf04gU"
      },
      "source": [
        "a = Sigmoid(z)"
      ],
      "execution_count": null,
      "outputs": []
    },
    {
      "cell_type": "code",
      "metadata": {
        "id": "W68yu9XM1Afa"
      },
      "source": [
        "sess = Session()"
      ],
      "execution_count": null,
      "outputs": []
    },
    {
      "cell_type": "code",
      "metadata": {
        "colab": {
          "base_uri": "https://localhost:8080/"
        },
        "id": "qtWXWGFa1CSC",
        "outputId": "09701046-fcfd-432b-e3c5-f35a0009e5aa"
      },
      "source": [
        "sess.run(operation = a, feed_dict = {x: [8.0, 8.0]})"
      ],
      "execution_count": null,
      "outputs": [
        {
          "output_type": "execute_result",
          "data": {
            "text/plain": [
              "array([0.99330715, 0.99330715])"
            ]
          },
          "metadata": {
            "tags": []
          },
          "execution_count": 680
        }
      ]
    },
    {
      "cell_type": "markdown",
      "metadata": {
        "id": "ZVZauwwu_-wb"
      },
      "source": [
        "O resultado são números bem próximos de 1"
      ]
    },
    {
      "cell_type": "code",
      "metadata": {
        "colab": {
          "base_uri": "https://localhost:8080/"
        },
        "id": "-9zPTGni_SGx",
        "outputId": "2a16303c-fe91-4851-af92-4bc905233f66"
      },
      "source": [
        "sess.run(operation = a, feed_dict = {x: [1.0, -11.0]})"
      ],
      "execution_count": null,
      "outputs": [
        {
          "output_type": "execute_result",
          "data": {
            "text/plain": [
              "array([1.19202922e-01, 8.31528028e-07])"
            ]
          },
          "metadata": {
            "tags": []
          },
          "execution_count": 681
        }
      ]
    },
    {
      "cell_type": "markdown",
      "metadata": {
        "id": "AIkqnZV_AD2x"
      },
      "source": [
        "Os resultados são números bem próximos de zero, o 1.19202922e-01 e 8.31528028e-07 são números em notação científica, eles são bem próximos de zero.\n"
      ]
    }
  ]
}