{
  "nbformat": 4,
  "nbformat_minor": 0,
  "metadata": {
    "colab": {
      "provenance": [],
      "include_colab_link": true
    },
    "kernelspec": {
      "name": "python3",
      "display_name": "Python 3"
    }
  },
  "cells": [
    {
      "cell_type": "markdown",
      "metadata": {
        "id": "view-in-github",
        "colab_type": "text"
      },
      "source": [
        "<a href=\"https://colab.research.google.com/github/SantosCristiano/artificial-intelligence-python/blob/main/tensorflow_syntax.ipynb\" target=\"_parent\"><img src=\"https://colab.research.google.com/assets/colab-badge.svg\" alt=\"Open In Colab\"/></a>"
      ]
    },
    {
      "cell_type": "markdown",
      "metadata": {
        "id": "LWpFfw10Gq1J"
      },
      "source": [
        "# Tensorflow 1"
      ]
    },
    {
      "cell_type": "markdown",
      "metadata": {
        "id": "XsX7d_y8KU5r"
      },
      "source": [
        "## Sintaxe básica"
      ]
    },
    {
      "cell_type": "markdown",
      "metadata": {
        "id": "PeIYprAwjwdI"
      },
      "source": [
        "### Importando o tensorflow"
      ]
    },
    {
      "cell_type": "code",
      "metadata": {
        "id": "sTkYG56CGy1T",
        "colab": {
          "base_uri": "https://localhost:8080/"
        },
        "outputId": "9bd26f63-35dc-4ace-e97a-f3d00956133e"
      },
      "source": [
        "import tensorflow.compat.v1 as tf\n",
        "tf.disable_v2_behavior()"
      ],
      "execution_count": 1,
      "outputs": [
        {
          "output_type": "stream",
          "name": "stderr",
          "text": [
            "WARNING:tensorflow:From /usr/local/lib/python3.10/dist-packages/tensorflow/python/compat/v2_compat.py:108: disable_resource_variables (from tensorflow.python.ops.variable_scope) is deprecated and will be removed in a future version.\n",
            "Instructions for updating:\n",
            "non-resource variables are not supported in the long term\n"
          ]
        }
      ]
    },
    {
      "cell_type": "markdown",
      "metadata": {
        "id": "Rhmp69-5j1LV"
      },
      "source": [
        "### Verificando a versão"
      ]
    },
    {
      "cell_type": "code",
      "metadata": {
        "colab": {
          "base_uri": "https://localhost:8080/"
        },
        "id": "Xh3E8LPkhkaA",
        "outputId": "39cfa754-c0de-46c8-db0c-38fedeb85c6b"
      },
      "source": [
        "print(tf.__version__)"
      ],
      "execution_count": 2,
      "outputs": [
        {
          "output_type": "stream",
          "name": "stdout",
          "text": [
            "2.15.0\n"
          ]
        }
      ]
    },
    {
      "cell_type": "markdown",
      "metadata": {
        "id": "eNKFkbHqj6c8"
      },
      "source": [
        "### Criando os tensores"
      ]
    },
    {
      "cell_type": "code",
      "metadata": {
        "id": "fFzFL-kNj-Gx"
      },
      "source": [
        "codigo = tf.constant(\"Codigo \")\n",
        "fluente = tf.constant(\"fluente\")"
      ],
      "execution_count": 3,
      "outputs": []
    },
    {
      "cell_type": "markdown",
      "metadata": {
        "id": "OcCh_Lh1kTss"
      },
      "source": [
        "### Verificando o tipo do objeto"
      ]
    },
    {
      "cell_type": "code",
      "metadata": {
        "colab": {
          "base_uri": "https://localhost:8080/"
        },
        "id": "CF6076ntkYRt",
        "outputId": "d3b7a228-65ed-4ec2-b7dd-162a896581a8"
      },
      "source": [
        "type(codigo)"
      ],
      "execution_count": 4,
      "outputs": [
        {
          "output_type": "execute_result",
          "data": {
            "text/plain": [
              "tensorflow.python.framework.ops.SymbolicTensor"
            ]
          },
          "metadata": {},
          "execution_count": 4
        }
      ]
    },
    {
      "cell_type": "markdown",
      "metadata": {
        "id": "AkMaqbFNkbCh"
      },
      "source": [
        "### Imprimindo o objeto"
      ]
    },
    {
      "cell_type": "code",
      "metadata": {
        "colab": {
          "base_uri": "https://localhost:8080/"
        },
        "id": "52rXuu_CkdQ9",
        "outputId": "3771c222-31e8-4dcc-9492-70821728b4c2"
      },
      "source": [
        "print(codigo)"
      ],
      "execution_count": 5,
      "outputs": [
        {
          "output_type": "stream",
          "name": "stdout",
          "text": [
            "Tensor(\"Const:0\", shape=(), dtype=string)\n"
          ]
        }
      ]
    },
    {
      "cell_type": "markdown",
      "metadata": {
        "id": "Mtjspmtylqxz"
      },
      "source": [
        "### Criando a sessão"
      ]
    },
    {
      "cell_type": "code",
      "metadata": {
        "id": "vZyHk4bYlsxc"
      },
      "source": [
        "with tf.Session() as sess:\n",
        "  result = sess.run(codigo + fluente)\n"
      ],
      "execution_count": 6,
      "outputs": []
    },
    {
      "cell_type": "markdown",
      "metadata": {
        "id": "EMnJczTNmUJh"
      },
      "source": [
        "## Imprimindo o resultado"
      ]
    },
    {
      "cell_type": "markdown",
      "metadata": {
        "id": "ihWRg664mv-z"
      },
      "source": [
        "O 'b' minúsculo antes da string em python 3 representa bytes literais"
      ]
    },
    {
      "cell_type": "code",
      "metadata": {
        "colab": {
          "base_uri": "https://localhost:8080/"
        },
        "id": "TVq1YP8nmVpP",
        "outputId": "a6e9efe8-2792-4c6a-f5d1-e5e77708aa3d"
      },
      "source": [
        "print(result)"
      ],
      "execution_count": 7,
      "outputs": [
        {
          "output_type": "stream",
          "name": "stdout",
          "text": [
            "b'Codigo fluente'\n"
          ]
        }
      ]
    },
    {
      "cell_type": "markdown",
      "metadata": {
        "id": "qPbWRZA-nd1I"
      },
      "source": [
        "## Soma utilizando tensores"
      ]
    },
    {
      "cell_type": "code",
      "metadata": {
        "id": "D0syZQ0onkQU"
      },
      "source": [
        "a = tf.constant(10)"
      ],
      "execution_count": 8,
      "outputs": []
    },
    {
      "cell_type": "code",
      "metadata": {
        "id": "QNi-UuT6oHnT"
      },
      "source": [
        "b = tf.constant(20)"
      ],
      "execution_count": 9,
      "outputs": []
    },
    {
      "cell_type": "code",
      "metadata": {
        "colab": {
          "base_uri": "https://localhost:8080/"
        },
        "id": "HWGttg_yoKYg",
        "outputId": "a4bcccec-e752-4200-a04f-cdfdc646ded9"
      },
      "source": [
        "type(a)"
      ],
      "execution_count": 10,
      "outputs": [
        {
          "output_type": "execute_result",
          "data": {
            "text/plain": [
              "tensorflow.python.framework.ops.SymbolicTensor"
            ]
          },
          "metadata": {},
          "execution_count": 10
        }
      ]
    },
    {
      "cell_type": "markdown",
      "metadata": {
        "id": "f1L6gHeqobuf"
      },
      "source": [
        "## Note que ele controla o número de vezes que você faz a soma"
      ]
    },
    {
      "cell_type": "code",
      "metadata": {
        "colab": {
          "base_uri": "https://localhost:8080/"
        },
        "id": "3WKJrMV1QB3g",
        "outputId": "09c5823c-005b-4997-e6ae-14db1d73da79"
      },
      "source": [
        "a + b"
      ],
      "execution_count": 11,
      "outputs": [
        {
          "output_type": "execute_result",
          "data": {
            "text/plain": [
              "<tf.Tensor 'add_1:0' shape=() dtype=int32>"
            ]
          },
          "metadata": {},
          "execution_count": 11
        }
      ]
    },
    {
      "cell_type": "markdown",
      "metadata": {
        "id": "KpRkG1eVoZPQ"
      },
      "source": [
        "### Mas, veja que a operação não foi feita, precisamos fazer isso dentro de uma sessão"
      ]
    },
    {
      "cell_type": "code",
      "metadata": {
        "id": "2-Shyxs3oyi7"
      },
      "source": [
        "with tf.Session() as sess:\n",
        "  result = sess.run(a + b)"
      ],
      "execution_count": 12,
      "outputs": []
    },
    {
      "cell_type": "code",
      "metadata": {
        "colab": {
          "base_uri": "https://localhost:8080/"
        },
        "id": "4EHcd6WIo-7c",
        "outputId": "245129c3-2b26-48c6-d7fe-60b2b7c059e4"
      },
      "source": [
        "print(result)"
      ],
      "execution_count": 13,
      "outputs": [
        {
          "output_type": "stream",
          "name": "stdout",
          "text": [
            "30\n"
          ]
        }
      ]
    },
    {
      "cell_type": "markdown",
      "metadata": {
        "id": "NKMwnsm4qpKJ"
      },
      "source": [
        "## Matrizes"
      ]
    },
    {
      "cell_type": "markdown",
      "metadata": {
        "id": "_cv_bDNLqzLv"
      },
      "source": [
        "### Operações utilizando matrizes numpy, são as que mais são usadas no contexto do tensorflow e redes neurais."
      ]
    },
    {
      "cell_type": "code",
      "metadata": {
        "id": "--Tq0v9zqs6s"
      },
      "source": [
        "const = tf.constant(10)"
      ],
      "execution_count": 14,
      "outputs": []
    },
    {
      "cell_type": "code",
      "metadata": {
        "id": "BDmf_YuMrSil"
      },
      "source": [
        "fill_mat = tf.fill((4, 4), 10)"
      ],
      "execution_count": 15,
      "outputs": []
    },
    {
      "cell_type": "code",
      "metadata": {
        "id": "vYl9g0gzrzNx"
      },
      "source": [
        "my_zeros = tf.zeros((4, 4))"
      ],
      "execution_count": 16,
      "outputs": []
    },
    {
      "cell_type": "code",
      "metadata": {
        "id": "IJqmjHaur69v"
      },
      "source": [
        "my_ones = tf.ones((4, 4))"
      ],
      "execution_count": 17,
      "outputs": []
    },
    {
      "cell_type": "code",
      "metadata": {
        "id": "dSUVR_ycr7SX"
      },
      "source": [
        "my_rand_n = tf.random_normal((4, 4), mean = 0, stddev = 1.0)"
      ],
      "execution_count": 18,
      "outputs": []
    },
    {
      "cell_type": "code",
      "metadata": {
        "id": "PajpSV64r7cX"
      },
      "source": [
        "my_rand_u = tf.random_uniform((4, 4), minval = 0, maxval = 1)"
      ],
      "execution_count": 19,
      "outputs": []
    },
    {
      "cell_type": "markdown",
      "metadata": {
        "id": "uAIgAAC1vqMw"
      },
      "source": [
        "### Vamos criar uma lista e colocar todas as operações"
      ]
    },
    {
      "cell_type": "code",
      "metadata": {
        "id": "CAbZZMFNvxSl"
      },
      "source": [
        "my_ops = [const, fill_mat, my_zeros, my_ones, my_rand_n, my_rand_u]"
      ],
      "execution_count": 20,
      "outputs": []
    },
    {
      "cell_type": "markdown",
      "metadata": {
        "id": "9DbyEe6jwIlX"
      },
      "source": [
        "## Vamos executar as operações em uma sessão interativa"
      ]
    },
    {
      "cell_type": "code",
      "metadata": {
        "id": "Q7SSIoMIwRfQ"
      },
      "source": [
        "sess = tf.InteractiveSession()"
      ],
      "execution_count": 21,
      "outputs": []
    },
    {
      "cell_type": "code",
      "metadata": {
        "colab": {
          "base_uri": "https://localhost:8080/"
        },
        "id": "jv1PEE-az4bp",
        "outputId": "9c2f6eed-9604-4270-8dae-f64af62697dd"
      },
      "source": [
        "for op in my_ops:\n",
        "  print(sess.run(op))\n",
        "  print('\\n')"
      ],
      "execution_count": 22,
      "outputs": [
        {
          "output_type": "stream",
          "name": "stdout",
          "text": [
            "10\n",
            "\n",
            "\n",
            "[[10 10 10 10]\n",
            " [10 10 10 10]\n",
            " [10 10 10 10]\n",
            " [10 10 10 10]]\n",
            "\n",
            "\n",
            "[[0. 0. 0. 0.]\n",
            " [0. 0. 0. 0.]\n",
            " [0. 0. 0. 0.]\n",
            " [0. 0. 0. 0.]]\n",
            "\n",
            "\n",
            "[[1. 1. 1. 1.]\n",
            " [1. 1. 1. 1.]\n",
            " [1. 1. 1. 1.]\n",
            " [1. 1. 1. 1.]]\n",
            "\n",
            "\n",
            "[[ 1.2445784  -0.2006684   0.32202736 -1.1333585 ]\n",
            " [ 0.34982347 -0.26325715  0.01344822  1.9393258 ]\n",
            " [ 1.6620952  -0.9416411   0.22854802 -0.9618834 ]\n",
            " [ 0.76516944 -1.3944314  -2.4972134  -0.09936805]]\n",
            "\n",
            "\n",
            "[[0.7163851  0.55838907 0.7716688  0.23219216]\n",
            " [0.5668646  0.5271108  0.61409426 0.993652  ]\n",
            " [0.7932129  0.5806649  0.798916   0.72385466]\n",
            " [0.08120048 0.23630822 0.94833565 0.40618253]]\n",
            "\n",
            "\n"
          ]
        }
      ]
    },
    {
      "cell_type": "code",
      "metadata": {
        "colab": {
          "base_uri": "https://localhost:8080/"
        },
        "id": "O9GRUuHU1OR5",
        "outputId": "5af204cd-27d0-45c9-a202-3d3f430af343"
      },
      "source": [
        "for op in my_ops:\n",
        "  print(op.eval())\n",
        "  print('\\n')"
      ],
      "execution_count": 23,
      "outputs": [
        {
          "output_type": "stream",
          "name": "stdout",
          "text": [
            "10\n",
            "\n",
            "\n",
            "[[10 10 10 10]\n",
            " [10 10 10 10]\n",
            " [10 10 10 10]\n",
            " [10 10 10 10]]\n",
            "\n",
            "\n",
            "[[0. 0. 0. 0.]\n",
            " [0. 0. 0. 0.]\n",
            " [0. 0. 0. 0.]\n",
            " [0. 0. 0. 0.]]\n",
            "\n",
            "\n",
            "[[1. 1. 1. 1.]\n",
            " [1. 1. 1. 1.]\n",
            " [1. 1. 1. 1.]\n",
            " [1. 1. 1. 1.]]\n",
            "\n",
            "\n",
            "[[ 0.5844403  -1.4903532  -0.931694    0.11779968]\n",
            " [-0.29133257 -0.85813415  0.6474091   2.7424438 ]\n",
            " [-1.1400371  -0.1811644  -0.87401986 -0.91576093]\n",
            " [-1.2697098  -1.4368429   0.2676902  -0.42860824]]\n",
            "\n",
            "\n",
            "[[0.7904556  0.17877722 0.34107542 0.420583  ]\n",
            " [0.2476995  0.8121004  0.6793475  0.23252702]\n",
            " [0.41363537 0.644909   0.33844888 0.13599741]\n",
            " [0.6187135  0.5988109  0.34478366 0.3039168 ]]\n",
            "\n",
            "\n"
          ]
        }
      ]
    },
    {
      "cell_type": "markdown",
      "metadata": {
        "id": "cDzh9_CW1ej9"
      },
      "source": [
        "## Multiplicação de matrizes"
      ]
    },
    {
      "cell_type": "code",
      "metadata": {
        "id": "gfq6Jrij1hI9"
      },
      "source": [
        "a = tf.constant([\n",
        "                 [1, 2],\n",
        "                 [3, 4]\n",
        "               ])"
      ],
      "execution_count": 24,
      "outputs": []
    },
    {
      "cell_type": "code",
      "metadata": {
        "colab": {
          "base_uri": "https://localhost:8080/"
        },
        "id": "ktjPFeLB11Gx",
        "outputId": "912251e7-1ee8-49a2-edee-ce073a1936a0"
      },
      "source": [
        "a.get_shape()"
      ],
      "execution_count": 25,
      "outputs": [
        {
          "output_type": "execute_result",
          "data": {
            "text/plain": [
              "TensorShape([Dimension(2), Dimension(2)])"
            ]
          },
          "metadata": {},
          "execution_count": 25
        }
      ]
    },
    {
      "cell_type": "code",
      "metadata": {
        "id": "4EGbW5me13LZ"
      },
      "source": [
        "b = tf.constant([[10], [100]])"
      ],
      "execution_count": 26,
      "outputs": []
    },
    {
      "cell_type": "code",
      "metadata": {
        "colab": {
          "base_uri": "https://localhost:8080/",
          "height": 186
        },
        "id": "UABZXiDX2AXC",
        "outputId": "85fe0acc-0307-49d5-a582-d5eb104619f8"
      },
      "source": [
        "b.get_shape"
      ],
      "execution_count": 27,
      "outputs": [
        {
          "output_type": "execute_result",
          "data": {
            "text/plain": [
              "<bound method Tensor.get_shape of <tf.Tensor 'Const_6:0' shape=(2, 1) dtype=int32>>"
            ],
            "text/html": [
              "<div style=\"max-width:800px; border: 1px solid var(--colab-border-color);\"><style>\n",
              "      pre.function-repr-contents {\n",
              "        overflow-x: auto;\n",
              "        padding: 8px 12px;\n",
              "        max-height: 500px;\n",
              "      }\n",
              "\n",
              "      pre.function-repr-contents.function-repr-contents-collapsed {\n",
              "        cursor: pointer;\n",
              "        max-height: 100px;\n",
              "      }\n",
              "    </style>\n",
              "    <pre style=\"white-space: initial; background:\n",
              "         var(--colab-secondary-surface-color); padding: 8px 12px;\n",
              "         border-bottom: 1px solid var(--colab-border-color);\"><b>tensorflow.python.framework.tensor.Tensor.get_shape</b><br/>def get_shape() -&gt; tensor_shape.TensorShape</pre><pre class=\"function-repr-contents function-repr-contents-collapsed\" style=\"\"><a class=\"filepath\" style=\"display:none\" href=\"#\">/usr/local/lib/python3.10/dist-packages/tensorflow/python/framework/tensor.py</a>Returns a `tf.TensorShape` that represents the shape of this tensor.\n",
              "\n",
              "In eager execution the shape is always fully-known.\n",
              "\n",
              "&gt;&gt;&gt; a = tf.constant([[1.0, 2.0, 3.0], [4.0, 5.0, 6.0]])\n",
              "&gt;&gt;&gt; print(a.shape)\n",
              "(2, 3)\n",
              "\n",
              "`tf.Tensor.get_shape()` is equivalent to `tf.Tensor.shape`.\n",
              "\n",
              "\n",
              "When executing in a `tf.function` or building a model using\n",
              "`tf.keras.Input`, `Tensor.shape` may return a partial shape (including\n",
              "`None` for unknown dimensions). See `tf.TensorShape` for more details.\n",
              "\n",
              "&gt;&gt;&gt; inputs = tf.keras.Input(shape = [10])\n",
              "&gt;&gt;&gt; # Unknown batch size\n",
              "&gt;&gt;&gt; print(inputs.shape)\n",
              "(None, 10)\n",
              "\n",
              "The shape is computed using shape inference functions that are\n",
              "registered for each `tf.Operation`.\n",
              "\n",
              "The returned `tf.TensorShape` is determined at *build* time, without\n",
              "executing the underlying kernel. It is not a `tf.Tensor`. If you need a\n",
              "shape *tensor*, either convert the `tf.TensorShape` to a `tf.constant`, or\n",
              "use the `tf.shape(tensor)` function, which returns the tensor&#x27;s shape at\n",
              "*execution* time.\n",
              "\n",
              "This is useful for debugging and providing early errors. For\n",
              "example, when tracing a `tf.function`, no ops are being executed, shapes\n",
              "may be unknown (See the [Concrete Functions\n",
              "Guide](https://www.tensorflow.org/guide/concrete_function) for details).\n",
              "\n",
              "&gt;&gt;&gt; @tf.function\n",
              "... def my_matmul(a, b):\n",
              "...   result = a@b\n",
              "...   # the `print` executes during tracing.\n",
              "...   print(&quot;Result shape: &quot;, result.shape)\n",
              "...   return result\n",
              "\n",
              "The shape inference functions propagate shapes to the extent possible:\n",
              "\n",
              "&gt;&gt;&gt; f = my_matmul.get_concrete_function(\n",
              "...   tf.TensorSpec([None,3]),\n",
              "...   tf.TensorSpec([3,5]))\n",
              "Result shape: (None, 5)\n",
              "\n",
              "Tracing may fail if a shape missmatch can be detected:\n",
              "\n",
              "&gt;&gt;&gt; cf = my_matmul.get_concrete_function(\n",
              "...   tf.TensorSpec([None,3]),\n",
              "...   tf.TensorSpec([4,5]))\n",
              "Traceback (most recent call last):\n",
              "...\n",
              "ValueError: Dimensions must be equal, but are 3 and 4 for &#x27;matmul&#x27; (op:\n",
              "&#x27;MatMul&#x27;) with input shapes: [?,3], [4,5].\n",
              "\n",
              "In some cases, the inferred shape may have unknown dimensions. If\n",
              "the caller has additional information about the values of these\n",
              "dimensions, `tf.ensure_shape` or `Tensor.set_shape()` can be used to augment\n",
              "the inferred shape.\n",
              "\n",
              "&gt;&gt;&gt; @tf.function\n",
              "... def my_fun(a):\n",
              "...   a = tf.ensure_shape(a, [5, 5])\n",
              "...   # the `print` executes during tracing.\n",
              "...   print(&quot;Result shape: &quot;, a.shape)\n",
              "...   return a\n",
              "\n",
              "&gt;&gt;&gt; cf = my_fun.get_concrete_function(\n",
              "...   tf.TensorSpec([None, None]))\n",
              "Result shape: (5, 5)\n",
              "\n",
              "Returns:\n",
              "  A `tf.TensorShape` representing the shape of this tensor.</pre>\n",
              "      <script>\n",
              "      if (google.colab.kernel.accessAllowed && google.colab.files && google.colab.files.view) {\n",
              "        for (const element of document.querySelectorAll('.filepath')) {\n",
              "          element.style.display = 'block'\n",
              "          element.onclick = (event) => {\n",
              "            event.preventDefault();\n",
              "            event.stopPropagation();\n",
              "            google.colab.files.view(element.textContent, 360);\n",
              "          };\n",
              "        }\n",
              "      }\n",
              "      for (const element of document.querySelectorAll('.function-repr-contents')) {\n",
              "        element.onclick = (event) => {\n",
              "          event.preventDefault();\n",
              "          event.stopPropagation();\n",
              "          element.classList.toggle('function-repr-contents-collapsed');\n",
              "        };\n",
              "      }\n",
              "      </script>\n",
              "      </div>"
            ]
          },
          "metadata": {},
          "execution_count": 27
        }
      ]
    },
    {
      "cell_type": "code",
      "metadata": {
        "id": "rADpMN5e2BUQ"
      },
      "source": [
        "result = tf.matmul(a, b)"
      ],
      "execution_count": 28,
      "outputs": []
    },
    {
      "cell_type": "code",
      "metadata": {
        "colab": {
          "base_uri": "https://localhost:8080/"
        },
        "id": "qOm8tce82H5u",
        "outputId": "dbeee3ec-ad4c-4dc5-d373-bc471b029f6c"
      },
      "source": [
        "sess.run(result)"
      ],
      "execution_count": 29,
      "outputs": [
        {
          "output_type": "execute_result",
          "data": {
            "text/plain": [
              "array([[210],\n",
              "       [430]], dtype=int32)"
            ]
          },
          "metadata": {},
          "execution_count": 29
        }
      ]
    },
    {
      "cell_type": "markdown",
      "metadata": {
        "id": "lebp2koeFCsp"
      },
      "source": [
        "Posso fazer assim também:"
      ]
    },
    {
      "cell_type": "code",
      "metadata": {
        "colab": {
          "base_uri": "https://localhost:8080/"
        },
        "id": "w9jO_89f2Mpv",
        "outputId": "b0b9a294-4b93-4b4e-bf18-081a259f3933"
      },
      "source": [
        "result.eval()"
      ],
      "execution_count": 30,
      "outputs": [
        {
          "output_type": "execute_result",
          "data": {
            "text/plain": [
              "array([[210],\n",
              "       [430]], dtype=int32)"
            ]
          },
          "metadata": {},
          "execution_count": 30
        }
      ]
    }
  ]
}