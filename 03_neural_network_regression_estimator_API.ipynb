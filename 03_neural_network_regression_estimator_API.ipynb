{
  "nbformat": 4,
  "nbformat_minor": 0,
  "metadata": {
    "colab": {
      "provenance": [],
      "include_colab_link": true
    },
    "kernelspec": {
      "name": "python3",
      "display_name": "Python 3"
    }
  },
  "cells": [
    {
      "cell_type": "markdown",
      "metadata": {
        "id": "view-in-github",
        "colab_type": "text"
      },
      "source": [
        "<a href=\"https://colab.research.google.com/github/SantosCristiano/artificial-intelligence-python/blob/main/03_neural_network_regression_estimator_API.ipynb\" target=\"_parent\"><img src=\"https://colab.research.google.com/assets/colab-badge.svg\" alt=\"Open In Colab\"/></a>"
      ]
    },
    {
      "cell_type": "markdown",
      "metadata": {
        "id": "LWpFfw10Gq1J"
      },
      "source": [
        "# Tensorflow 1"
      ]
    },
    {
      "cell_type": "markdown",
      "metadata": {
        "id": "VkJ5kYRgT5Im"
      },
      "source": [
        "## Aula 15 - Tensor Flow - Redes Neurais - Regressão com Estimator API"
      ]
    },
    {
      "cell_type": "markdown",
      "metadata": {
        "id": "PeIYprAwjwdI"
      },
      "source": [
        "### Importando o tensorflow e o numpy"
      ]
    },
    {
      "cell_type": "code",
      "metadata": {
        "id": "sTkYG56CGy1T"
      },
      "source": [
        "import tensorflow.compat.v1 as tf\n",
        "tf.disable_v2_behavior()"
      ],
      "execution_count": null,
      "outputs": []
    },
    {
      "cell_type": "code",
      "metadata": {
        "id": "SHZN0ws1yFew"
      },
      "source": [
        "import numpy as np\n",
        "import pandas as pd\n",
        "import matplotlib.pyplot as plt\n",
        "%matplotlib inline"
      ],
      "execution_count": null,
      "outputs": []
    },
    {
      "cell_type": "code",
      "metadata": {
        "id": "3h7RCn08tsnV"
      },
      "source": [
        "x_data = np.linspace(0.0, 10.0, 1000000)"
      ],
      "execution_count": null,
      "outputs": []
    },
    {
      "cell_type": "code",
      "metadata": {
        "id": "M51JYS18t1eH"
      },
      "source": [
        "noise = np.random.randn(len(x_data))"
      ],
      "execution_count": null,
      "outputs": []
    },
    {
      "cell_type": "markdown",
      "metadata": {
        "id": "gqZrGx9c-Rqn"
      },
      "source": [
        "<strong>y = mx + b</strong>\n",
        "<br />\n",
        "<strong>m = 0.5</strong><br />\n",
        "<strong>b = 5</strong>"
      ]
    },
    {
      "cell_type": "code",
      "metadata": {
        "id": "sKSW5MuJt8iU"
      },
      "source": [
        "y_true = (0.5 * x_data) + 5 + noise"
      ],
      "execution_count": null,
      "outputs": []
    },
    {
      "cell_type": "code",
      "metadata": {
        "id": "p7iE1sSbuhx8"
      },
      "source": [
        "x_df = pd.DataFrame(data = x_data, columns = ['X Data'])"
      ],
      "execution_count": null,
      "outputs": []
    },
    {
      "cell_type": "code",
      "metadata": {
        "id": "YW7BpgKuujrL"
      },
      "source": [
        "y_df = pd.DataFrame(data = y_true, columns = ['Y'])"
      ],
      "execution_count": null,
      "outputs": []
    },
    {
      "cell_type": "code",
      "metadata": {
        "id": "LY4v8rJi8Oas"
      },
      "source": [
        "my_data = pd.concat([x_df, y_df], axis = 1)"
      ],
      "execution_count": null,
      "outputs": []
    },
    {
      "cell_type": "markdown",
      "metadata": {
        "id": "dLD6aDz79v8U"
      },
      "source": [
        "## TF Estimator"
      ]
    },
    {
      "cell_type": "markdown",
      "metadata": {
        "id": "VIxTKwiS-C-l"
      },
      "source": [
        "### Configurando as features"
      ]
    },
    {
      "cell_type": "markdown",
      "metadata": {
        "id": "fbe3Sm-K-j9c"
      },
      "source": [
        " Teremos uma feature só, e é numérica"
      ]
    },
    {
      "cell_type": "code",
      "metadata": {
        "id": "CH-Bhpph9ubH"
      },
      "source": [
        "feat_cols = [tf.feature_column.numeric_column('x', shape=[1])]"
      ],
      "execution_count": null,
      "outputs": []
    },
    {
      "cell_type": "markdown",
      "metadata": {
        "id": "L9ezgz5n-lrO"
      },
      "source": [
        "### Configurando o estimador"
      ]
    },
    {
      "cell_type": "markdown",
      "metadata": {
        "id": "1uTlBW_sJd4N"
      },
      "source": [
        "obs. ignore os warnings"
      ]
    },
    {
      "cell_type": "code",
      "metadata": {
        "colab": {
          "base_uri": "https://localhost:8080/"
        },
        "id": "eSIXtsDD-uya",
        "outputId": "d7010bb8-6a6b-4132-ceec-45f70d656b6f"
      },
      "source": [
        "estimator = tf.estimator.LinearRegressor(feature_columns = feat_cols)"
      ],
      "execution_count": null,
      "outputs": [
        {
          "output_type": "stream",
          "text": [
            "INFO:tensorflow:Using default config.\n",
            "WARNING:tensorflow:Using temporary folder as model directory: /tmp/tmph3gj5ntn\n",
            "INFO:tensorflow:Using config: {'_model_dir': '/tmp/tmph3gj5ntn', '_tf_random_seed': None, '_save_summary_steps': 100, '_save_checkpoints_steps': None, '_save_checkpoints_secs': 600, '_session_config': allow_soft_placement: true\n",
            "graph_options {\n",
            "  rewrite_options {\n",
            "    meta_optimizer_iterations: ONE\n",
            "  }\n",
            "}\n",
            ", '_keep_checkpoint_max': 5, '_keep_checkpoint_every_n_hours': 10000, '_log_step_count_steps': 100, '_train_distribute': None, '_device_fn': None, '_protocol': None, '_eval_distribute': None, '_experimental_distribute': None, '_experimental_max_worker_delay_secs': None, '_session_creation_timeout_secs': 7200, '_checkpoint_save_graph_def': True, '_service': None, '_cluster_spec': ClusterSpec({}), '_task_type': 'worker', '_task_id': 0, '_global_id_in_cluster': 0, '_master': '', '_evaluation_master': '', '_is_chief': True, '_num_ps_replicas': 0, '_num_worker_replicas': 1}\n"
          ],
          "name": "stdout"
        }
      ]
    },
    {
      "cell_type": "markdown",
      "metadata": {
        "id": "jei5B4NP-hRF"
      },
      "source": [
        "## Divisão da base para treinamento e teste"
      ]
    },
    {
      "cell_type": "code",
      "metadata": {
        "id": "HM8m-TSQJz5r"
      },
      "source": [
        "from sklearn.model_selection import train_test_split"
      ],
      "execution_count": null,
      "outputs": []
    },
    {
      "cell_type": "code",
      "metadata": {
        "id": "Qn9P61JIKEPu"
      },
      "source": [
        "x_train, x_eval, y_train, y_eval = train_test_split(x_data, y_true, test_size = 0.3, random_state = 101)"
      ],
      "execution_count": null,
      "outputs": []
    },
    {
      "cell_type": "markdown",
      "metadata": {
        "id": "74PyADxbu1CJ"
      },
      "source": [
        "### Como separamos 30% da base para teste, de um milhão de pontos de dados, temos 700000 para treinar o modelo"
      ]
    },
    {
      "cell_type": "code",
      "metadata": {
        "id": "a4u4H_jQrFaI",
        "colab": {
          "base_uri": "https://localhost:8080/"
        },
        "outputId": "cb1473e5-bb96-4a6b-d66f-f1c4eef0cc50"
      },
      "source": [
        "print(x_train.shape)"
      ],
      "execution_count": null,
      "outputs": [
        {
          "output_type": "stream",
          "text": [
            "(700000,)\n"
          ],
          "name": "stdout"
        }
      ]
    },
    {
      "cell_type": "code",
      "metadata": {
        "colab": {
          "base_uri": "https://localhost:8080/"
        },
        "id": "nHKCF2aMvPq0",
        "outputId": "d8038b3d-921c-475c-c284-ea8fab21c41e"
      },
      "source": [
        "print(x_eval.shape)"
      ],
      "execution_count": null,
      "outputs": [
        {
          "output_type": "stream",
          "text": [
            "(300000,)\n"
          ],
          "name": "stdout"
        }
      ]
    },
    {
      "cell_type": "markdown",
      "metadata": {
        "id": "BPjKwjK2vVkX"
      },
      "source": [
        "### Configurando a entrada do estimador"
      ]
    },
    {
      "cell_type": "markdown",
      "metadata": {
        "id": "C2dS7yhZv7cI"
      },
      "source": [
        "A gente precisa ter uma função de entrada, isso funciona como seu dicionário de feed e indicador de tamanho de lote, tudo de uma vez."
      ]
    },
    {
      "cell_type": "code",
      "metadata": {
        "id": "F9jj8653vaYR"
      },
      "source": [
        "input_func = tf.estimator.inputs.numpy_input_fn({'x': x_train }, y_train, batch_size = 8, num_epochs = None, shuffle = True)"
      ],
      "execution_count": null,
      "outputs": []
    },
    {
      "cell_type": "markdown",
      "metadata": {
        "id": "IbmHNkHn9uT0"
      },
      "source": [
        "## Função de entrada dos dados de treinamento"
      ]
    },
    {
      "cell_type": "code",
      "metadata": {
        "id": "GjsW9SRtxU94"
      },
      "source": [
        "train_input_func = tf.estimator.inputs.numpy_input_fn({'x': x_train }, y_train, batch_size = 8, num_epochs = 1000, shuffle = False)"
      ],
      "execution_count": null,
      "outputs": []
    },
    {
      "cell_type": "markdown",
      "metadata": {
        "id": "ekbxjJ89xptE"
      },
      "source": [
        "A razão do shuffle false, é que vamos usar essa função de entrada para avaliar em relação a uma função de entrada de teste."
      ]
    },
    {
      "cell_type": "markdown",
      "metadata": {
        "id": "ef73Eceu90vB"
      },
      "source": [
        "## Função de entrada dos dados de teste"
      ]
    },
    {
      "cell_type": "code",
      "metadata": {
        "id": "fFWy80T0yJp5"
      },
      "source": [
        "eval_input_func = tf.estimator.inputs.numpy_input_fn({'x': x_eval }, y_eval, batch_size = 8, num_epochs = 1000, shuffle = False)"
      ],
      "execution_count": null,
      "outputs": []
    },
    {
      "cell_type": "markdown",
      "metadata": {
        "id": "flNVhMewygFK"
      },
      "source": [
        "## Treinando o estimador."
      ]
    },
    {
      "cell_type": "code",
      "metadata": {
        "colab": {
          "base_uri": "https://localhost:8080/"
        },
        "id": "BzBst1w8ym54",
        "outputId": "f8738ad9-7b59-449d-afc4-92ee212e786d"
      },
      "source": [
        "estimator.train(input_fn = input_func, steps = 1000)"
      ],
      "execution_count": null,
      "outputs": [
        {
          "output_type": "stream",
          "text": [
            "INFO:tensorflow:Calling model_fn.\n",
            "INFO:tensorflow:Done calling model_fn.\n",
            "INFO:tensorflow:Create CheckpointSaverHook.\n"
          ],
          "name": "stdout"
        },
        {
          "output_type": "stream",
          "text": [
            "/usr/local/lib/python3.7/dist-packages/tensorflow/python/keras/engine/base_layer_v1.py:1727: UserWarning: `layer.add_variable` is deprecated and will be removed in a future version. Please use `layer.add_weight` method instead.\n",
            "  warnings.warn('`layer.add_variable` is deprecated and '\n"
          ],
          "name": "stderr"
        },
        {
          "output_type": "stream",
          "text": [
            "INFO:tensorflow:Graph was finalized.\n",
            "INFO:tensorflow:Running local_init_op.\n",
            "INFO:tensorflow:Done running local_init_op.\n",
            "INFO:tensorflow:Calling checkpoint listeners before saving checkpoint 0...\n",
            "INFO:tensorflow:Saving checkpoints for 0 into /tmp/tmph3gj5ntn/model.ckpt.\n",
            "INFO:tensorflow:Calling checkpoint listeners after saving checkpoint 0...\n",
            "INFO:tensorflow:loss = 408.99768, step = 1\n",
            "INFO:tensorflow:global_step/sec: 741.896\n",
            "INFO:tensorflow:loss = 39.96029, step = 101 (0.141 sec)\n",
            "INFO:tensorflow:global_step/sec: 881.82\n",
            "INFO:tensorflow:loss = 28.276405, step = 201 (0.111 sec)\n",
            "INFO:tensorflow:global_step/sec: 960.362\n",
            "INFO:tensorflow:loss = 14.447216, step = 301 (0.103 sec)\n",
            "INFO:tensorflow:global_step/sec: 932.26\n",
            "INFO:tensorflow:loss = 16.589119, step = 401 (0.107 sec)\n",
            "INFO:tensorflow:global_step/sec: 893.643\n",
            "INFO:tensorflow:loss = 19.283585, step = 501 (0.118 sec)\n",
            "INFO:tensorflow:global_step/sec: 847.569\n",
            "INFO:tensorflow:loss = 3.3359241, step = 601 (0.113 sec)\n",
            "WARNING:tensorflow:It seems that global step (tf.train.get_global_step) has not been increased. Current value (could be stable): 603 vs previous value: 603. You could increase the global step by passing tf.train.get_global_step() to Optimizer.apply_gradients or Optimizer.minimize.\n",
            "INFO:tensorflow:global_step/sec: 927.769\n",
            "INFO:tensorflow:loss = 13.619162, step = 701 (0.109 sec)\n",
            "INFO:tensorflow:global_step/sec: 982.701\n",
            "INFO:tensorflow:loss = 10.683283, step = 801 (0.099 sec)\n",
            "INFO:tensorflow:global_step/sec: 952.078\n",
            "INFO:tensorflow:loss = 2.4094017, step = 901 (0.107 sec)\n",
            "INFO:tensorflow:Calling checkpoint listeners before saving checkpoint 1000...\n",
            "INFO:tensorflow:Saving checkpoints for 1000 into /tmp/tmph3gj5ntn/model.ckpt.\n",
            "INFO:tensorflow:Calling checkpoint listeners after saving checkpoint 1000...\n",
            "INFO:tensorflow:Loss for final step: 6.7279816.\n"
          ],
          "name": "stdout"
        },
        {
          "output_type": "execute_result",
          "data": {
            "text/plain": [
              "<tensorflow_estimator.python.estimator.canned.linear.LinearRegressor at 0x7fc30dd4cd10>"
            ]
          },
          "metadata": {
            "tags": []
          },
          "execution_count": 48
        }
      ]
    },
    {
      "cell_type": "markdown",
      "metadata": {
        "id": "yBtXbQWz0_lo"
      },
      "source": [
        "Observe acima, que começamos com uma grande perda e muito rapidamente começou a diminuir."
      ]
    },
    {
      "cell_type": "markdown",
      "metadata": {
        "id": "IlPLDazA1K8o"
      },
      "source": [
        "Pode subir e descer conforme você continua treinando, pode ver que no meio oscila um pouco"
      ]
    },
    {
      "cell_type": "markdown",
      "metadata": {
        "id": "bEJi1f5O1idA"
      },
      "source": [
        "Agora é hora de obter algumas métricas de avaliação e a API do estimador também tem bons métodos para isso"
      ]
    },
    {
      "cell_type": "code",
      "metadata": {
        "colab": {
          "base_uri": "https://localhost:8080/"
        },
        "id": "FcGe4PNC1obY",
        "outputId": "c4cd2c31-4ab3-458f-b570-129b43a1216d"
      },
      "source": [
        "train_metrics = estimator.evaluate(input_fn = train_input_func, steps = 1000)"
      ],
      "execution_count": null,
      "outputs": [
        {
          "output_type": "stream",
          "text": [
            "INFO:tensorflow:Calling model_fn.\n",
            "INFO:tensorflow:Done calling model_fn.\n",
            "INFO:tensorflow:Starting evaluation at 2021-05-18T14:53:13Z\n"
          ],
          "name": "stdout"
        },
        {
          "output_type": "stream",
          "text": [
            "/usr/local/lib/python3.7/dist-packages/tensorflow/python/keras/engine/base_layer_v1.py:1727: UserWarning: `layer.add_variable` is deprecated and will be removed in a future version. Please use `layer.add_weight` method instead.\n",
            "  warnings.warn('`layer.add_variable` is deprecated and '\n"
          ],
          "name": "stderr"
        },
        {
          "output_type": "stream",
          "text": [
            "INFO:tensorflow:Graph was finalized.\n",
            "INFO:tensorflow:Restoring parameters from /tmp/tmph3gj5ntn/model.ckpt-1000\n",
            "INFO:tensorflow:Running local_init_op.\n",
            "INFO:tensorflow:Done running local_init_op.\n",
            "INFO:tensorflow:Evaluation [100/1000]\n",
            "INFO:tensorflow:Evaluation [200/1000]\n",
            "INFO:tensorflow:Evaluation [300/1000]\n",
            "INFO:tensorflow:Evaluation [400/1000]\n",
            "INFO:tensorflow:Evaluation [500/1000]\n",
            "INFO:tensorflow:Evaluation [600/1000]\n",
            "INFO:tensorflow:Evaluation [700/1000]\n",
            "INFO:tensorflow:Evaluation [800/1000]\n",
            "INFO:tensorflow:Evaluation [900/1000]\n",
            "INFO:tensorflow:Evaluation [1000/1000]\n",
            "INFO:tensorflow:Inference Time : 1.13710s\n",
            "INFO:tensorflow:Finished evaluation at 2021-05-18-14:53:14\n",
            "INFO:tensorflow:Saving dict for global step 1000: average_loss = 1.0636837, global_step = 1000, label/mean = 7.503073, loss = 8.50947, prediction/mean = 7.335715\n",
            "INFO:tensorflow:Saving 'checkpoint_path' summary for global step 1000: /tmp/tmph3gj5ntn/model.ckpt-1000\n"
          ],
          "name": "stdout"
        }
      ]
    },
    {
      "cell_type": "markdown",
      "metadata": {
        "id": "IiL_mb2S2CT_"
      },
      "source": [
        "A razão pela qual eu quero esta função de entrada de treino<strong>(train_input_func)</strong> em vez da função de entrada(<strong>input_fn</strong>), é porque como estamos usando ela para avaliar, e é preciso que esteja na ordem, ou seja, <strong>shuffle = False</strong> para que a avaliação seja feita corretamente"
      ]
    },
    {
      "cell_type": "markdown",
      "metadata": {
        "id": "XfzBRC733UV6"
      },
      "source": [
        "## Avaliação da métrica"
      ]
    },
    {
      "cell_type": "code",
      "metadata": {
        "colab": {
          "base_uri": "https://localhost:8080/"
        },
        "id": "1TDAkdCC3HM3",
        "outputId": "8e6a1273-e142-4584-ec3a-dc6234a5bbdd"
      },
      "source": [
        "eval_metrics = estimator.evaluate(input_fn = eval_input_func, steps = 1000)"
      ],
      "execution_count": null,
      "outputs": [
        {
          "output_type": "stream",
          "text": [
            "INFO:tensorflow:Calling model_fn.\n",
            "INFO:tensorflow:Done calling model_fn.\n",
            "INFO:tensorflow:Starting evaluation at 2021-05-18T14:53:15Z\n"
          ],
          "name": "stdout"
        },
        {
          "output_type": "stream",
          "text": [
            "/usr/local/lib/python3.7/dist-packages/tensorflow/python/keras/engine/base_layer_v1.py:1727: UserWarning: `layer.add_variable` is deprecated and will be removed in a future version. Please use `layer.add_weight` method instead.\n",
            "  warnings.warn('`layer.add_variable` is deprecated and '\n"
          ],
          "name": "stderr"
        },
        {
          "output_type": "stream",
          "text": [
            "INFO:tensorflow:Graph was finalized.\n",
            "INFO:tensorflow:Restoring parameters from /tmp/tmph3gj5ntn/model.ckpt-1000\n",
            "INFO:tensorflow:Running local_init_op.\n",
            "INFO:tensorflow:Done running local_init_op.\n",
            "INFO:tensorflow:Evaluation [100/1000]\n",
            "INFO:tensorflow:Evaluation [200/1000]\n",
            "INFO:tensorflow:Evaluation [300/1000]\n",
            "INFO:tensorflow:Evaluation [400/1000]\n",
            "INFO:tensorflow:Evaluation [500/1000]\n",
            "INFO:tensorflow:Evaluation [600/1000]\n",
            "INFO:tensorflow:Evaluation [700/1000]\n",
            "INFO:tensorflow:Evaluation [800/1000]\n",
            "INFO:tensorflow:Evaluation [900/1000]\n",
            "INFO:tensorflow:Evaluation [1000/1000]\n",
            "INFO:tensorflow:Inference Time : 1.16516s\n",
            "INFO:tensorflow:Finished evaluation at 2021-05-18-14:53:16\n",
            "INFO:tensorflow:Saving dict for global step 1000: average_loss = 1.0799035, global_step = 1000, label/mean = 7.4691253, loss = 8.639228, prediction/mean = 7.3147674\n",
            "INFO:tensorflow:Saving 'checkpoint_path' summary for global step 1000: /tmp/tmph3gj5ntn/model.ckpt-1000\n"
          ],
          "name": "stdout"
        }
      ]
    },
    {
      "cell_type": "code",
      "metadata": {
        "colab": {
          "base_uri": "https://localhost:8080/"
        },
        "id": "7HPcmKbT354E",
        "outputId": "34c29c5d-6118-4329-9dc7-0eb6b1fd457b"
      },
      "source": [
        "print('MÉTRICAS DE DADOS DE TREINAMENTO')\n",
        "print(train_metrics)"
      ],
      "execution_count": null,
      "outputs": [
        {
          "output_type": "stream",
          "text": [
            "MÉTRICAS DE DADOS DE TREINAMENTO\n",
            "{'average_loss': 1.0636837, 'label/mean': 7.503073, 'loss': 8.50947, 'prediction/mean': 7.335715, 'global_step': 1000}\n"
          ],
          "name": "stdout"
        }
      ]
    },
    {
      "cell_type": "code",
      "metadata": {
        "colab": {
          "base_uri": "https://localhost:8080/"
        },
        "id": "lmMM8QJP4T6A",
        "outputId": "580dd94a-fbd8-4292-a3f3-580daa5edaba"
      },
      "source": [
        "print('AVALIAÇÃO DAS MÉTRICAS')\n",
        "print(eval_metrics)"
      ],
      "execution_count": null,
      "outputs": [
        {
          "output_type": "stream",
          "text": [
            "AVALIAÇÃO DAS MÉTRICAS\n",
            "{'average_loss': 1.0799035, 'label/mean': 7.4691253, 'loss': 8.639228, 'prediction/mean': 7.3147674, 'global_step': 1000}\n"
          ],
          "name": "stdout"
        }
      ]
    },
    {
      "cell_type": "markdown",
      "metadata": {
        "id": "nuoADUMc4kFU"
      },
      "source": [
        "Um bom indicador pra saber se houve um ajuste excessivo, isto é, um overfitting do modelo, é quando você tem uma perda bem baixa nos dados de treinamento, mas, uma perda alta nos dados de avaliação, ou seja, os dados separados para o teste."
      ]
    },
    {
      "cell_type": "markdown",
      "metadata": {
        "id": "0z3InYiL5UO2"
      },
      "source": [
        "O desejado é que a perda média seja bem próxima nos dois: MÉTRICAS DE DADOS DE TREINAMENTO e AVALIAÇÃO DAS MÉTRICAS"
      ]
    },
    {
      "cell_type": "markdown",
      "metadata": {
        "id": "A_ubIzJX53LP"
      },
      "source": [
        "# Prevendo valores"
      ]
    },
    {
      "cell_type": "markdown",
      "metadata": {
        "id": "SysI9Ob-6W97"
      },
      "source": [
        "Gerando dados novos para testar o modelo"
      ]
    },
    {
      "cell_type": "code",
      "metadata": {
        "id": "dysoVOnT6Vrb"
      },
      "source": [
        "brand_new_data = np.linspace(0, 10, 10)"
      ],
      "execution_count": null,
      "outputs": []
    },
    {
      "cell_type": "code",
      "metadata": {
        "id": "LtKDpcrY56e3"
      },
      "source": [
        "input_fn_predict = tf.estimator.inputs.numpy_input_fn({'x': brand_new_data}, shuffle = False)"
      ],
      "execution_count": null,
      "outputs": []
    },
    {
      "cell_type": "code",
      "metadata": {
        "colab": {
          "base_uri": "https://localhost:8080/"
        },
        "id": "WMxVJdrH6p1h",
        "outputId": "b07de0e4-624c-43b0-daac-589967bc9221"
      },
      "source": [
        "list(estimator.predict(input_fn = input_fn_predict))"
      ],
      "execution_count": null,
      "outputs": [
        {
          "output_type": "stream",
          "text": [
            "INFO:tensorflow:Calling model_fn.\n",
            "INFO:tensorflow:Done calling model_fn.\n",
            "INFO:tensorflow:Graph was finalized.\n",
            "INFO:tensorflow:Restoring parameters from /tmp/tmph3gj5ntn/model.ckpt-1000\n",
            "INFO:tensorflow:Running local_init_op.\n",
            "INFO:tensorflow:Done running local_init_op.\n"
          ],
          "name": "stdout"
        },
        {
          "output_type": "stream",
          "text": [
            "/usr/local/lib/python3.7/dist-packages/tensorflow/python/keras/engine/base_layer_v1.py:1727: UserWarning: `layer.add_variable` is deprecated and will be removed in a future version. Please use `layer.add_weight` method instead.\n",
            "  warnings.warn('`layer.add_variable` is deprecated and '\n"
          ],
          "name": "stderr"
        },
        {
          "output_type": "execute_result",
          "data": {
            "text/plain": [
              "[{'predictions': array([4.4354224], dtype=float32)},\n",
              " {'predictions': array([5.0796423], dtype=float32)},\n",
              " {'predictions': array([5.7238617], dtype=float32)},\n",
              " {'predictions': array([6.3680816], dtype=float32)},\n",
              " {'predictions': array([7.0123014], dtype=float32)},\n",
              " {'predictions': array([7.656521], dtype=float32)},\n",
              " {'predictions': array([8.300741], dtype=float32)},\n",
              " {'predictions': array([8.944961], dtype=float32)},\n",
              " {'predictions': array([9.58918], dtype=float32)},\n",
              " {'predictions': array([10.2334], dtype=float32)}]"
            ]
          },
          "metadata": {
            "tags": []
          },
          "execution_count": 55
        }
      ]
    },
    {
      "cell_type": "code",
      "metadata": {
        "id": "urd1c0ce63po"
      },
      "source": [
        "predictions = []"
      ],
      "execution_count": null,
      "outputs": []
    },
    {
      "cell_type": "code",
      "metadata": {
        "colab": {
          "base_uri": "https://localhost:8080/"
        },
        "id": "Yz3AHHE_7GjR",
        "outputId": "01b23dd1-fe9a-4919-fee0-774f87a5dcd6"
      },
      "source": [
        "for pred in estimator.predict(input_fn = input_fn_predict):\n",
        "  predictions.append(pred['predictions'])"
      ],
      "execution_count": null,
      "outputs": [
        {
          "output_type": "stream",
          "text": [
            "INFO:tensorflow:Calling model_fn.\n"
          ],
          "name": "stdout"
        },
        {
          "output_type": "stream",
          "text": [
            "/usr/local/lib/python3.7/dist-packages/tensorflow/python/keras/engine/base_layer_v1.py:1727: UserWarning: `layer.add_variable` is deprecated and will be removed in a future version. Please use `layer.add_weight` method instead.\n",
            "  warnings.warn('`layer.add_variable` is deprecated and '\n"
          ],
          "name": "stderr"
        },
        {
          "output_type": "stream",
          "text": [
            "INFO:tensorflow:Done calling model_fn.\n",
            "INFO:tensorflow:Graph was finalized.\n",
            "INFO:tensorflow:Restoring parameters from /tmp/tmph3gj5ntn/model.ckpt-1000\n",
            "INFO:tensorflow:Running local_init_op.\n",
            "INFO:tensorflow:Done running local_init_op.\n"
          ],
          "name": "stdout"
        }
      ]
    },
    {
      "cell_type": "code",
      "metadata": {
        "colab": {
          "base_uri": "https://localhost:8080/"
        },
        "id": "VLu66jGx7s3G",
        "outputId": "dc3b3592-ca6f-4ca6-8ecd-45fc5ae61c41"
      },
      "source": [
        "print(predictions)"
      ],
      "execution_count": null,
      "outputs": [
        {
          "output_type": "stream",
          "text": [
            "[array([4.4354224], dtype=float32), array([5.0796423], dtype=float32), array([5.7238617], dtype=float32), array([6.3680816], dtype=float32), array([7.0123014], dtype=float32), array([7.656521], dtype=float32), array([8.300741], dtype=float32), array([8.944961], dtype=float32), array([9.58918], dtype=float32), array([10.2334], dtype=float32)]\n"
          ],
          "name": "stdout"
        }
      ]
    },
    {
      "cell_type": "code",
      "metadata": {
        "colab": {
          "base_uri": "https://localhost:8080/",
          "height": 296
        },
        "id": "Y4m9d0Ag7vCR",
        "outputId": "ee3351e9-8394-4c59-d91f-6fcc256c3036"
      },
      "source": [
        "my_data.sample(n = 250).plot(kind = 'scatter', x = 'X Data', y = 'Y')"
      ],
      "execution_count": null,
      "outputs": [
        {
          "output_type": "execute_result",
          "data": {
            "text/plain": [
              "<matplotlib.axes._subplots.AxesSubplot at 0x7fc30bb60c10>"
            ]
          },
          "metadata": {
            "tags": []
          },
          "execution_count": 59
        },
        {
          "output_type": "display_data",
          "data": {
            "image/png": "[encoded data removed]",
            "text/plain": [
              "<Figure size 432x288 with 1 Axes>"
            ]
          },
          "metadata": {
            "tags": [],
            "needs_background": "light"
          }
        }
      ]
    },
    {
      "cell_type": "code",
      "metadata": {
        "colab": {
          "base_uri": "https://localhost:8080/",
          "height": 296
        },
        "id": "Wrk1BSYP8_5O",
        "outputId": "7939be8c-f5c2-4207-d0fd-9a020f82c603"
      },
      "source": [
        "my_data.sample(n = 250).plot(kind = 'scatter', x = 'X Data', y = 'Y')\n",
        "plt.plot(brand_new_data, predictions, 'r*')"
      ],
      "execution_count": null,
      "outputs": [
        {
          "output_type": "execute_result",
          "data": {
            "text/plain": [
              "[<matplotlib.lines.Line2D at 0x7fc30bc08cd0>]"
            ]
          },
          "metadata": {
            "tags": []
          },
          "execution_count": 60
        },
        {
          "output_type": "display_data",
          "data": {
            "image/png": "[encoded data removed]",
            "text/plain": [
              "<Figure size 432x288 with 1 Axes>"
            ]
          },
          "metadata": {
            "tags": [],
            "needs_background": "light"
          }
        }
      ]
    }
  ]
}