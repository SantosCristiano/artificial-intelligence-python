{
  "nbformat": 4,
  "nbformat_minor": 0,
  "metadata": {
    "colab": {
      "name": "Aula 5 - KNN_eistein",
      "provenance": [],
      "collapsed_sections": []
    },
    "kernelspec": {
      "name": "python3",
      "display_name": "Python 3"
    }
  },
  "cells": [
    {
      "cell_type": "code",
      "metadata": {
        "id": "wttQUqca-d4X",
        "colab": {
          "base_uri": "https://localhost:8080/"
        },
        "outputId": "f3ce7686-3a93-4319-8b25-372980d21df3"
      },
      "source": [
        "import numpy as np \n",
        "import pandas as pd\n",
        "import matplotlib.pyplot as plt\n",
        "from sklearn import preprocessing, metrics\n",
        "from sklearn.model_selection import train_test_split\n",
        "from sklearn.externals.six import StringIO\n",
        "import pydotplus\n",
        "import matplotlib.image as mpimg\n",
        "from sklearn.metrics import classification_report, confusion_matrix\n",
        "from IPython.display import Image \n",
        "from sklearn.neighbors import KNeighborsClassifier\n",
        "\n",
        "\n",
        "# FAZENDO O DOWNLOAD DO DATASET\n",
        "!pip install wget\n",
        "!wget https://raw.githubusercontent.com/diogocortiz/Crash-Course-IA/master/ArvoreDecis%C3%A3o/dataset_einstein.csv\n",
        "\n",
        "\n",
        "# IMPORTANDO O DATASET PARA O DATAFRAME\n",
        "df = pd.read_csv('dataset_einstein.csv', delimiter=';')\n",
        "\n",
        "# MOSTRANDO AS PRIMEIRAS CINCO LINHAS\n",
        "print(df.head(5))\n",
        "\n",
        "count_row = df.shape[0]  # PEGANDO OS NÚMEROS DE REGISTROS\n",
        "count_col = df.shape[1]  # PEGANDO OS NUMEROS DE COLUNAS\n",
        "\n",
        "print(count_row)\n",
        "print(count_col)\n",
        "# REPAREM QUE HÁ MUITOS REGISTROS EM QUE HÁ DADOS FALTANDO NOS CAMPOS \n",
        "\n",
        "\n",
        "\n"
      ],
      "execution_count": 1,
      "outputs": [
        {
          "output_type": "stream",
          "text": [
            "/usr/local/lib/python3.7/dist-packages/sklearn/externals/six.py:31: FutureWarning: The module is deprecated in version 0.21 and will be removed in version 0.23 since we've dropped support for Python 2.7. Please rely on the official version of six (https://pypi.org/project/six/).\n",
            "  \"(https://pypi.org/project/six/).\", FutureWarning)\n"
          ],
          "name": "stderr"
        },
        {
          "output_type": "stream",
          "text": [
            "Collecting wget\n",
            "  Downloading https://files.pythonhosted.org/packages/47/6a/62e288da7bcda82b935ff0c6cfe542970f04e29c756b0e147251b2fb251f/wget-3.2.zip\n",
            "Building wheels for collected packages: wget\n",
            "  Building wheel for wget (setup.py) ... \u001b[?25l\u001b[?25hdone\n",
            "  Created wheel for wget: filename=wget-3.2-cp37-none-any.whl size=9681 sha256=afee4c102a7ef223e9e70f33e54b0369150f18728a7eef01e8db37f83f0d2486\n",
            "  Stored in directory: /root/.cache/pip/wheels/40/15/30/7d8f7cea2902b4db79e3fea550d7d7b85ecb27ef992b618f3f\n",
            "Successfully built wget\n",
            "Installing collected packages: wget\n",
            "Successfully installed wget-3.2\n",
            "--2021-04-15 14:56:27--  https://raw.githubusercontent.com/diogocortiz/Crash-Course-IA/master/ArvoreDecis%C3%A3o/dataset_einstein.csv\n",
            "Resolving raw.githubusercontent.com (raw.githubusercontent.com)... 185.199.110.133, 185.199.109.133, 185.199.108.133, ...\n",
            "Connecting to raw.githubusercontent.com (raw.githubusercontent.com)|185.199.110.133|:443... connected.\n",
            "HTTP request sent, awaiting response... 200 OK\n",
            "Length: 248868 (243K) [text/plain]\n",
            "Saving to: ‘dataset_einstein.csv’\n",
            "\n",
            "dataset_einstein.cs 100%[===================>] 243.04K  --.-KB/s    in 0.06s   \n",
            "\n",
            "2021-04-15 14:56:27 (4.19 MB/s) - ‘dataset_einstein.csv’ saved [248868/248868]\n",
            "\n",
            "        Patient ID  Patient age quantile  ... Proteina C reativa mg/dL  Creatinine\n",
            "0  44477f75e8169d2                    13  ...                      NaN         NaN\n",
            "1  126e9dd13932f68                    17  ...                -0.147895    2.089928\n",
            "2  a46b4402a0e5696                     8  ...                      NaN         NaN\n",
            "3  f7d619a94f97c45                     5  ...                      NaN         NaN\n",
            "4  d9e41465789c2b5                    15  ...                      NaN         NaN\n",
            "\n",
            "[5 rows x 11 columns]\n",
            "5644\n",
            "11\n"
          ],
          "name": "stdout"
        }
      ]
    },
    {
      "cell_type": "markdown",
      "metadata": {
        "id": "xhuKozveEjH0"
      },
      "source": [
        "Precisamos deixar o dataset somente com os registros que tenham todos os campos (para evitar ruídos e distorções)"
      ]
    },
    {
      "cell_type": "code",
      "metadata": {
        "id": "TN1X7zRcEqra",
        "colab": {
          "base_uri": "https://localhost:8080/"
        },
        "outputId": "4160f3c1-c2fc-4e29-b3e0-ddb7bd6f2812"
      },
      "source": [
        "# REMOVENDO OS REGISTROS NOS QUAIS PELO MENOS UM CAMPO ESTÁ EM BRANCO (NAN) \n",
        "df = df.dropna()\n",
        "\n",
        "print(df.head(5))\n",
        "\n",
        "print('Quantidade de campos(colunas): ', df.shape[1])\n",
        "print('Total de registros:', df.shape[0])\n",
        "\n",
        "#VAMOS VERIFICAR SE O BANCO DE DADOS ESTÁ BALANCEADO OU DESBALANCEADO\n",
        "print ('Total de registros negativos: ', df[df['SARS-Cov-2 exam result'] =='negative'].shape[0])\n",
        "print ('Total de registros positivos: ', df[df['SARS-Cov-2 exam result'] =='positive'].shape[0])\n"
      ],
      "execution_count": 2,
      "outputs": [
        {
          "output_type": "stream",
          "text": [
            "         Patient ID  Patient age quantile  ... Proteina C reativa mg/dL  Creatinine\n",
            "1   126e9dd13932f68                    17  ...                -0.147895    2.089928\n",
            "8   8bb9d64f0215244                     1  ...                -0.286986   -1.838623\n",
            "28  fc41531ca4faf1e                    13  ...                -0.434025   -0.701411\n",
            "29  891d0f6449ff3d7                    14  ...                -0.529401    0.332418\n",
            "30  ebdd7c67fcb21b4                     9  ...                 0.545572    1.021638\n",
            "\n",
            "[5 rows x 11 columns]\n",
            "Quantidade de campos(colunas):  11\n",
            "Total de registros: 357\n",
            "Total de registros negativos:  302\n",
            "Total de registros positivos:  55\n"
          ],
          "name": "stdout"
        }
      ]
    },
    {
      "cell_type": "markdown",
      "metadata": {
        "id": "y2hftRNFLsaZ"
      },
      "source": [
        "Precisamos converter o Dataframe para um Array Numpy, que é o tipo de dados que iremos usar no treinamento. Também iremos já separar o Dataset em dois. Um com as features de entrada, e outro com os labels (etiquetas, rótulos do registro).   \n",
        "\n",
        "Neste caso, estamos tentando fazer um classificador para o teste do Covid, neste caso, queremos treinar o nosso modelo com a etiqueta presente no campo 'SARS-Cov-2 exam result'"
      ]
    },
    {
      "cell_type": "code",
      "metadata": {
        "id": "YGrd4eZpErPi",
        "colab": {
          "base_uri": "https://localhost:8080/"
        },
        "outputId": "a8e30420-05c6-4791-8cec-9e046add4ff7"
      },
      "source": [
        "# VAMOS JOGAR AS ETIQUETAS PARA Y\n",
        "Y = df['SARS-Cov-2 exam result'].values \n",
        "print(Y)\n",
        "\n",
        "# X SERÁ A NOSSA MATRIZ COM AS FEATURES\n",
        "# VAMOS PEGAR OS CAMPOS DE TREINAMENTO (Hemoglobin, Leukocytes, Basophils, Proteina C reativa mg/dL)\n",
        "\n",
        "X = df[['Hemoglobin', 'Leukocytes', 'Basophils','Proteina C reativa mg/dL']].values\n",
        "\n",
        "# VAMOS MOSTRAR X \n",
        "print(X)\n",
        "\n",
        "\n"
      ],
      "execution_count": 3,
      "outputs": [
        {
          "output_type": "stream",
          "text": [
            "['negative' 'negative' 'negative' 'negative' 'negative' 'negative'\n",
            " 'negative' 'negative' 'negative' 'negative' 'negative' 'negative'\n",
            " 'negative' 'negative' 'negative' 'negative' 'negative' 'negative'\n",
            " 'negative' 'negative' 'negative' 'negative' 'negative' 'negative'\n",
            " 'negative' 'negative' 'negative' 'negative' 'negative' 'negative'\n",
            " 'negative' 'negative' 'negative' 'negative' 'negative' 'negative'\n",
            " 'negative' 'negative' 'negative' 'negative' 'negative' 'negative'\n",
            " 'negative' 'negative' 'negative' 'negative' 'negative' 'negative'\n",
            " 'negative' 'negative' 'negative' 'negative' 'negative' 'negative'\n",
            " 'negative' 'negative' 'negative' 'negative' 'negative' 'negative'\n",
            " 'negative' 'negative' 'negative' 'negative' 'negative' 'negative'\n",
            " 'negative' 'negative' 'negative' 'negative' 'negative' 'negative'\n",
            " 'negative' 'negative' 'negative' 'negative' 'negative' 'negative'\n",
            " 'negative' 'negative' 'negative' 'negative' 'negative' 'negative'\n",
            " 'negative' 'negative' 'negative' 'positive' 'negative' 'negative'\n",
            " 'negative' 'negative' 'negative' 'negative' 'negative' 'negative'\n",
            " 'negative' 'negative' 'negative' 'negative' 'positive' 'negative'\n",
            " 'negative' 'positive' 'negative' 'negative' 'negative' 'negative'\n",
            " 'negative' 'negative' 'negative' 'negative' 'negative' 'negative'\n",
            " 'negative' 'negative' 'negative' 'positive' 'negative' 'negative'\n",
            " 'negative' 'negative' 'negative' 'negative' 'negative' 'negative'\n",
            " 'negative' 'negative' 'negative' 'negative' 'negative' 'negative'\n",
            " 'negative' 'negative' 'negative' 'negative' 'negative' 'negative'\n",
            " 'negative' 'positive' 'negative' 'negative' 'negative' 'negative'\n",
            " 'negative' 'negative' 'negative' 'negative' 'negative' 'negative'\n",
            " 'negative' 'negative' 'negative' 'negative' 'negative' 'negative'\n",
            " 'negative' 'negative' 'negative' 'negative' 'negative' 'negative'\n",
            " 'negative' 'negative' 'negative' 'negative' 'negative' 'negative'\n",
            " 'positive' 'negative' 'positive' 'negative' 'negative' 'negative'\n",
            " 'negative' 'negative' 'negative' 'negative' 'negative' 'negative'\n",
            " 'negative' 'negative' 'negative' 'negative' 'negative' 'negative'\n",
            " 'negative' 'negative' 'negative' 'negative' 'negative' 'negative'\n",
            " 'negative' 'negative' 'negative' 'negative' 'negative' 'negative'\n",
            " 'negative' 'negative' 'negative' 'negative' 'negative' 'positive'\n",
            " 'negative' 'negative' 'negative' 'negative' 'negative' 'negative'\n",
            " 'negative' 'negative' 'negative' 'negative' 'negative' 'negative'\n",
            " 'negative' 'negative' 'negative' 'negative' 'negative' 'negative'\n",
            " 'negative' 'negative' 'negative' 'negative' 'negative' 'negative'\n",
            " 'negative' 'negative' 'negative' 'negative' 'negative' 'negative'\n",
            " 'positive' 'negative' 'negative' 'negative' 'negative' 'negative'\n",
            " 'negative' 'negative' 'negative' 'negative' 'negative' 'negative'\n",
            " 'positive' 'negative' 'negative' 'positive' 'negative' 'positive'\n",
            " 'negative' 'negative' 'negative' 'negative' 'negative' 'negative'\n",
            " 'negative' 'negative' 'positive' 'negative' 'positive' 'negative'\n",
            " 'negative' 'negative' 'positive' 'negative' 'negative' 'negative'\n",
            " 'negative' 'negative' 'positive' 'negative' 'positive' 'negative'\n",
            " 'negative' 'negative' 'negative' 'negative' 'negative' 'positive'\n",
            " 'negative' 'positive' 'negative' 'positive' 'negative' 'negative'\n",
            " 'negative' 'negative' 'negative' 'positive' 'positive' 'negative'\n",
            " 'positive' 'negative' 'positive' 'positive' 'negative' 'negative'\n",
            " 'positive' 'negative' 'negative' 'negative' 'positive' 'negative'\n",
            " 'positive' 'positive' 'negative' 'positive' 'positive' 'positive'\n",
            " 'negative' 'negative' 'positive' 'positive' 'positive' 'positive'\n",
            " 'positive' 'negative' 'negative' 'positive' 'negative' 'positive'\n",
            " 'positive' 'negative' 'positive' 'negative' 'negative' 'positive'\n",
            " 'positive' 'negative' 'negative' 'positive' 'positive' 'positive'\n",
            " 'negative' 'positive' 'positive' 'negative' 'negative' 'negative'\n",
            " 'negative' 'positive' 'positive' 'positive' 'negative' 'positive'\n",
            " 'positive' 'negative' 'negative' 'positive' 'negative' 'negative'\n",
            " 'negative' 'negative' 'positive']\n",
            "[[-0.02234027 -0.09461035 -0.22376651 -0.14789495]\n",
            " [-0.774212    0.36455047 -0.22376651 -0.28698576]\n",
            " [ 0.85484386 -0.07513076  2.52536511 -0.4340246 ]\n",
            " ...\n",
            " [ 1.10546756 -0.5509882  -0.22376651  0.5614683 ]\n",
            " [-2.77920342 -1.73367476 -1.14014375  0.60915661]\n",
            " [ 0.54156393 -1.28842807 -1.14014375 -0.50357002]]\n"
          ],
          "name": "stdout"
        }
      ]
    },
    {
      "cell_type": "markdown",
      "metadata": {
        "id": "w3KiQHyHNq0w"
      },
      "source": [
        "Agora precisamos dividir o nosso Dataset em dois: um para o treino (80% dos dados) e outro para o teste (20% dos dados)"
      ]
    },
    {
      "cell_type": "code",
      "metadata": {
        "id": "leQhYx_ENzmz"
      },
      "source": [
        "X_treino, X_teste, Y_treino, Y_teste = train_test_split(X, Y, test_size=0.2, random_state=3)\n"
      ],
      "execution_count": 4,
      "outputs": []
    },
    {
      "cell_type": "markdown",
      "metadata": {
        "id": "wCyb_DK0OM3z"
      },
      "source": [
        "Agora vamos criar o e treinar o nosso modelo. Lembram da diferença entre algortimo e modelo? Existe o algortimo de treinamento (que neste caso é o de árvore de decisão) que irá exportar um modelo treinado (que também é um algoritmo)."
      ]
    },
    {
      "cell_type": "code",
      "metadata": {
        "id": "yPawptV4O0Mw"
      },
      "source": [
        "\n",
        "\n",
        "#DEFINE O NÚMERO DE VIZINHOS EM 4\n",
        "K = 4\n",
        "#CRIA O MODELO DE KNN\n",
        "knn_algoritmo = KNeighborsClassifier(n_neighbors = K)\n",
        "\n",
        "#AGORA PRECISAMOS TREINÁ-LO\n",
        "knn_modelo = knn_algoritmo.fit(X_treino, Y_treino)\n",
        "\n",
        "\n"
      ],
      "execution_count": 7,
      "outputs": []
    },
    {
      "cell_type": "markdown",
      "metadata": {
        "id": "Z2rFjNDidvZ3"
      },
      "source": [
        "Vamos testar o modelo, fazendo as predições no dataset de teste."
      ]
    },
    {
      "cell_type": "code",
      "metadata": {
        "id": "tkKuwKH3d0-3",
        "colab": {
          "base_uri": "https://localhost:8080/"
        },
        "outputId": "dcb5069e-b64c-4e70-9777-198e8431474a"
      },
      "source": [
        "# APLICANDO O MODELO NA BASE DE TESTES E ARMAZENDO O RESULTADO EM Y_PREDICOES\n",
        "Y_predicoes = knn_modelo.predict(X_teste)\n",
        "\n",
        "\n",
        "#AVALIAÇÃO DO MODELO \n",
        "#VAMOS AVALIAR O VALOR REAL DO DATASET Y_TESTE COM AS PREDIÇÕES\n",
        "print(\"ACURÁCIA DA ÁRVORE: \", metrics.accuracy_score(Y_teste, Y_predicoes))\n",
        "print (classification_report(Y_teste, Y_predicoes))\n"
      ],
      "execution_count": 8,
      "outputs": [
        {
          "output_type": "stream",
          "text": [
            "ACURÁCIA DA ÁRVORE:  0.8611111111111112\n",
            "              precision    recall  f1-score   support\n",
            "\n",
            "    negative       0.87      0.98      0.92        60\n",
            "    positive       0.75      0.25      0.38        12\n",
            "\n",
            "    accuracy                           0.86        72\n",
            "   macro avg       0.81      0.62      0.65        72\n",
            "weighted avg       0.85      0.86      0.83        72\n",
            "\n"
          ],
          "name": "stdout"
        }
      ]
    },
    {
      "cell_type": "markdown",
      "metadata": {
        "id": "-r8QCHEACTKk"
      },
      "source": [
        "#TESTAR PARA DIFERENTES VALORES DE K"
      ]
    },
    {
      "cell_type": "code",
      "metadata": {
        "colab": {
          "base_uri": "https://localhost:8080/",
          "height": 314
        },
        "id": "XArIYCt5CWrz",
        "outputId": "ebd27efb-affe-45fe-d57a-7f913a54e530"
      },
      "source": [
        "#TESTAR DIFERENTES VALORES PARA K\n",
        "Ks = 100\n",
        "mean_acc = np.zeros((Ks-1))\n",
        "std_acc = np.zeros((Ks-1))\n",
        "ConfustionMx = [];\n",
        "for n in range(1,Ks):\n",
        "\n",
        "    #CRIA O MODELO DE KNN\n",
        "    knn_algoritmo = KNeighborsClassifier(n_neighbors = n)\n",
        "\n",
        "    #AGORA PRECISAMOS TREINÁ-LO\n",
        "    knn_modelo = knn_algoritmo.fit(X_treino, Y_treino)\n",
        "\n",
        "    #FAZ AS PREDIÇÕES\n",
        "    yhat=knn_modelo.predict(X_teste)\n",
        "    mean_acc[n-1] = metrics.accuracy_score(Y_teste, yhat)\n",
        "\n",
        "    \n",
        "    std_acc[n-1]=np.std(yhat==Y_teste)/np.sqrt(yhat.shape[0])\n",
        "\n",
        "mean_acc\n",
        "\n",
        "#GRAFICO PARA OS DIFERENTES VALORES DE K\n",
        "plt.plot(range(1,Ks),mean_acc,'g')\n",
        "plt.fill_between(range(1,Ks),mean_acc - 1 * std_acc,mean_acc + 1 * std_acc, alpha=0.10)\n",
        "plt.legend(('Accuracy ', '+/- 3xstd'))\n",
        "plt.ylabel('Accuracy ')\n",
        "plt.xlabel('Number of Nabors (K)')\n",
        "plt.tight_layout()\n",
        "plt.show()\n",
        "print( \"The best accuracy was with\", mean_acc.max(), \"with k=\", mean_acc.argmax()+1) \n"
      ],
      "execution_count": 13,
      "outputs": [
        {
          "output_type": "display_data",
          "data": {
            "image/png": "[encoded data removed]",
            "text/plain": [
              "<Figure size 432x288 with 1 Axes>"
            ]
          },
          "metadata": {
            "tags": [],
            "needs_background": "light"
          }
        },
        {
          "output_type": "stream",
          "text": [
            "The best accuracy was with 0.8888888888888888 with k= 1\n"
          ],
          "name": "stdout"
        }
      ]
    }
  ]
}