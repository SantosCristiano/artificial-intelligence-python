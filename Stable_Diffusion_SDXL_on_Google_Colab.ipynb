{
  "nbformat": 4,
  "nbformat_minor": 0,
  "metadata": {
    "colab": {
      "provenance": [],
      "gpuType": "T4",
      "include_colab_link": true
    },
    "kernelspec": {
      "name": "python3",
      "display_name": "Python 3"
    },
    "language_info": {
      "name": "python"
    },
    "accelerator": "GPU"
  },
  "cells": [
    {
      "cell_type": "markdown",
      "metadata": {
        "id": "view-in-github",
        "colab_type": "text"
      },
      "source": [
        "<a href=\"https://colab.research.google.com/github/SantosCristiano/artificial-intelligence-python/blob/main/Stable_Diffusion_SDXL_on_Google_Colab.ipynb\" target=\"_parent\"><img src=\"https://colab.research.google.com/assets/colab-badge.svg\" alt=\"Open In Colab\"/></a>"
      ]
    },
    {
      "cell_type": "markdown",
      "source": [
        "# Tutorial Video : https://youtu.be/s2MQqmv6yAg\n",
        "## How To Use Stable Diffusion SD-XL on Colab Full Tutorial / Guide Notebook\n",
        "### [Support me on Patreon please](https://www.patreon.com/SECourses)\n",
        "### [Patreon Exclusive Resources Index](https://github.com/FurkanGozukara/Stable-Diffusion/blob/main/Patreon-Posts-Index.md)\n",
        "### SECourses YouTube : https://www.youtube.com/SECourses\n",
        "### [GitHub Readme File Of SD-XL Tutorials](https://github.com/FurkanGozukara/Stable-Diffusion/blob/main/Tutorials/1-Click-DeepFake-Tutorial.md)\n",
        "\n",
        "Skip the queue free of charge (the free T4 GPU on Colab works, using high RAM and better GPUs make it more stable and faster)!\n",
        "\n",
        "No need access tokens anymore since 1.0 is released publicly.\n",
        "\n"
      ],
      "metadata": {
        "id": "R1Kus3q-Sl9a"
      }
    },
    {
      "cell_type": "code",
      "execution_count": null,
      "metadata": {
        "id": "u9v9keo_Ob1u"
      },
      "outputs": [],
      "source": [
        "!git clone https://github.com/FurkanGozukara/stable-diffusion-xl-demo\n",
        "%cd stable-diffusion-xl-demo\n",
        "\n",
        "!pip install -r requirements3.txt"
      ]
    },
    {
      "cell_type": "markdown",
      "source": [
        "## Run the cell below and click on the public link to view the demo.\n",
        "The link is also sharable as long as the colab is running.\n",
        "\n",
        "Watch above linked tutorial video if you can't make it work."
      ],
      "metadata": {
        "id": "Ukiyc7GkTNY9"
      }
    },
    {
      "cell_type": "code",
      "source": [
        "# Refiner is disabled by default due to a lack of system memory in the free tier of Colab. You can enable it by setting `ENABLE_REFINER=true`.\n",
        "!PYTORCH_CUDA_ALLOC_CONF=max_split_size_mb:128 SHARE=true ENABLE_REFINER=false python app6.py"
      ],
      "metadata": {
        "id": "QqV3rnyiPBhR"
      },
      "execution_count": null,
      "outputs": []
    }
  ]
}