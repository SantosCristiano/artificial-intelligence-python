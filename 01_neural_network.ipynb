{
  "nbformat": 4,
  "nbformat_minor": 0,
  "metadata": {
    "colab": {
      "provenance": [],
      "include_colab_link": true
    },
    "kernelspec": {
      "name": "python3",
      "display_name": "Python 3"
    }
  },
  "cells": [
    {
      "cell_type": "markdown",
      "metadata": {
        "id": "view-in-github",
        "colab_type": "text"
      },
      "source": [
        "<a href=\"https://colab.research.google.com/github/SantosCristiano/artificial-intelligence-python/blob/main/01_neural_network.ipynb\" target=\"_parent\"><img src=\"https://colab.research.google.com/assets/colab-badge.svg\" alt=\"Open In Colab\"/></a>"
      ]
    },
    {
      "cell_type": "markdown",
      "metadata": {
        "id": "LWpFfw10Gq1J"
      },
      "source": [
        "# Tensorflow 1"
      ]
    },
    {
      "cell_type": "markdown",
      "metadata": {
        "id": "VkJ5kYRgT5Im"
      },
      "source": [
        "## Aula 13 - Tensor Flow - Redes Neurais - Regressão Simples"
      ]
    },
    {
      "cell_type": "markdown",
      "metadata": {
        "id": "PeIYprAwjwdI"
      },
      "source": [
        "### Importando o tensorflow e o numpy"
      ]
    },
    {
      "cell_type": "markdown",
      "metadata": {
        "id": "RE-mLvP4cGA-"
      },
      "source": []
    },
    {
      "cell_type": "code",
      "metadata": {
        "id": "sTkYG56CGy1T",
        "colab": {
          "base_uri": "https://localhost:8080/"
        },
        "outputId": "70b71754-b2c5-426d-90b5-048dad9ae93a"
      },
      "source": [
        "import tensorflow.compat.v1 as tf\n",
        "tf.disable_v2_behavior()\n",
        "import numpy as np"
      ],
      "execution_count": 1,
      "outputs": [
        {
          "output_type": "stream",
          "name": "stderr",
          "text": [
            "WARNING:tensorflow:From /usr/local/lib/python3.10/dist-packages/tensorflow/python/compat/v2_compat.py:108: disable_resource_variables (from tensorflow.python.ops.variable_scope) is deprecated and will be removed in a future version.\n",
            "Instructions for updating:\n",
            "non-resource variables are not supported in the long term\n"
          ]
        }
      ]
    },
    {
      "cell_type": "code",
      "metadata": {
        "id": "etl1MIRia1Db"
      },
      "source": [
        "n_features = 10\n",
        "n_dense_neurons = 3"
      ],
      "execution_count": 2,
      "outputs": []
    },
    {
      "cell_type": "markdown",
      "metadata": {
        "id": "85aZVIccb4__"
      },
      "source": [
        "### O segundo parâmetro de placeholder é o formato, Onde tem o <strong>None</strong>, são os registros, ou seja, as linhas e <strong>n_features</strong> são as colunas."
      ]
    },
    {
      "cell_type": "code",
      "metadata": {
        "id": "b1WDz3vEbrkS"
      },
      "source": [
        "x = tf.placeholder(tf.float32, (None, n_features))"
      ],
      "execution_count": 3,
      "outputs": []
    },
    {
      "cell_type": "markdown",
      "metadata": {
        "id": "z6OJNZQbdDt-"
      },
      "source": [
        "### Variáveis <strong>W</strong>(Weight) e <strong>b</strong>(Bias)"
      ]
    },
    {
      "cell_type": "code",
      "metadata": {
        "colab": {
          "base_uri": "https://localhost:8080/"
        },
        "id": "Cr0d88ZLv76M",
        "outputId": "0a5a820d-1ca4-400b-b0af-0c01a0001c7c"
      },
      "source": [
        "b = tf.Variable(tf.ones([n_dense_neurons]))\n",
        "print(b)"
      ],
      "execution_count": 4,
      "outputs": [
        {
          "output_type": "stream",
          "name": "stdout",
          "text": [
            "<tf.Variable 'Variable:0' shape=(3,) dtype=float32_ref>\n"
          ]
        }
      ]
    },
    {
      "cell_type": "code",
      "metadata": {
        "id": "YO44IAfSdkoE"
      },
      "source": [
        "W = tf.Variable(tf.random_normal([n_features, n_dense_neurons]))\n",
        "b = tf.Variable(tf.ones([n_dense_neurons]))"
      ],
      "execution_count": 5,
      "outputs": []
    },
    {
      "cell_type": "code",
      "metadata": {
        "id": "PUk5uwLdfdXJ"
      },
      "source": [
        "xW = tf.matmul(x, W)"
      ],
      "execution_count": 6,
      "outputs": []
    },
    {
      "cell_type": "code",
      "metadata": {
        "id": "zW2i6pv5f_Kz"
      },
      "source": [
        "z = tf.add(xW, b)"
      ],
      "execution_count": 7,
      "outputs": []
    },
    {
      "cell_type": "markdown",
      "metadata": {
        "id": "FHqVp6vjgMBI"
      },
      "source": [
        "### Vamos passar pela função de ativação"
      ]
    },
    {
      "cell_type": "code",
      "metadata": {
        "id": "gn0MkRulgQlE"
      },
      "source": [
        "a = tf.sigmoid(z)"
      ],
      "execution_count": 8,
      "outputs": []
    },
    {
      "cell_type": "markdown",
      "metadata": {
        "id": "0Gkpo00agiBK"
      },
      "source": [
        "## Execução"
      ]
    },
    {
      "cell_type": "code",
      "metadata": {
        "id": "PlGkAy_8gfuf"
      },
      "source": [
        "init = tf.global_variables_initializer()"
      ],
      "execution_count": 9,
      "outputs": []
    },
    {
      "cell_type": "code",
      "metadata": {
        "id": "x0C2aw3IgwMJ"
      },
      "source": [
        "with tf.Session() as sess:\n",
        "  sess.run(init)\n",
        "  layer_out = sess.run(a, feed_dict={x: np.random.random([1, n_features])})"
      ],
      "execution_count": 10,
      "outputs": []
    },
    {
      "cell_type": "markdown",
      "metadata": {
        "id": "CgNxTBjrh0Pa"
      },
      "source": [
        "### Resultado, números entre 0 e 1, porque estamos usando a função de ativação Sigmoid"
      ]
    },
    {
      "cell_type": "code",
      "metadata": {
        "colab": {
          "base_uri": "https://localhost:8080/"
        },
        "id": "cBJbVWxshei9",
        "outputId": "2ed74320-7d7f-4565-d392-4c696b26e730"
      },
      "source": [
        "print(layer_out)"
      ],
      "execution_count": 11,
      "outputs": [
        {
          "output_type": "stream",
          "name": "stdout",
          "text": [
            "[[0.8939974  0.32485622 0.67734665]]\n"
          ]
        }
      ]
    },
    {
      "cell_type": "markdown",
      "metadata": {
        "id": "62HjdJjmkl5O"
      },
      "source": [
        "### A execução aconteceu uma vez"
      ]
    },
    {
      "cell_type": "markdown",
      "metadata": {
        "id": "QbwsdQXekra8"
      },
      "source": [
        "Mas, a execução de uma rede neural tem que voltar (backpropagation) e ajustar os pesos e os vieses baseado em uma função de custo."
      ]
    },
    {
      "cell_type": "markdown",
      "metadata": {
        "id": "IfgdBWhckQjY"
      },
      "source": [
        "### Os valores de <strong>W</strong> e <strong>b</strong> devem sempre ser ajustados."
      ]
    },
    {
      "cell_type": "markdown",
      "metadata": {
        "id": "cFOZF3H9lqxv"
      },
      "source": [
        "# Regressão simples"
      ]
    },
    {
      "cell_type": "markdown",
      "metadata": {
        "id": "oHAn-Ky8UVrG"
      },
      "source": [
        "### Para esse exemplo, precisamos de dados distribuídos de forma linear para nosso modelo prever os valores depois"
      ]
    },
    {
      "cell_type": "markdown",
      "metadata": {
        "id": "uDc4aPvpU6Au"
      },
      "source": [
        "O <strong>np.random.uniform(-1.5, 1.5, 10)</strong> é para adicionar ruído aos dados de <strong>x_data</strong> e <strong>y_label</strong>"
      ]
    },
    {
      "cell_type": "code",
      "metadata": {
        "id": "ALLXteCDlYSL"
      },
      "source": [
        "x_data = np.linspace(0, 10, 10) + np.random.uniform(-1.5, 1.5, 10)"
      ],
      "execution_count": 12,
      "outputs": []
    },
    {
      "cell_type": "code",
      "metadata": {
        "colab": {
          "base_uri": "https://localhost:8080/"
        },
        "id": "I7Ak4IiimHrJ",
        "outputId": "1dc81a3a-71b7-4782-977c-3d44a5f6033c"
      },
      "source": [
        "x_data"
      ],
      "execution_count": 13,
      "outputs": [
        {
          "output_type": "execute_result",
          "data": {
            "text/plain": [
              "array([-0.2525924 ,  0.43690533,  1.8204763 ,  3.34439361,  4.03487312,\n",
              "        6.25797474,  5.40234547,  6.68824865,  8.65566813, 10.33932449])"
            ]
          },
          "metadata": {},
          "execution_count": 13
        }
      ]
    },
    {
      "cell_type": "code",
      "metadata": {
        "id": "BTyID4ZnmIpY"
      },
      "source": [
        "y_label = np.linspace(0, 10, 10) + np.random.uniform(-1.5, 1.5, 10)"
      ],
      "execution_count": 14,
      "outputs": []
    },
    {
      "cell_type": "code",
      "metadata": {
        "colab": {
          "base_uri": "https://localhost:8080/"
        },
        "id": "A5TRKfNtnO21",
        "outputId": "6efe152b-6bc9-452c-935c-8fb7dc84891d"
      },
      "source": [
        "y_label"
      ],
      "execution_count": 15,
      "outputs": [
        {
          "output_type": "execute_result",
          "data": {
            "text/plain": [
              "array([1.29067308, 2.40270607, 3.39333533, 3.67169622, 5.35572293,\n",
              "       5.17626835, 7.78839723, 8.6974606 , 7.69656399, 8.60107153])"
            ]
          },
          "metadata": {},
          "execution_count": 15
        }
      ]
    },
    {
      "cell_type": "code",
      "metadata": {
        "id": "HcUv8ncgnT5Y"
      },
      "source": [
        "import matplotlib .pyplot as plt\n",
        "%matplotlib inline"
      ],
      "execution_count": 16,
      "outputs": []
    },
    {
      "cell_type": "markdown",
      "metadata": {
        "id": "xd2m6-2gVZpA"
      },
      "source": [
        "## Plotando os dados <strong>x_data</strong> e <strong>y_label</strong>"
      ]
    },
    {
      "cell_type": "code",
      "metadata": {
        "colab": {
          "base_uri": "https://localhost:8080/",
          "height": 449
        },
        "id": "Xl3SZW81ncF8",
        "outputId": "7b3d1796-d459-48e0-f3c2-0362eb329adc"
      },
      "source": [
        "plt.plot(x_data, y_label, '*')"
      ],
      "execution_count": 17,
      "outputs": [
        {
          "output_type": "execute_result",
          "data": {
            "text/plain": [
              "[<matplotlib.lines.Line2D at 0x78eaf7f5cca0>]"
            ]
          },
          "metadata": {},
          "execution_count": 17
        },
        {
          "output_type": "display_data",
          "data": {
            "text/plain": [
              "<Figure size 640x480 with 1 Axes>"
            ],
            "image/png": "[encoded data removed]"
          },
          "metadata": {}
        }
      ]
    },
    {
      "cell_type": "markdown",
      "metadata": {
        "id": "6nfA6r01nnLY"
      },
      "source": [
        "## Criando a rede neural <br />\n",
        "Queremos que a rede resolva a seguinte equação: <br />\n",
        "<strong>y = mx + b</strong>\n",
        "\n"
      ]
    },
    {
      "cell_type": "markdown",
      "metadata": {
        "id": "YzeTTxJJVpzj"
      },
      "source": [
        "### Essa linha é só para gerar dois números aleatórios, para colar logo abaixo"
      ]
    },
    {
      "cell_type": "code",
      "metadata": {
        "colab": {
          "base_uri": "https://localhost:8080/"
        },
        "id": "X8NjaLcYSARU",
        "outputId": "4e9b5f86-9b9e-465b-ce4d-1333747f2f2c"
      },
      "source": [
        "np.random.rand(2)"
      ],
      "execution_count": 18,
      "outputs": [
        {
          "output_type": "execute_result",
          "data": {
            "text/plain": [
              "array([0.80843667, 0.39543033])"
            ]
          },
          "metadata": {},
          "execution_count": 18
        }
      ]
    },
    {
      "cell_type": "markdown",
      "metadata": {
        "id": "bmnh0jp-VzwD"
      },
      "source": [
        "## Usamos os números gerados na célula acima, para atribuir as variáveis <strong>m</strong> e <strong>b</strong>"
      ]
    },
    {
      "cell_type": "code",
      "metadata": {
        "id": "yXLRBV70nhHr"
      },
      "source": [
        "m = tf.Variable(0.61)\n",
        "b = tf.Variable(0.51)"
      ],
      "execution_count": 19,
      "outputs": []
    },
    {
      "cell_type": "markdown",
      "metadata": {
        "id": "KZjznRJHWcSD"
      },
      "source": [
        "## Calculando o erro"
      ]
    },
    {
      "cell_type": "markdown",
      "metadata": {
        "id": "1WDQV1uuWkJx"
      },
      "source": [
        "<strong>y_hat</strong> é o valor predito<br />\n",
        "O <strong>erro</strong> é calculado fazendo a diferença entre o valor correto(<strong>y</strong>) e o valor predito(<strong>y_hat</strong>) elevado a <strong>2</strong>"
      ]
    },
    {
      "cell_type": "code",
      "metadata": {
        "id": "sZmt_DvTSWJO"
      },
      "source": [
        "error = 0\n",
        "for x, y in zip(x_data, y_label):\n",
        "  y_hat = m * x + b\n",
        "  error += (y - y_hat) ** 2"
      ],
      "execution_count": 20,
      "outputs": []
    },
    {
      "cell_type": "markdown",
      "metadata": {
        "id": "M_8Dj-pRYO2U"
      },
      "source": [
        "## Agora precisamos minimizar o erro"
      ]
    },
    {
      "cell_type": "markdown",
      "metadata": {
        "id": "c0bX3yPFYU14"
      },
      "source": [
        "### para isso vamos fazer uma descida de gradiente"
      ]
    },
    {
      "cell_type": "code",
      "metadata": {
        "id": "Jf7at4koSvuy"
      },
      "source": [
        "optimizer = tf.train.GradientDescentOptimizer(learning_rate=0.001)\n",
        "train = optimizer.minimize(error)"
      ],
      "execution_count": 21,
      "outputs": []
    },
    {
      "cell_type": "markdown",
      "metadata": {
        "id": "77i5B6IjY57r"
      },
      "source": [
        "## Execução"
      ]
    },
    {
      "cell_type": "code",
      "metadata": {
        "id": "uXmJzvyvTW-X"
      },
      "source": [
        "init = tf.global_variables_initializer()"
      ],
      "execution_count": 22,
      "outputs": []
    },
    {
      "cell_type": "code",
      "metadata": {
        "id": "MQDl6vlJTab9"
      },
      "source": [
        "with tf.Session() as sess:\n",
        "  sess.run(init)\n",
        "  training_steps = 100\n",
        "  for i in range(training_steps):\n",
        "    sess.run(train)\n",
        "  final_slope, final_intercept = sess.run([m, b])"
      ],
      "execution_count": 23,
      "outputs": []
    },
    {
      "cell_type": "code",
      "metadata": {
        "id": "cOLfsnLgnzwp"
      },
      "source": [
        "x_test = np.linspace(-1, 11, 10)\n",
        "# y = mx + b\n",
        "y_pred_plot = final_slope * x_test + final_intercept"
      ],
      "execution_count": 24,
      "outputs": []
    },
    {
      "cell_type": "code",
      "metadata": {
        "colab": {
          "base_uri": "https://localhost:8080/",
          "height": 447
        },
        "id": "R3AojXzmod_-",
        "outputId": "eb369da4-f103-4142-d06e-5468a01f72c2"
      },
      "source": [
        "plt.plot(x_test, y_pred_plot, 'red')\n",
        "plt.plot(x_data, y_label, '*')"
      ],
      "execution_count": 25,
      "outputs": [
        {
          "output_type": "execute_result",
          "data": {
            "text/plain": [
              "[<matplotlib.lines.Line2D at 0x78eaf55461d0>]"
            ]
          },
          "metadata": {},
          "execution_count": 25
        },
        {
          "output_type": "display_data",
          "data": {
            "text/plain": [
              "<Figure size 640x480 with 1 Axes>"
            ],
            "image/png": "[encoded data removed]"
          },
          "metadata": {}
        }
      ]
    }
  ]
}